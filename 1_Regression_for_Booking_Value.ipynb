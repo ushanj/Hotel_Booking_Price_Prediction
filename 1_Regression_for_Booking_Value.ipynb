{
 "cells": [
  {
   "cell_type": "code",
   "execution_count": 1,
   "id": "df6ccce6",
   "metadata": {},
   "outputs": [],
   "source": [
    "import pandas as pd\n",
    "from matplotlib import pyplot as plt\n",
    "import numpy as np\n",
    "%matplotlib inline\n"
   ]
  },
  {
   "cell_type": "code",
   "execution_count": 2,
   "id": "07a9b715",
   "metadata": {},
   "outputs": [],
   "source": [
    "import plotly.express as px\n",
    "import seaborn as sns\n",
    "import plotly.graph_objects as go"
   ]
  },
  {
   "cell_type": "code",
   "execution_count": 3,
   "id": "66294686",
   "metadata": {},
   "outputs": [],
   "source": [
    "from plotly.subplots import make_subplots"
   ]
  },
  {
   "cell_type": "code",
   "execution_count": null,
   "id": "e9599780",
   "metadata": {},
   "outputs": [],
   "source": []
  },
  {
   "cell_type": "code",
   "execution_count": 4,
   "id": "df74db84",
   "metadata": {},
   "outputs": [],
   "source": [
    "df = pd.read_csv(\"Travel_scrape.csv\")"
   ]
  },
  {
   "cell_type": "code",
   "execution_count": 5,
   "id": "36a2499d",
   "metadata": {},
   "outputs": [
    {
     "data": {
      "text/html": [
       "<div>\n",
       "<style scoped>\n",
       "    .dataframe tbody tr th:only-of-type {\n",
       "        vertical-align: middle;\n",
       "    }\n",
       "\n",
       "    .dataframe tbody tr th {\n",
       "        vertical-align: top;\n",
       "    }\n",
       "\n",
       "    .dataframe thead th {\n",
       "        text-align: right;\n",
       "    }\n",
       "</style>\n",
       "<table border=\"1\" class=\"dataframe\">\n",
       "  <thead>\n",
       "    <tr style=\"text-align: right;\">\n",
       "      <th></th>\n",
       "      <th>Hotel</th>\n",
       "      <th>Room Type</th>\n",
       "      <th>Rate</th>\n",
       "      <th>Check-in Date</th>\n",
       "      <th>Search Date</th>\n",
       "      <th>Search Time</th>\n",
       "      <th>Unnamed: 6</th>\n",
       "    </tr>\n",
       "  </thead>\n",
       "  <tbody>\n",
       "    <tr>\n",
       "      <th>0</th>\n",
       "      <td>2100 SqFt Penthouse Suite W/ Strip Views! POOL...</td>\n",
       "      <td>Penthouse Apartment</td>\n",
       "      <td>US$254</td>\n",
       "      <td>2022-08-03</td>\n",
       "      <td>2022-08-03</td>\n",
       "      <td>0:00:00</td>\n",
       "      <td>NaN</td>\n",
       "    </tr>\n",
       "    <tr>\n",
       "      <th>1</th>\n",
       "      <td>2100 SqFt Penthouse Suite W/ Strip Views! POOL...</td>\n",
       "      <td>Penthouse Apartment</td>\n",
       "      <td>US$254</td>\n",
       "      <td>2022-08-03</td>\n",
       "      <td>2022-08-03</td>\n",
       "      <td>1:00:00</td>\n",
       "      <td>NaN</td>\n",
       "    </tr>\n",
       "    <tr>\n",
       "      <th>2</th>\n",
       "      <td>2100 SqFt Penthouse Suite W/ Strip Views! POOL...</td>\n",
       "      <td>Penthouse Apartment</td>\n",
       "      <td>US$254</td>\n",
       "      <td>2022-08-03</td>\n",
       "      <td>2022-08-03</td>\n",
       "      <td>2:00:00</td>\n",
       "      <td>NaN</td>\n",
       "    </tr>\n",
       "    <tr>\n",
       "      <th>3</th>\n",
       "      <td>2100 SqFt Penthouse Suite W/ Strip Views! POOL...</td>\n",
       "      <td>Penthouse Apartment</td>\n",
       "      <td>US$254</td>\n",
       "      <td>2022-08-03</td>\n",
       "      <td>2022-08-03</td>\n",
       "      <td>3:00:00</td>\n",
       "      <td>NaN</td>\n",
       "    </tr>\n",
       "    <tr>\n",
       "      <th>4</th>\n",
       "      <td>2100 SqFt Penthouse Suite W/ Strip Views! POOL...</td>\n",
       "      <td>Penthouse Apartment</td>\n",
       "      <td>US$254</td>\n",
       "      <td>2022-08-03</td>\n",
       "      <td>2022-08-03</td>\n",
       "      <td>4:00:00</td>\n",
       "      <td>NaN</td>\n",
       "    </tr>\n",
       "    <tr>\n",
       "      <th>5</th>\n",
       "      <td>2100 SqFt Penthouse Suite W/ Strip Views! POOL...</td>\n",
       "      <td>Penthouse Apartment</td>\n",
       "      <td>US$254</td>\n",
       "      <td>2022-08-03</td>\n",
       "      <td>2022-08-03</td>\n",
       "      <td>5:00:00</td>\n",
       "      <td>NaN</td>\n",
       "    </tr>\n",
       "    <tr>\n",
       "      <th>6</th>\n",
       "      <td>2100 SqFt Penthouse Suite W/ Strip Views! POOL...</td>\n",
       "      <td>Penthouse Apartment</td>\n",
       "      <td>US$254</td>\n",
       "      <td>2022-08-03</td>\n",
       "      <td>2022-08-03</td>\n",
       "      <td>6:00:00</td>\n",
       "      <td>NaN</td>\n",
       "    </tr>\n",
       "    <tr>\n",
       "      <th>7</th>\n",
       "      <td>2100 SqFt Penthouse Suite W/ Strip Views! POOL...</td>\n",
       "      <td>Penthouse Apartment</td>\n",
       "      <td>US$254</td>\n",
       "      <td>2022-08-03</td>\n",
       "      <td>2022-08-03</td>\n",
       "      <td>7:00:00</td>\n",
       "      <td>NaN</td>\n",
       "    </tr>\n",
       "    <tr>\n",
       "      <th>8</th>\n",
       "      <td>2100 SqFt Penthouse Suite W/ Strip Views! POOL...</td>\n",
       "      <td>Penthouse Apartment</td>\n",
       "      <td>US$254</td>\n",
       "      <td>2022-08-03</td>\n",
       "      <td>2022-08-03</td>\n",
       "      <td>8:00:00</td>\n",
       "      <td>NaN</td>\n",
       "    </tr>\n",
       "    <tr>\n",
       "      <th>9</th>\n",
       "      <td>2100 SqFt Penthouse Suite W/ Strip Views! POOL...</td>\n",
       "      <td>Penthouse Apartment</td>\n",
       "      <td>US$92</td>\n",
       "      <td>2022-08-03</td>\n",
       "      <td>2022-08-03</td>\n",
       "      <td>9:00:00</td>\n",
       "      <td>NaN</td>\n",
       "    </tr>\n",
       "  </tbody>\n",
       "</table>\n",
       "</div>"
      ],
      "text/plain": [
       "                                               Hotel            Room Type  \\\n",
       "0  2100 SqFt Penthouse Suite W/ Strip Views! POOL...  Penthouse Apartment   \n",
       "1  2100 SqFt Penthouse Suite W/ Strip Views! POOL...  Penthouse Apartment   \n",
       "2  2100 SqFt Penthouse Suite W/ Strip Views! POOL...  Penthouse Apartment   \n",
       "3  2100 SqFt Penthouse Suite W/ Strip Views! POOL...  Penthouse Apartment   \n",
       "4  2100 SqFt Penthouse Suite W/ Strip Views! POOL...  Penthouse Apartment   \n",
       "5  2100 SqFt Penthouse Suite W/ Strip Views! POOL...  Penthouse Apartment   \n",
       "6  2100 SqFt Penthouse Suite W/ Strip Views! POOL...  Penthouse Apartment   \n",
       "7  2100 SqFt Penthouse Suite W/ Strip Views! POOL...  Penthouse Apartment   \n",
       "8  2100 SqFt Penthouse Suite W/ Strip Views! POOL...  Penthouse Apartment   \n",
       "9  2100 SqFt Penthouse Suite W/ Strip Views! POOL...  Penthouse Apartment   \n",
       "\n",
       "     Rate Check-in Date Search Date Search Time  Unnamed: 6  \n",
       "0  US$254    2022-08-03  2022-08-03     0:00:00         NaN  \n",
       "1  US$254    2022-08-03  2022-08-03     1:00:00         NaN  \n",
       "2  US$254    2022-08-03  2022-08-03     2:00:00         NaN  \n",
       "3  US$254    2022-08-03  2022-08-03     3:00:00         NaN  \n",
       "4  US$254    2022-08-03  2022-08-03     4:00:00         NaN  \n",
       "5  US$254    2022-08-03  2022-08-03     5:00:00         NaN  \n",
       "6  US$254    2022-08-03  2022-08-03     6:00:00         NaN  \n",
       "7  US$254    2022-08-03  2022-08-03     7:00:00         NaN  \n",
       "8  US$254    2022-08-03  2022-08-03     8:00:00         NaN  \n",
       "9   US$92    2022-08-03  2022-08-03     9:00:00         NaN  "
      ]
     },
     "execution_count": 5,
     "metadata": {},
     "output_type": "execute_result"
    }
   ],
   "source": [
    "df.head(10)"
   ]
  },
  {
   "cell_type": "code",
   "execution_count": 6,
   "id": "1ed7ba8c",
   "metadata": {},
   "outputs": [
    {
     "data": {
      "text/plain": [
       "str"
      ]
     },
     "execution_count": 6,
     "metadata": {},
     "output_type": "execute_result"
    }
   ],
   "source": [
    "# df.drop('Unnamed: 6', axis='columns', inplace=True)\n",
    "# df.head()\n",
    "type(df['Rate'][0])"
   ]
  },
  {
   "cell_type": "code",
   "execution_count": 7,
   "id": "4c9f2257",
   "metadata": {},
   "outputs": [],
   "source": [
    "df['Check-in Date'] = pd.to_datetime(df['Check-in Date'])\n",
    "df['Search Date'] = pd.to_datetime(df['Search Date'])"
   ]
  },
  {
   "cell_type": "code",
   "execution_count": 8,
   "id": "fb112e64",
   "metadata": {},
   "outputs": [
    {
     "data": {
      "text/plain": [
       "Hotel                    object\n",
       "Room Type                object\n",
       "Rate                     object\n",
       "Check-in Date    datetime64[ns]\n",
       "Search Date      datetime64[ns]\n",
       "Search Time              object\n",
       "Unnamed: 6              float64\n",
       "dtype: object"
      ]
     },
     "execution_count": 8,
     "metadata": {},
     "output_type": "execute_result"
    }
   ],
   "source": [
    "df.dtypes"
   ]
  },
  {
   "cell_type": "code",
   "execution_count": 9,
   "id": "3fc0ca57",
   "metadata": {},
   "outputs": [
    {
     "data": {
      "text/plain": [
       "7"
      ]
     },
     "execution_count": 9,
     "metadata": {},
     "output_type": "execute_result"
    }
   ],
   "source": [
    "len(df['Hotel'].unique())"
   ]
  },
  {
   "cell_type": "code",
   "execution_count": 10,
   "id": "85aa8734",
   "metadata": {},
   "outputs": [
    {
     "data": {
      "text/plain": [
       "Hotel               0\n",
       "Room Type           0\n",
       "Rate                0\n",
       "Check-in Date       0\n",
       "Search Date         0\n",
       "Search Time         0\n",
       "Unnamed: 6       8051\n",
       "dtype: int64"
      ]
     },
     "execution_count": 10,
     "metadata": {},
     "output_type": "execute_result"
    }
   ],
   "source": [
    "res = df.isna().sum()\n",
    "res"
   ]
  },
  {
   "cell_type": "code",
   "execution_count": 11,
   "id": "feb14d34",
   "metadata": {},
   "outputs": [],
   "source": [
    "df['Date_gap'] = df['Check-in Date'] - df['Search Date']"
   ]
  },
  {
   "cell_type": "code",
   "execution_count": 12,
   "id": "eac00606",
   "metadata": {},
   "outputs": [
    {
     "data": {
      "text/html": [
       "<div>\n",
       "<style scoped>\n",
       "    .dataframe tbody tr th:only-of-type {\n",
       "        vertical-align: middle;\n",
       "    }\n",
       "\n",
       "    .dataframe tbody tr th {\n",
       "        vertical-align: top;\n",
       "    }\n",
       "\n",
       "    .dataframe thead th {\n",
       "        text-align: right;\n",
       "    }\n",
       "</style>\n",
       "<table border=\"1\" class=\"dataframe\">\n",
       "  <thead>\n",
       "    <tr style=\"text-align: right;\">\n",
       "      <th></th>\n",
       "      <th>Hotel</th>\n",
       "      <th>Room Type</th>\n",
       "      <th>Rate</th>\n",
       "      <th>Check-in Date</th>\n",
       "      <th>Search Date</th>\n",
       "      <th>Search Time</th>\n",
       "      <th>Unnamed: 6</th>\n",
       "      <th>Date_gap</th>\n",
       "    </tr>\n",
       "  </thead>\n",
       "  <tbody>\n",
       "    <tr>\n",
       "      <th>8046</th>\n",
       "      <td>Tuscany Suites &amp; Casino</td>\n",
       "      <td>Executive Suite</td>\n",
       "      <td>US$121</td>\n",
       "      <td>2022-08-20</td>\n",
       "      <td>2022-08-07</td>\n",
       "      <td>21:00:00</td>\n",
       "      <td>NaN</td>\n",
       "      <td>13 days</td>\n",
       "    </tr>\n",
       "    <tr>\n",
       "      <th>8047</th>\n",
       "      <td>Tuscany Suites &amp; Casino</td>\n",
       "      <td>Executive Suite</td>\n",
       "      <td>US$139</td>\n",
       "      <td>2022-08-20</td>\n",
       "      <td>2022-08-07</td>\n",
       "      <td>22:00:00</td>\n",
       "      <td>NaN</td>\n",
       "      <td>13 days</td>\n",
       "    </tr>\n",
       "    <tr>\n",
       "      <th>8048</th>\n",
       "      <td>Tuscany Suites &amp; Casino</td>\n",
       "      <td>Deluxe Executive King Non-Smoking Suite</td>\n",
       "      <td>US$168</td>\n",
       "      <td>2022-08-20</td>\n",
       "      <td>2022-08-07</td>\n",
       "      <td>23:00:00</td>\n",
       "      <td>NaN</td>\n",
       "      <td>13 days</td>\n",
       "    </tr>\n",
       "    <tr>\n",
       "      <th>8049</th>\n",
       "      <td>Tuscany Suites &amp; Casino</td>\n",
       "      <td>Executive Suite</td>\n",
       "      <td>US$143</td>\n",
       "      <td>2022-08-20</td>\n",
       "      <td>2022-08-08</td>\n",
       "      <td>0:00:00</td>\n",
       "      <td>NaN</td>\n",
       "      <td>12 days</td>\n",
       "    </tr>\n",
       "    <tr>\n",
       "      <th>8050</th>\n",
       "      <td>Tuscany Suites &amp; Casino</td>\n",
       "      <td>Executive Double Room</td>\n",
       "      <td>US$147</td>\n",
       "      <td>2022-08-20</td>\n",
       "      <td>2022-08-08</td>\n",
       "      <td>0:00:00</td>\n",
       "      <td>NaN</td>\n",
       "      <td>12 days</td>\n",
       "    </tr>\n",
       "  </tbody>\n",
       "</table>\n",
       "</div>"
      ],
      "text/plain": [
       "                        Hotel                                Room Type  \\\n",
       "8046  Tuscany Suites & Casino                          Executive Suite   \n",
       "8047  Tuscany Suites & Casino                          Executive Suite   \n",
       "8048  Tuscany Suites & Casino  Deluxe Executive King Non-Smoking Suite   \n",
       "8049  Tuscany Suites & Casino                          Executive Suite   \n",
       "8050  Tuscany Suites & Casino                    Executive Double Room   \n",
       "\n",
       "        Rate Check-in Date Search Date Search Time  Unnamed: 6 Date_gap  \n",
       "8046  US$121    2022-08-20  2022-08-07    21:00:00         NaN  13 days  \n",
       "8047  US$139    2022-08-20  2022-08-07    22:00:00         NaN  13 days  \n",
       "8048  US$168    2022-08-20  2022-08-07    23:00:00         NaN  13 days  \n",
       "8049  US$143    2022-08-20  2022-08-08     0:00:00         NaN  12 days  \n",
       "8050  US$147    2022-08-20  2022-08-08     0:00:00         NaN  12 days  "
      ]
     },
     "execution_count": 12,
     "metadata": {},
     "output_type": "execute_result"
    }
   ],
   "source": [
    "df.tail()"
   ]
  },
  {
   "cell_type": "code",
   "execution_count": 13,
   "id": "417f75d9",
   "metadata": {},
   "outputs": [],
   "source": [
    "# Convert All column values in to String\n",
    "\n",
    "df[[ \"Hotel\", \"Room Type\", \"Rate\", \"Check-in Date\", \"Search Date\", \"Search Time\",\"Date_gap\"]] = df[[\"Hotel\", \"Room Type\", \"Rate\", \"Check-in Date\", \"Search Date\", \"Search Time\",\"Date_gap\"]].astype(str)\n",
    "\n",
    "df[\"Date_gap\"]= df[\"Date_gap\"].replace( r\"days\",\"\", regex=True)\n"
   ]
  },
  {
   "cell_type": "code",
   "execution_count": 14,
   "id": "5a2efde1",
   "metadata": {},
   "outputs": [],
   "source": [
    "df['Rate'] = df['Rate'].apply(lambda x: x[3:])"
   ]
  },
  {
   "cell_type": "code",
   "execution_count": 15,
   "id": "ad77c5cf",
   "metadata": {},
   "outputs": [],
   "source": [
    "df['year'] = pd.DatetimeIndex(df['Check-in Date']).year\n",
    "df['month'] = pd.DatetimeIndex(df['Check-in Date']).month"
   ]
  },
  {
   "cell_type": "code",
   "execution_count": 16,
   "id": "75367002",
   "metadata": {},
   "outputs": [
    {
     "data": {
      "text/plain": [
       "str"
      ]
     },
     "execution_count": 16,
     "metadata": {},
     "output_type": "execute_result"
    }
   ],
   "source": [
    "type(df['Rate'][0])"
   ]
  },
  {
   "cell_type": "code",
   "execution_count": 17,
   "id": "974c7a24",
   "metadata": {},
   "outputs": [
    {
     "data": {
      "text/html": [
       "<div>\n",
       "<style scoped>\n",
       "    .dataframe tbody tr th:only-of-type {\n",
       "        vertical-align: middle;\n",
       "    }\n",
       "\n",
       "    .dataframe tbody tr th {\n",
       "        vertical-align: top;\n",
       "    }\n",
       "\n",
       "    .dataframe thead th {\n",
       "        text-align: right;\n",
       "    }\n",
       "</style>\n",
       "<table border=\"1\" class=\"dataframe\">\n",
       "  <thead>\n",
       "    <tr style=\"text-align: right;\">\n",
       "      <th></th>\n",
       "      <th>Hotel</th>\n",
       "      <th>Room Type</th>\n",
       "      <th>Rate</th>\n",
       "      <th>Check-in Date</th>\n",
       "      <th>Search Date</th>\n",
       "      <th>Search Time</th>\n",
       "      <th>Unnamed: 6</th>\n",
       "      <th>Date_gap</th>\n",
       "      <th>year</th>\n",
       "      <th>month</th>\n",
       "    </tr>\n",
       "  </thead>\n",
       "  <tbody>\n",
       "    <tr>\n",
       "      <th>8046</th>\n",
       "      <td>Tuscany Suites &amp; Casino</td>\n",
       "      <td>Executive Suite</td>\n",
       "      <td>121</td>\n",
       "      <td>2022-08-20</td>\n",
       "      <td>2022-08-07</td>\n",
       "      <td>21:00:00</td>\n",
       "      <td>NaN</td>\n",
       "      <td>13</td>\n",
       "      <td>2022</td>\n",
       "      <td>8</td>\n",
       "    </tr>\n",
       "    <tr>\n",
       "      <th>8047</th>\n",
       "      <td>Tuscany Suites &amp; Casino</td>\n",
       "      <td>Executive Suite</td>\n",
       "      <td>139</td>\n",
       "      <td>2022-08-20</td>\n",
       "      <td>2022-08-07</td>\n",
       "      <td>22:00:00</td>\n",
       "      <td>NaN</td>\n",
       "      <td>13</td>\n",
       "      <td>2022</td>\n",
       "      <td>8</td>\n",
       "    </tr>\n",
       "    <tr>\n",
       "      <th>8048</th>\n",
       "      <td>Tuscany Suites &amp; Casino</td>\n",
       "      <td>Deluxe Executive King Non-Smoking Suite</td>\n",
       "      <td>168</td>\n",
       "      <td>2022-08-20</td>\n",
       "      <td>2022-08-07</td>\n",
       "      <td>23:00:00</td>\n",
       "      <td>NaN</td>\n",
       "      <td>13</td>\n",
       "      <td>2022</td>\n",
       "      <td>8</td>\n",
       "    </tr>\n",
       "    <tr>\n",
       "      <th>8049</th>\n",
       "      <td>Tuscany Suites &amp; Casino</td>\n",
       "      <td>Executive Suite</td>\n",
       "      <td>143</td>\n",
       "      <td>2022-08-20</td>\n",
       "      <td>2022-08-08</td>\n",
       "      <td>0:00:00</td>\n",
       "      <td>NaN</td>\n",
       "      <td>12</td>\n",
       "      <td>2022</td>\n",
       "      <td>8</td>\n",
       "    </tr>\n",
       "    <tr>\n",
       "      <th>8050</th>\n",
       "      <td>Tuscany Suites &amp; Casino</td>\n",
       "      <td>Executive Double Room</td>\n",
       "      <td>147</td>\n",
       "      <td>2022-08-20</td>\n",
       "      <td>2022-08-08</td>\n",
       "      <td>0:00:00</td>\n",
       "      <td>NaN</td>\n",
       "      <td>12</td>\n",
       "      <td>2022</td>\n",
       "      <td>8</td>\n",
       "    </tr>\n",
       "  </tbody>\n",
       "</table>\n",
       "</div>"
      ],
      "text/plain": [
       "                        Hotel                                Room Type Rate  \\\n",
       "8046  Tuscany Suites & Casino                          Executive Suite  121   \n",
       "8047  Tuscany Suites & Casino                          Executive Suite  139   \n",
       "8048  Tuscany Suites & Casino  Deluxe Executive King Non-Smoking Suite  168   \n",
       "8049  Tuscany Suites & Casino                          Executive Suite  143   \n",
       "8050  Tuscany Suites & Casino                    Executive Double Room  147   \n",
       "\n",
       "     Check-in Date Search Date Search Time  Unnamed: 6 Date_gap  year  month  \n",
       "8046    2022-08-20  2022-08-07    21:00:00         NaN      13   2022      8  \n",
       "8047    2022-08-20  2022-08-07    22:00:00         NaN      13   2022      8  \n",
       "8048    2022-08-20  2022-08-07    23:00:00         NaN      13   2022      8  \n",
       "8049    2022-08-20  2022-08-08     0:00:00         NaN      12   2022      8  \n",
       "8050    2022-08-20  2022-08-08     0:00:00         NaN      12   2022      8  "
      ]
     },
     "execution_count": 17,
     "metadata": {},
     "output_type": "execute_result"
    }
   ],
   "source": [
    "df.tail()"
   ]
  },
  {
   "cell_type": "code",
   "execution_count": 18,
   "id": "13f59e4f",
   "metadata": {},
   "outputs": [
    {
     "data": {
      "text/plain": [
       "Hotel\n",
       "2100 SqFt Penthouse Suite W/ Strip Views! POOL GYM     601\n",
       "Best Western Plus Casino Royale - Center Strip        1158\n",
       "Ellis Island Hotel Casino & Brewery                   1409\n",
       "The Cromwell Hotel & Casino                           1351\n",
       "The Platinum Hotel                                    1164\n",
       "The Westin Las Vegas Hotel & Spa                       959\n",
       "Tuscany Suites & Casino                               1409\n",
       "Name: Rate, dtype: int64"
      ]
     },
     "execution_count": 18,
     "metadata": {},
     "output_type": "execute_result"
    }
   ],
   "source": [
    "# Find Booking Count \n",
    "#Which Hotels and Room Types are bussiest \n",
    "#df1 = df.groupby(['Hotel','Room Type']).count()['Rate']\n",
    "df1 = df.groupby(['Hotel']).count()['Rate']\n",
    "#df1.sort_values(by = 'Hotel',ascending=False).head()\n",
    "df1"
   ]
  },
  {
   "cell_type": "code",
   "execution_count": 19,
   "id": "1187ece5",
   "metadata": {},
   "outputs": [
    {
     "data": {
      "text/html": [
       "<div>\n",
       "<style scoped>\n",
       "    .dataframe tbody tr th:only-of-type {\n",
       "        vertical-align: middle;\n",
       "    }\n",
       "\n",
       "    .dataframe tbody tr th {\n",
       "        vertical-align: top;\n",
       "    }\n",
       "\n",
       "    .dataframe thead th {\n",
       "        text-align: right;\n",
       "    }\n",
       "</style>\n",
       "<table border=\"1\" class=\"dataframe\">\n",
       "  <thead>\n",
       "    <tr style=\"text-align: right;\">\n",
       "      <th></th>\n",
       "      <th>Hotel</th>\n",
       "      <th>Room Type</th>\n",
       "      <th>Date_gap</th>\n",
       "      <th>year</th>\n",
       "      <th>month</th>\n",
       "      <th>Rate</th>\n",
       "    </tr>\n",
       "  </thead>\n",
       "  <tbody>\n",
       "    <tr>\n",
       "      <th>8046</th>\n",
       "      <td>Tuscany Suites &amp; Casino</td>\n",
       "      <td>Executive Suite</td>\n",
       "      <td>13</td>\n",
       "      <td>2022</td>\n",
       "      <td>8</td>\n",
       "      <td>121</td>\n",
       "    </tr>\n",
       "    <tr>\n",
       "      <th>8047</th>\n",
       "      <td>Tuscany Suites &amp; Casino</td>\n",
       "      <td>Executive Suite</td>\n",
       "      <td>13</td>\n",
       "      <td>2022</td>\n",
       "      <td>8</td>\n",
       "      <td>139</td>\n",
       "    </tr>\n",
       "    <tr>\n",
       "      <th>8048</th>\n",
       "      <td>Tuscany Suites &amp; Casino</td>\n",
       "      <td>Deluxe Executive King Non-Smoking Suite</td>\n",
       "      <td>13</td>\n",
       "      <td>2022</td>\n",
       "      <td>8</td>\n",
       "      <td>168</td>\n",
       "    </tr>\n",
       "    <tr>\n",
       "      <th>8049</th>\n",
       "      <td>Tuscany Suites &amp; Casino</td>\n",
       "      <td>Executive Suite</td>\n",
       "      <td>12</td>\n",
       "      <td>2022</td>\n",
       "      <td>8</td>\n",
       "      <td>143</td>\n",
       "    </tr>\n",
       "    <tr>\n",
       "      <th>8050</th>\n",
       "      <td>Tuscany Suites &amp; Casino</td>\n",
       "      <td>Executive Double Room</td>\n",
       "      <td>12</td>\n",
       "      <td>2022</td>\n",
       "      <td>8</td>\n",
       "      <td>147</td>\n",
       "    </tr>\n",
       "  </tbody>\n",
       "</table>\n",
       "</div>"
      ],
      "text/plain": [
       "                        Hotel                                Room Type  \\\n",
       "8046  Tuscany Suites & Casino                          Executive Suite   \n",
       "8047  Tuscany Suites & Casino                          Executive Suite   \n",
       "8048  Tuscany Suites & Casino  Deluxe Executive King Non-Smoking Suite   \n",
       "8049  Tuscany Suites & Casino                          Executive Suite   \n",
       "8050  Tuscany Suites & Casino                    Executive Double Room   \n",
       "\n",
       "     Date_gap  year  month Rate  \n",
       "8046      13   2022      8  121  \n",
       "8047      13   2022      8  139  \n",
       "8048      13   2022      8  168  \n",
       "8049      12   2022      8  143  \n",
       "8050      12   2022      8  147  "
      ]
     },
     "execution_count": 19,
     "metadata": {},
     "output_type": "execute_result"
    }
   ],
   "source": [
    "final_data = df[[ \"Hotel\",\"Room Type\",\"Date_gap\",\"year\",\"month\",\"Rate\"]]\n",
    "final_data.tail()"
   ]
  },
  {
   "cell_type": "code",
   "execution_count": null,
   "id": "5d7bb155",
   "metadata": {},
   "outputs": [],
   "source": []
  },
  {
   "cell_type": "markdown",
   "id": "2763454b",
   "metadata": {},
   "source": [
    "# Model Creation"
   ]
  },
  {
   "cell_type": "markdown",
   "id": "641e4938",
   "metadata": {},
   "source": [
    "### We will be using the following regression algorithims\n",
    "\n",
    "####  1)  Linear regression\n",
    "####  2) KNN Regressor\n",
    "####  3) Gradient Boost Regressor\n",
    "####  4) XG Boost Regressor\n",
    "####  5) Decesion Tree Regressor\n",
    "####  6) SVM Regression"
   ]
  },
  {
   "cell_type": "code",
   "execution_count": 20,
   "id": "e5cc0702",
   "metadata": {},
   "outputs": [],
   "source": [
    "from sklearn.preprocessing import LabelEncoder"
   ]
  },
  {
   "cell_type": "code",
   "execution_count": 21,
   "id": "dfe5b782",
   "metadata": {},
   "outputs": [],
   "source": [
    "encoder = LabelEncoder()\n",
    "from sklearn.model_selection import train_test_split\n"
   ]
  },
  {
   "cell_type": "code",
   "execution_count": 22,
   "id": "e52b3c23",
   "metadata": {},
   "outputs": [
    {
     "name": "stderr",
     "output_type": "stream",
     "text": [
      "C:\\Users\\USHAN\\AppData\\Local\\Temp\\ipykernel_7604\\4257658148.py:3: SettingWithCopyWarning: \n",
      "A value is trying to be set on a copy of a slice from a DataFrame.\n",
      "Try using .loc[row_indexer,col_indexer] = value instead\n",
      "\n",
      "See the caveats in the documentation: https://pandas.pydata.org/pandas-docs/stable/user_guide/indexing.html#returning-a-view-versus-a-copy\n",
      "  final_data[i] = encoder.fit_transform(final_data[i])\n"
     ]
    }
   ],
   "source": [
    "for i in final_data.select_dtypes('object').columns:\n",
    "    encoder = LabelEncoder()\n",
    "    final_data[i] = encoder.fit_transform(final_data[i])"
   ]
  },
  {
   "cell_type": "code",
   "execution_count": 23,
   "id": "8814e15c",
   "metadata": {},
   "outputs": [
    {
     "data": {
      "text/html": [
       "<div>\n",
       "<style scoped>\n",
       "    .dataframe tbody tr th:only-of-type {\n",
       "        vertical-align: middle;\n",
       "    }\n",
       "\n",
       "    .dataframe tbody tr th {\n",
       "        vertical-align: top;\n",
       "    }\n",
       "\n",
       "    .dataframe thead th {\n",
       "        text-align: right;\n",
       "    }\n",
       "</style>\n",
       "<table border=\"1\" class=\"dataframe\">\n",
       "  <thead>\n",
       "    <tr style=\"text-align: right;\">\n",
       "      <th></th>\n",
       "      <th>Hotel</th>\n",
       "      <th>Room Type</th>\n",
       "      <th>Date_gap</th>\n",
       "      <th>year</th>\n",
       "      <th>month</th>\n",
       "      <th>Rate</th>\n",
       "    </tr>\n",
       "  </thead>\n",
       "  <tbody>\n",
       "    <tr>\n",
       "      <th>0</th>\n",
       "      <td>0</td>\n",
       "      <td>24</td>\n",
       "      <td>1</td>\n",
       "      <td>2022</td>\n",
       "      <td>8</td>\n",
       "      <td>85</td>\n",
       "    </tr>\n",
       "    <tr>\n",
       "      <th>1</th>\n",
       "      <td>0</td>\n",
       "      <td>24</td>\n",
       "      <td>1</td>\n",
       "      <td>2022</td>\n",
       "      <td>8</td>\n",
       "      <td>85</td>\n",
       "    </tr>\n",
       "    <tr>\n",
       "      <th>2</th>\n",
       "      <td>0</td>\n",
       "      <td>24</td>\n",
       "      <td>1</td>\n",
       "      <td>2022</td>\n",
       "      <td>8</td>\n",
       "      <td>85</td>\n",
       "    </tr>\n",
       "    <tr>\n",
       "      <th>3</th>\n",
       "      <td>0</td>\n",
       "      <td>24</td>\n",
       "      <td>1</td>\n",
       "      <td>2022</td>\n",
       "      <td>8</td>\n",
       "      <td>85</td>\n",
       "    </tr>\n",
       "    <tr>\n",
       "      <th>4</th>\n",
       "      <td>0</td>\n",
       "      <td>24</td>\n",
       "      <td>1</td>\n",
       "      <td>2022</td>\n",
       "      <td>8</td>\n",
       "      <td>85</td>\n",
       "    </tr>\n",
       "    <tr>\n",
       "      <th>...</th>\n",
       "      <td>...</td>\n",
       "      <td>...</td>\n",
       "      <td>...</td>\n",
       "      <td>...</td>\n",
       "      <td>...</td>\n",
       "      <td>...</td>\n",
       "    </tr>\n",
       "    <tr>\n",
       "      <th>8046</th>\n",
       "      <td>6</td>\n",
       "      <td>19</td>\n",
       "      <td>6</td>\n",
       "      <td>2022</td>\n",
       "      <td>8</td>\n",
       "      <td>20</td>\n",
       "    </tr>\n",
       "    <tr>\n",
       "      <th>8047</th>\n",
       "      <td>6</td>\n",
       "      <td>19</td>\n",
       "      <td>6</td>\n",
       "      <td>2022</td>\n",
       "      <td>8</td>\n",
       "      <td>33</td>\n",
       "    </tr>\n",
       "    <tr>\n",
       "      <th>8048</th>\n",
       "      <td>6</td>\n",
       "      <td>8</td>\n",
       "      <td>6</td>\n",
       "      <td>2022</td>\n",
       "      <td>8</td>\n",
       "      <td>57</td>\n",
       "    </tr>\n",
       "    <tr>\n",
       "      <th>8049</th>\n",
       "      <td>6</td>\n",
       "      <td>19</td>\n",
       "      <td>5</td>\n",
       "      <td>2022</td>\n",
       "      <td>8</td>\n",
       "      <td>37</td>\n",
       "    </tr>\n",
       "    <tr>\n",
       "      <th>8050</th>\n",
       "      <td>6</td>\n",
       "      <td>14</td>\n",
       "      <td>5</td>\n",
       "      <td>2022</td>\n",
       "      <td>8</td>\n",
       "      <td>41</td>\n",
       "    </tr>\n",
       "  </tbody>\n",
       "</table>\n",
       "<p>8051 rows × 6 columns</p>\n",
       "</div>"
      ],
      "text/plain": [
       "      Hotel  Room Type  Date_gap  year  month  Rate\n",
       "0         0         24         1  2022      8    85\n",
       "1         0         24         1  2022      8    85\n",
       "2         0         24         1  2022      8    85\n",
       "3         0         24         1  2022      8    85\n",
       "4         0         24         1  2022      8    85\n",
       "...     ...        ...       ...   ...    ...   ...\n",
       "8046      6         19         6  2022      8    20\n",
       "8047      6         19         6  2022      8    33\n",
       "8048      6          8         6  2022      8    57\n",
       "8049      6         19         5  2022      8    37\n",
       "8050      6         14         5  2022      8    41\n",
       "\n",
       "[8051 rows x 6 columns]"
      ]
     },
     "execution_count": 23,
     "metadata": {},
     "output_type": "execute_result"
    }
   ],
   "source": [
    "final_data"
   ]
  },
  {
   "cell_type": "code",
   "execution_count": 24,
   "id": "ce231d37",
   "metadata": {},
   "outputs": [],
   "source": [
    "#train_test_split\n",
    "X_train, X_test, y_train, y_test = train_test_split(final_data.drop('Rate',axis=1),final_data['Rate'], test_size=0.33, random_state=42)"
   ]
  },
  {
   "cell_type": "code",
   "execution_count": 25,
   "id": "90c58fd2",
   "metadata": {},
   "outputs": [],
   "source": [
    "#importing all the models\n",
    "\n",
    "from sklearn.linear_model import LinearRegression\n",
    "from sklearn.neighbors import KNeighborsRegressor\n",
    "from sklearn.ensemble import RandomForestRegressor\n",
    "from sklearn.ensemble import GradientBoostingRegressor\n",
    "import xgboost as xgb"
   ]
  },
  {
   "cell_type": "code",
   "execution_count": 26,
   "id": "85a7193b",
   "metadata": {},
   "outputs": [],
   "source": [
    "from sklearn.model_selection import KFold\n",
    "from sklearn.model_selection import cross_val_score"
   ]
  },
  {
   "cell_type": "code",
   "execution_count": 27,
   "id": "7e74d4ec",
   "metadata": {},
   "outputs": [],
   "source": [
    "models = {}\n",
    "\n",
    "models[\"KNeighborsRegressor\"]={\"model\":KNeighborsRegressor(n_neighbors=50)}\n",
    "models[\"LinearRegression\"]={\"model\":LinearRegression()}\n",
    "models[\"XGBRegressor\"]={\"model\":xgb.XGBRegressor(n_jobs=5,learning_rate=0.1,max_depth=10,random_state=1)}\n",
    "models[\"RandomForestRegressor\"]={\"model\":RandomForestRegressor(n_estimators=50,max_depth=10)}\n",
    "models['GradientBoostingRegressor'] = {'model':GradientBoostingRegressor(n_estimators=50,max_depth=10)}"
   ]
  },
  {
   "cell_type": "code",
   "execution_count": 28,
   "id": "c1710036",
   "metadata": {},
   "outputs": [],
   "source": [
    "X = final_data.drop('Rate',axis=1)\n",
    "y = final_data['Rate']"
   ]
  },
  {
   "cell_type": "markdown",
   "id": "d14b353b",
   "metadata": {},
   "source": [
    "## Automatic Kfold Cross validation"
   ]
  },
  {
   "cell_type": "code",
   "execution_count": 29,
   "id": "f7c7c9d1",
   "metadata": {},
   "outputs": [
    {
     "name": "stdout",
     "output_type": "stream",
     "text": [
      "KNeighborsRegressor(n_neighbors=50)\n",
      "[  0.21540664   0.08872352  -0.46344142 -11.88290358  -0.22364421]\n",
      "LinearRegression()\n",
      "[  0.07743448   0.17212249  -0.3827779  -14.14515604  -0.20127923]\n",
      "XGBRegressor(base_score=None, booster=None, callbacks=None,\n",
      "             colsample_bylevel=None, colsample_bynode=None,\n",
      "             colsample_bytree=None, early_stopping_rounds=None,\n",
      "             enable_categorical=False, eval_metric=None, gamma=None,\n",
      "             gpu_id=None, grow_policy=None, importance_type=None,\n",
      "             interaction_constraints=None, learning_rate=0.1, max_bin=None,\n",
      "             max_cat_to_onehot=None, max_delta_step=None, max_depth=10,\n",
      "             max_leaves=None, min_child_weight=None, missing=nan,\n",
      "             monotone_constraints=None, n_estimators=100, n_jobs=5,\n",
      "             num_parallel_tree=None, predictor=None, random_state=1,\n",
      "             reg_alpha=None, reg_lambda=None, ...)\n",
      "[-1.26192952 -0.08586487 -0.73534968 -4.14008863 -0.11882748]\n",
      "RandomForestRegressor(max_depth=10, n_estimators=50)\n",
      "[-0.66198405 -0.07396671 -0.24918575 -4.16250023 -0.12349523]\n",
      "GradientBoostingRegressor(max_depth=10, n_estimators=50)\n",
      "[ -0.18709325  -0.1117007   -0.37473407 -13.15868582  -0.15021142]\n"
     ]
    }
   ],
   "source": [
    "#cross validation to get the best model\n",
    "cv = KFold(n_splits=5)\n",
    "for key,item in models.items():\n",
    "    reg_model = item['model']\n",
    "    print(item['model'])\n",
    "    score = cross_val_score(estimator=reg_model,X = X,y = y,cv=cv,scoring='r2')\n",
    "    print(score)"
   ]
  },
  {
   "cell_type": "code",
   "execution_count": 30,
   "id": "b32fe224",
   "metadata": {},
   "outputs": [],
   "source": [
    "#Clearly the Gradient Boosting algorithm does better in estimating, let us explore"
   ]
  },
  {
   "cell_type": "code",
   "execution_count": 31,
   "id": "5e716f54",
   "metadata": {},
   "outputs": [
    {
     "data": {
      "text/html": [
       "<style>#sk-container-id-1 {color: black;background-color: white;}#sk-container-id-1 pre{padding: 0;}#sk-container-id-1 div.sk-toggleable {background-color: white;}#sk-container-id-1 label.sk-toggleable__label {cursor: pointer;display: block;width: 100%;margin-bottom: 0;padding: 0.3em;box-sizing: border-box;text-align: center;}#sk-container-id-1 label.sk-toggleable__label-arrow:before {content: \"▸\";float: left;margin-right: 0.25em;color: #696969;}#sk-container-id-1 label.sk-toggleable__label-arrow:hover:before {color: black;}#sk-container-id-1 div.sk-estimator:hover label.sk-toggleable__label-arrow:before {color: black;}#sk-container-id-1 div.sk-toggleable__content {max-height: 0;max-width: 0;overflow: hidden;text-align: left;background-color: #f0f8ff;}#sk-container-id-1 div.sk-toggleable__content pre {margin: 0.2em;color: black;border-radius: 0.25em;background-color: #f0f8ff;}#sk-container-id-1 input.sk-toggleable__control:checked~div.sk-toggleable__content {max-height: 200px;max-width: 100%;overflow: auto;}#sk-container-id-1 input.sk-toggleable__control:checked~label.sk-toggleable__label-arrow:before {content: \"▾\";}#sk-container-id-1 div.sk-estimator input.sk-toggleable__control:checked~label.sk-toggleable__label {background-color: #d4ebff;}#sk-container-id-1 div.sk-label input.sk-toggleable__control:checked~label.sk-toggleable__label {background-color: #d4ebff;}#sk-container-id-1 input.sk-hidden--visually {border: 0;clip: rect(1px 1px 1px 1px);clip: rect(1px, 1px, 1px, 1px);height: 1px;margin: -1px;overflow: hidden;padding: 0;position: absolute;width: 1px;}#sk-container-id-1 div.sk-estimator {font-family: monospace;background-color: #f0f8ff;border: 1px dotted black;border-radius: 0.25em;box-sizing: border-box;margin-bottom: 0.5em;}#sk-container-id-1 div.sk-estimator:hover {background-color: #d4ebff;}#sk-container-id-1 div.sk-parallel-item::after {content: \"\";width: 100%;border-bottom: 1px solid gray;flex-grow: 1;}#sk-container-id-1 div.sk-label:hover label.sk-toggleable__label {background-color: #d4ebff;}#sk-container-id-1 div.sk-serial::before {content: \"\";position: absolute;border-left: 1px solid gray;box-sizing: border-box;top: 0;bottom: 0;left: 50%;z-index: 0;}#sk-container-id-1 div.sk-serial {display: flex;flex-direction: column;align-items: center;background-color: white;padding-right: 0.2em;padding-left: 0.2em;position: relative;}#sk-container-id-1 div.sk-item {position: relative;z-index: 1;}#sk-container-id-1 div.sk-parallel {display: flex;align-items: stretch;justify-content: center;background-color: white;position: relative;}#sk-container-id-1 div.sk-item::before, #sk-container-id-1 div.sk-parallel-item::before {content: \"\";position: absolute;border-left: 1px solid gray;box-sizing: border-box;top: 0;bottom: 0;left: 50%;z-index: -1;}#sk-container-id-1 div.sk-parallel-item {display: flex;flex-direction: column;z-index: 1;position: relative;background-color: white;}#sk-container-id-1 div.sk-parallel-item:first-child::after {align-self: flex-end;width: 50%;}#sk-container-id-1 div.sk-parallel-item:last-child::after {align-self: flex-start;width: 50%;}#sk-container-id-1 div.sk-parallel-item:only-child::after {width: 0;}#sk-container-id-1 div.sk-dashed-wrapped {border: 1px dashed gray;margin: 0 0.4em 0.5em 0.4em;box-sizing: border-box;padding-bottom: 0.4em;background-color: white;}#sk-container-id-1 div.sk-label label {font-family: monospace;font-weight: bold;display: inline-block;line-height: 1.2em;}#sk-container-id-1 div.sk-label-container {text-align: center;}#sk-container-id-1 div.sk-container {/* jupyter's `normalize.less` sets `[hidden] { display: none; }` but bootstrap.min.css set `[hidden] { display: none !important; }` so we also need the `!important` here to be able to override the default hidden behavior on the sphinx rendered scikit-learn.org. See: https://github.com/scikit-learn/scikit-learn/issues/21755 */display: inline-block !important;position: relative;}#sk-container-id-1 div.sk-text-repr-fallback {display: none;}</style><div id=\"sk-container-id-1\" class=\"sk-top-container\"><div class=\"sk-text-repr-fallback\"><pre>GradientBoostingRegressor(max_depth=10, n_estimators=50)</pre><b>In a Jupyter environment, please rerun this cell to show the HTML representation or trust the notebook. <br />On GitHub, the HTML representation is unable to render, please try loading this page with nbviewer.org.</b></div><div class=\"sk-container\" hidden><div class=\"sk-item\"><div class=\"sk-estimator sk-toggleable\"><input class=\"sk-toggleable__control sk-hidden--visually\" id=\"sk-estimator-id-1\" type=\"checkbox\" checked><label for=\"sk-estimator-id-1\" class=\"sk-toggleable__label sk-toggleable__label-arrow\">GradientBoostingRegressor</label><div class=\"sk-toggleable__content\"><pre>GradientBoostingRegressor(max_depth=10, n_estimators=50)</pre></div></div></div></div></div>"
      ],
      "text/plain": [
       "GradientBoostingRegressor(max_depth=10, n_estimators=50)"
      ]
     },
     "execution_count": 31,
     "metadata": {},
     "output_type": "execute_result"
    }
   ],
   "source": [
    "reg_model.fit(X_train,y_train)"
   ]
  },
  {
   "cell_type": "code",
   "execution_count": 32,
   "id": "8b7921c1",
   "metadata": {},
   "outputs": [],
   "source": [
    "predicted = reg_model.predict(X_test)"
   ]
  },
  {
   "cell_type": "code",
   "execution_count": 33,
   "id": "5e05c46b",
   "metadata": {},
   "outputs": [
    {
     "data": {
      "text/plain": [
       "array([ 17.67682355,  35.79377285,  57.21600418, ..., 120.24092646,\n",
       "        74.99859867,  60.46117731])"
      ]
     },
     "execution_count": 33,
     "metadata": {},
     "output_type": "execute_result"
    }
   ],
   "source": [
    "predicted"
   ]
  },
  {
   "cell_type": "code",
   "execution_count": 34,
   "id": "f541d191",
   "metadata": {},
   "outputs": [],
   "source": [
    "actual_values = y_test.values"
   ]
  },
  {
   "cell_type": "code",
   "execution_count": 35,
   "id": "60214402",
   "metadata": {},
   "outputs": [
    {
     "data": {
      "text/plain": [
       "array([ 10,   0,  58, ..., 160,  70,  58])"
      ]
     },
     "execution_count": 35,
     "metadata": {},
     "output_type": "execute_result"
    }
   ],
   "source": [
    "actual_values"
   ]
  },
  {
   "cell_type": "code",
   "execution_count": 36,
   "id": "5372ca39",
   "metadata": {},
   "outputs": [],
   "source": [
    "from sklearn.metrics import mean_absolute_error"
   ]
  },
  {
   "cell_type": "code",
   "execution_count": 37,
   "id": "f48ee11a",
   "metadata": {},
   "outputs": [
    {
     "data": {
      "text/plain": [
       "18.30838683607217"
      ]
     },
     "execution_count": 37,
     "metadata": {},
     "output_type": "execute_result"
    }
   ],
   "source": [
    "mean_absolute_error(actual_values,predicted)"
   ]
  },
  {
   "cell_type": "code",
   "execution_count": 38,
   "id": "2b867052",
   "metadata": {},
   "outputs": [
    {
     "data": {
      "text/plain": [
       "0.6379047198811006"
      ]
     },
     "execution_count": 38,
     "metadata": {},
     "output_type": "execute_result"
    }
   ],
   "source": [
    "reg_model.score(X_test,y_test)"
   ]
  },
  {
   "cell_type": "markdown",
   "id": "a5ff7729",
   "metadata": {},
   "source": [
    "## Not much Accurate"
   ]
  },
  {
   "cell_type": "code",
   "execution_count": null,
   "id": "e844b4f5",
   "metadata": {},
   "outputs": [],
   "source": []
  },
  {
   "cell_type": "code",
   "execution_count": null,
   "id": "e4da7a32",
   "metadata": {},
   "outputs": [],
   "source": []
  },
  {
   "cell_type": "code",
   "execution_count": 39,
   "id": "825f08e8",
   "metadata": {},
   "outputs": [],
   "source": [
    "final_model = GradientBoostingRegressor(max_depth=100,min_samples_leaf=1,min_samples_split=2,n_estimators=100)"
   ]
  },
  {
   "cell_type": "code",
   "execution_count": 40,
   "id": "97b64ea2",
   "metadata": {},
   "outputs": [
    {
     "data": {
      "text/html": [
       "<style>#sk-container-id-2 {color: black;background-color: white;}#sk-container-id-2 pre{padding: 0;}#sk-container-id-2 div.sk-toggleable {background-color: white;}#sk-container-id-2 label.sk-toggleable__label {cursor: pointer;display: block;width: 100%;margin-bottom: 0;padding: 0.3em;box-sizing: border-box;text-align: center;}#sk-container-id-2 label.sk-toggleable__label-arrow:before {content: \"▸\";float: left;margin-right: 0.25em;color: #696969;}#sk-container-id-2 label.sk-toggleable__label-arrow:hover:before {color: black;}#sk-container-id-2 div.sk-estimator:hover label.sk-toggleable__label-arrow:before {color: black;}#sk-container-id-2 div.sk-toggleable__content {max-height: 0;max-width: 0;overflow: hidden;text-align: left;background-color: #f0f8ff;}#sk-container-id-2 div.sk-toggleable__content pre {margin: 0.2em;color: black;border-radius: 0.25em;background-color: #f0f8ff;}#sk-container-id-2 input.sk-toggleable__control:checked~div.sk-toggleable__content {max-height: 200px;max-width: 100%;overflow: auto;}#sk-container-id-2 input.sk-toggleable__control:checked~label.sk-toggleable__label-arrow:before {content: \"▾\";}#sk-container-id-2 div.sk-estimator input.sk-toggleable__control:checked~label.sk-toggleable__label {background-color: #d4ebff;}#sk-container-id-2 div.sk-label input.sk-toggleable__control:checked~label.sk-toggleable__label {background-color: #d4ebff;}#sk-container-id-2 input.sk-hidden--visually {border: 0;clip: rect(1px 1px 1px 1px);clip: rect(1px, 1px, 1px, 1px);height: 1px;margin: -1px;overflow: hidden;padding: 0;position: absolute;width: 1px;}#sk-container-id-2 div.sk-estimator {font-family: monospace;background-color: #f0f8ff;border: 1px dotted black;border-radius: 0.25em;box-sizing: border-box;margin-bottom: 0.5em;}#sk-container-id-2 div.sk-estimator:hover {background-color: #d4ebff;}#sk-container-id-2 div.sk-parallel-item::after {content: \"\";width: 100%;border-bottom: 1px solid gray;flex-grow: 1;}#sk-container-id-2 div.sk-label:hover label.sk-toggleable__label {background-color: #d4ebff;}#sk-container-id-2 div.sk-serial::before {content: \"\";position: absolute;border-left: 1px solid gray;box-sizing: border-box;top: 0;bottom: 0;left: 50%;z-index: 0;}#sk-container-id-2 div.sk-serial {display: flex;flex-direction: column;align-items: center;background-color: white;padding-right: 0.2em;padding-left: 0.2em;position: relative;}#sk-container-id-2 div.sk-item {position: relative;z-index: 1;}#sk-container-id-2 div.sk-parallel {display: flex;align-items: stretch;justify-content: center;background-color: white;position: relative;}#sk-container-id-2 div.sk-item::before, #sk-container-id-2 div.sk-parallel-item::before {content: \"\";position: absolute;border-left: 1px solid gray;box-sizing: border-box;top: 0;bottom: 0;left: 50%;z-index: -1;}#sk-container-id-2 div.sk-parallel-item {display: flex;flex-direction: column;z-index: 1;position: relative;background-color: white;}#sk-container-id-2 div.sk-parallel-item:first-child::after {align-self: flex-end;width: 50%;}#sk-container-id-2 div.sk-parallel-item:last-child::after {align-self: flex-start;width: 50%;}#sk-container-id-2 div.sk-parallel-item:only-child::after {width: 0;}#sk-container-id-2 div.sk-dashed-wrapped {border: 1px dashed gray;margin: 0 0.4em 0.5em 0.4em;box-sizing: border-box;padding-bottom: 0.4em;background-color: white;}#sk-container-id-2 div.sk-label label {font-family: monospace;font-weight: bold;display: inline-block;line-height: 1.2em;}#sk-container-id-2 div.sk-label-container {text-align: center;}#sk-container-id-2 div.sk-container {/* jupyter's `normalize.less` sets `[hidden] { display: none; }` but bootstrap.min.css set `[hidden] { display: none !important; }` so we also need the `!important` here to be able to override the default hidden behavior on the sphinx rendered scikit-learn.org. See: https://github.com/scikit-learn/scikit-learn/issues/21755 */display: inline-block !important;position: relative;}#sk-container-id-2 div.sk-text-repr-fallback {display: none;}</style><div id=\"sk-container-id-2\" class=\"sk-top-container\"><div class=\"sk-text-repr-fallback\"><pre>GradientBoostingRegressor(max_depth=100)</pre><b>In a Jupyter environment, please rerun this cell to show the HTML representation or trust the notebook. <br />On GitHub, the HTML representation is unable to render, please try loading this page with nbviewer.org.</b></div><div class=\"sk-container\" hidden><div class=\"sk-item\"><div class=\"sk-estimator sk-toggleable\"><input class=\"sk-toggleable__control sk-hidden--visually\" id=\"sk-estimator-id-2\" type=\"checkbox\" checked><label for=\"sk-estimator-id-2\" class=\"sk-toggleable__label sk-toggleable__label-arrow\">GradientBoostingRegressor</label><div class=\"sk-toggleable__content\"><pre>GradientBoostingRegressor(max_depth=100)</pre></div></div></div></div></div>"
      ],
      "text/plain": [
       "GradientBoostingRegressor(max_depth=100)"
      ]
     },
     "execution_count": 40,
     "metadata": {},
     "output_type": "execute_result"
    }
   ],
   "source": [
    "final_model.fit(X_train,y_train)"
   ]
  },
  {
   "cell_type": "code",
   "execution_count": 41,
   "id": "ba4c7b37",
   "metadata": {},
   "outputs": [
    {
     "data": {
      "text/plain": [
       "0.6352655027316739"
      ]
     },
     "execution_count": 41,
     "metadata": {},
     "output_type": "execute_result"
    }
   ],
   "source": [
    "final_model.score(X_test,y_test)"
   ]
  },
  {
   "cell_type": "code",
   "execution_count": 42,
   "id": "3499544b",
   "metadata": {},
   "outputs": [],
   "source": [
    "#Final predictions\n",
    "Predictions = final_model.predict(X_test)\n",
    "Actual = y_test.values"
   ]
  },
  {
   "cell_type": "code",
   "execution_count": 43,
   "id": "cbe10934",
   "metadata": {},
   "outputs": [
    {
     "data": {
      "text/plain": [
       "<AxesSubplot:>"
      ]
     },
     "execution_count": 43,
     "metadata": {},
     "output_type": "execute_result"
    },
    {
     "data": {
      "image/png": "[encoded data removed]",
      "text/plain": [
       "<Figure size 720x504 with 1 Axes>"
      ]
     },
     "metadata": {
      "needs_background": "light"
     },
     "output_type": "display_data"
    }
   ],
   "source": [
    "plt.figure(figsize=(10,7))\n",
    "sns.scatterplot(x = Actual,y = Predictions)\n",
    "sns.regplot(x = Actual,y = Predictions)"
   ]
  },
  {
   "cell_type": "code",
   "execution_count": 55,
   "id": "a385409a",
   "metadata": {},
   "outputs": [],
   "source": [
    "#  Not much of the data is along the reg fit but may be due to cause of some outliers some predictions are off"
   ]
  },
  {
   "cell_type": "code",
   "execution_count": null,
   "id": "1816208a",
   "metadata": {},
   "outputs": [],
   "source": []
  }
 ],
 "metadata": {
  "kernelspec": {
   "display_name": "Python 3 (ipykernel)",
   "language": "python",
   "name": "python3"
  },
  "language_info": {
   "codemirror_mode": {
    "name": "ipython",
    "version": 3
   },
   "file_extension": ".py",
   "mimetype": "text/x-python",
   "name": "python",
   "nbconvert_exporter": "python",
   "pygments_lexer": "ipython3",
   "version": "3.8.13"
  },
  "varInspector": {
   "cols": {
    "lenName": 16,
    "lenType": 16,
    "lenVar": 40
   },
   "kernels_config": {
    "python": {
     "delete_cmd_postfix": "",
     "delete_cmd_prefix": "del ",
     "library": "var_list.py",
     "varRefreshCmd": "print(var_dic_list())"
    },
    "r": {
     "delete_cmd_postfix": ") ",
     "delete_cmd_prefix": "rm(",
     "library": "var_list.r",
     "varRefreshCmd": "cat(var_dic_list()) "
    }
   },
   "types_to_exclude": [
    "module",
    "function",
    "builtin_function_or_method",
    "instance",
    "_Feature"
   ],
   "window_display": false
  }
 },
 "nbformat": 4,
 "nbformat_minor": 5
}
