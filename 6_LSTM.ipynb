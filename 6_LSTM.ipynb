{
 "cells": [
  {
   "cell_type": "code",
   "execution_count": 1,
   "id": "33adcdb2",
   "metadata": {},
   "outputs": [
    {
     "name": "stderr",
     "output_type": "stream",
     "text": [
      "C:\\Users\\USHAN\\anaconda3\\envs\\ml\\lib\\site-packages\\requests\\__init__.py:109: RequestsDependencyWarning: urllib3 (1.26.9) or chardet (5.0.0)/charset_normalizer (2.0.4) doesn't match a supported version!\n",
      "  warnings.warn(\n"
     ]
    }
   ],
   "source": [
    "import pandas as pd\n",
    "import matplotlib as mpl\n",
    "import matplotlib.pyplot as plt\n",
    "from sklearn.model_selection import train_test_split\n",
    "from keras.preprocessing.sequence import TimeseriesGenerator\n",
    "from sklearn.preprocessing import MinMaxScaler, StandardScaler\n",
    "import tensorflow as tf\n",
    "\n",
    "mpl.rcParams['figure.figsize'] = (10,8)\n",
    "mpl.rcParams['axes.grid']= False"
   ]
  },
  {
   "cell_type": "code",
   "execution_count": 2,
   "id": "993381ec",
   "metadata": {},
   "outputs": [],
   "source": [
    "df = pd.read_csv(\"Travel_scrape.csv\")"
   ]
  },
  {
   "cell_type": "code",
   "execution_count": 3,
   "id": "d41a80e7",
   "metadata": {},
   "outputs": [
    {
     "name": "stdout",
     "output_type": "stream",
     "text": [
      "<class 'pandas.core.frame.DataFrame'>\n",
      "RangeIndex: 8051 entries, 0 to 8050\n",
      "Data columns (total 7 columns):\n",
      " #   Column         Non-Null Count  Dtype  \n",
      "---  ------         --------------  -----  \n",
      " 0   Hotel          8051 non-null   object \n",
      " 1   Room Type      8051 non-null   object \n",
      " 2   Rate           8051 non-null   object \n",
      " 3   Check-in Date  8051 non-null   object \n",
      " 4   Search Date    8051 non-null   object \n",
      " 5   Search Time    8051 non-null   object \n",
      " 6   Unnamed: 6     0 non-null      float64\n",
      "dtypes: float64(1), object(6)\n",
      "memory usage: 440.4+ KB\n"
     ]
    }
   ],
   "source": [
    "df.info()"
   ]
  },
  {
   "cell_type": "code",
   "execution_count": 4,
   "id": "0957ad73",
   "metadata": {
    "scrolled": false
   },
   "outputs": [
    {
     "data": {
      "text/html": [
       "<div>\n",
       "<style scoped>\n",
       "    .dataframe tbody tr th:only-of-type {\n",
       "        vertical-align: middle;\n",
       "    }\n",
       "\n",
       "    .dataframe tbody tr th {\n",
       "        vertical-align: top;\n",
       "    }\n",
       "\n",
       "    .dataframe thead th {\n",
       "        text-align: right;\n",
       "    }\n",
       "</style>\n",
       "<table border=\"1\" class=\"dataframe\">\n",
       "  <thead>\n",
       "    <tr style=\"text-align: right;\">\n",
       "      <th></th>\n",
       "      <th>Hotel</th>\n",
       "      <th>Room Type</th>\n",
       "      <th>Rate</th>\n",
       "      <th>Check-in Date</th>\n",
       "      <th>Search Date</th>\n",
       "      <th>Search Time</th>\n",
       "      <th>Date_gap</th>\n",
       "    </tr>\n",
       "  </thead>\n",
       "  <tbody>\n",
       "    <tr>\n",
       "      <th>0</th>\n",
       "      <td>2100 SqFt Penthouse Suite W/ Strip Views! POOL...</td>\n",
       "      <td>Penthouse Apartment</td>\n",
       "      <td>254</td>\n",
       "      <td>2022-08-03</td>\n",
       "      <td>2022-08-03</td>\n",
       "      <td>0:00:00</td>\n",
       "      <td>0</td>\n",
       "    </tr>\n",
       "    <tr>\n",
       "      <th>1</th>\n",
       "      <td>2100 SqFt Penthouse Suite W/ Strip Views! POOL...</td>\n",
       "      <td>Penthouse Apartment</td>\n",
       "      <td>254</td>\n",
       "      <td>2022-08-03</td>\n",
       "      <td>2022-08-03</td>\n",
       "      <td>1:00:00</td>\n",
       "      <td>0</td>\n",
       "    </tr>\n",
       "    <tr>\n",
       "      <th>2</th>\n",
       "      <td>2100 SqFt Penthouse Suite W/ Strip Views! POOL...</td>\n",
       "      <td>Penthouse Apartment</td>\n",
       "      <td>254</td>\n",
       "      <td>2022-08-03</td>\n",
       "      <td>2022-08-03</td>\n",
       "      <td>2:00:00</td>\n",
       "      <td>0</td>\n",
       "    </tr>\n",
       "    <tr>\n",
       "      <th>3</th>\n",
       "      <td>2100 SqFt Penthouse Suite W/ Strip Views! POOL...</td>\n",
       "      <td>Penthouse Apartment</td>\n",
       "      <td>254</td>\n",
       "      <td>2022-08-03</td>\n",
       "      <td>2022-08-03</td>\n",
       "      <td>3:00:00</td>\n",
       "      <td>0</td>\n",
       "    </tr>\n",
       "    <tr>\n",
       "      <th>4</th>\n",
       "      <td>2100 SqFt Penthouse Suite W/ Strip Views! POOL...</td>\n",
       "      <td>Penthouse Apartment</td>\n",
       "      <td>254</td>\n",
       "      <td>2022-08-03</td>\n",
       "      <td>2022-08-03</td>\n",
       "      <td>4:00:00</td>\n",
       "      <td>0</td>\n",
       "    </tr>\n",
       "  </tbody>\n",
       "</table>\n",
       "</div>"
      ],
      "text/plain": [
       "                                               Hotel            Room Type  \\\n",
       "0  2100 SqFt Penthouse Suite W/ Strip Views! POOL...  Penthouse Apartment   \n",
       "1  2100 SqFt Penthouse Suite W/ Strip Views! POOL...  Penthouse Apartment   \n",
       "2  2100 SqFt Penthouse Suite W/ Strip Views! POOL...  Penthouse Apartment   \n",
       "3  2100 SqFt Penthouse Suite W/ Strip Views! POOL...  Penthouse Apartment   \n",
       "4  2100 SqFt Penthouse Suite W/ Strip Views! POOL...  Penthouse Apartment   \n",
       "\n",
       "  Rate Check-in Date Search Date Search Time Date_gap  \n",
       "0  254    2022-08-03  2022-08-03     0:00:00       0   \n",
       "1  254    2022-08-03  2022-08-03     1:00:00       0   \n",
       "2  254    2022-08-03  2022-08-03     2:00:00       0   \n",
       "3  254    2022-08-03  2022-08-03     3:00:00       0   \n",
       "4  254    2022-08-03  2022-08-03     4:00:00       0   "
      ]
     },
     "execution_count": 4,
     "metadata": {},
     "output_type": "execute_result"
    }
   ],
   "source": [
    "df = df.drop('Unnamed: 6', axis=1)\n",
    "# Change Data type\n",
    "df['Check-in Date'] = pd.to_datetime(df['Check-in Date'])\n",
    "df['Search Date'] = pd.to_datetime(df['Search Date'])\n",
    "\n",
    "df['Date_gap'] = df['Check-in Date'] - df['Search Date']\n",
    "df['Date_gap'] = df['Date_gap'].astype(str)\n",
    "df[\"Date_gap\"]= df[\"Date_gap\"].replace( r\"days\",\"\", regex=True)\n",
    "\n",
    "# Remove $ mark in Rate Column\n",
    "df['Rate'] = df['Rate'].apply(lambda x: x[3:])\n",
    "df.head()"
   ]
  },
  {
   "cell_type": "code",
   "execution_count": 5,
   "id": "f3fd2ec0",
   "metadata": {},
   "outputs": [],
   "source": [
    "df['Search Time'] = pd.to_datetime(df['Search Time'], infer_datetime_format=True)"
   ]
  },
  {
   "cell_type": "code",
   "execution_count": 6,
   "id": "b41bb9cd",
   "metadata": {},
   "outputs": [
    {
     "data": {
      "text/html": [
       "<div>\n",
       "<style scoped>\n",
       "    .dataframe tbody tr th:only-of-type {\n",
       "        vertical-align: middle;\n",
       "    }\n",
       "\n",
       "    .dataframe tbody tr th {\n",
       "        vertical-align: top;\n",
       "    }\n",
       "\n",
       "    .dataframe thead th {\n",
       "        text-align: right;\n",
       "    }\n",
       "</style>\n",
       "<table border=\"1\" class=\"dataframe\">\n",
       "  <thead>\n",
       "    <tr style=\"text-align: right;\">\n",
       "      <th></th>\n",
       "      <th>Hotel</th>\n",
       "      <th>Room Type</th>\n",
       "      <th>Rate</th>\n",
       "      <th>Check-in Date</th>\n",
       "      <th>Search Date</th>\n",
       "      <th>Search Time</th>\n",
       "      <th>Date_gap</th>\n",
       "    </tr>\n",
       "  </thead>\n",
       "  <tbody>\n",
       "    <tr>\n",
       "      <th>0</th>\n",
       "      <td>2100 SqFt Penthouse Suite W/ Strip Views! POOL...</td>\n",
       "      <td>Penthouse Apartment</td>\n",
       "      <td>254</td>\n",
       "      <td>2022-08-03</td>\n",
       "      <td>2022-08-03</td>\n",
       "      <td>2022-09-05 00:00:00</td>\n",
       "      <td>0</td>\n",
       "    </tr>\n",
       "    <tr>\n",
       "      <th>1</th>\n",
       "      <td>2100 SqFt Penthouse Suite W/ Strip Views! POOL...</td>\n",
       "      <td>Penthouse Apartment</td>\n",
       "      <td>254</td>\n",
       "      <td>2022-08-03</td>\n",
       "      <td>2022-08-03</td>\n",
       "      <td>2022-09-05 01:00:00</td>\n",
       "      <td>0</td>\n",
       "    </tr>\n",
       "    <tr>\n",
       "      <th>2</th>\n",
       "      <td>2100 SqFt Penthouse Suite W/ Strip Views! POOL...</td>\n",
       "      <td>Penthouse Apartment</td>\n",
       "      <td>254</td>\n",
       "      <td>2022-08-03</td>\n",
       "      <td>2022-08-03</td>\n",
       "      <td>2022-09-05 02:00:00</td>\n",
       "      <td>0</td>\n",
       "    </tr>\n",
       "    <tr>\n",
       "      <th>3</th>\n",
       "      <td>2100 SqFt Penthouse Suite W/ Strip Views! POOL...</td>\n",
       "      <td>Penthouse Apartment</td>\n",
       "      <td>254</td>\n",
       "      <td>2022-08-03</td>\n",
       "      <td>2022-08-03</td>\n",
       "      <td>2022-09-05 03:00:00</td>\n",
       "      <td>0</td>\n",
       "    </tr>\n",
       "    <tr>\n",
       "      <th>4</th>\n",
       "      <td>2100 SqFt Penthouse Suite W/ Strip Views! POOL...</td>\n",
       "      <td>Penthouse Apartment</td>\n",
       "      <td>254</td>\n",
       "      <td>2022-08-03</td>\n",
       "      <td>2022-08-03</td>\n",
       "      <td>2022-09-05 04:00:00</td>\n",
       "      <td>0</td>\n",
       "    </tr>\n",
       "  </tbody>\n",
       "</table>\n",
       "</div>"
      ],
      "text/plain": [
       "                                               Hotel            Room Type  \\\n",
       "0  2100 SqFt Penthouse Suite W/ Strip Views! POOL...  Penthouse Apartment   \n",
       "1  2100 SqFt Penthouse Suite W/ Strip Views! POOL...  Penthouse Apartment   \n",
       "2  2100 SqFt Penthouse Suite W/ Strip Views! POOL...  Penthouse Apartment   \n",
       "3  2100 SqFt Penthouse Suite W/ Strip Views! POOL...  Penthouse Apartment   \n",
       "4  2100 SqFt Penthouse Suite W/ Strip Views! POOL...  Penthouse Apartment   \n",
       "\n",
       "  Rate Check-in Date Search Date         Search Time Date_gap  \n",
       "0  254    2022-08-03  2022-08-03 2022-09-05 00:00:00       0   \n",
       "1  254    2022-08-03  2022-08-03 2022-09-05 01:00:00       0   \n",
       "2  254    2022-08-03  2022-08-03 2022-09-05 02:00:00       0   \n",
       "3  254    2022-08-03  2022-08-03 2022-09-05 03:00:00       0   \n",
       "4  254    2022-08-03  2022-08-03 2022-09-05 04:00:00       0   "
      ]
     },
     "execution_count": 6,
     "metadata": {},
     "output_type": "execute_result"
    }
   ],
   "source": [
    "df.head()"
   ]
  },
  {
   "cell_type": "code",
   "execution_count": 7,
   "id": "14e9e93d",
   "metadata": {},
   "outputs": [
    {
     "data": {
      "text/html": [
       "<div>\n",
       "<style scoped>\n",
       "    .dataframe tbody tr th:only-of-type {\n",
       "        vertical-align: middle;\n",
       "    }\n",
       "\n",
       "    .dataframe tbody tr th {\n",
       "        vertical-align: top;\n",
       "    }\n",
       "\n",
       "    .dataframe thead th {\n",
       "        text-align: right;\n",
       "    }\n",
       "</style>\n",
       "<table border=\"1\" class=\"dataframe\">\n",
       "  <thead>\n",
       "    <tr style=\"text-align: right;\">\n",
       "      <th></th>\n",
       "      <th>Search Time</th>\n",
       "      <th>Hotel</th>\n",
       "      <th>Room Type</th>\n",
       "      <th>Rate</th>\n",
       "      <th>Check-in Date</th>\n",
       "      <th>Search Date</th>\n",
       "      <th>Date_gap</th>\n",
       "    </tr>\n",
       "  </thead>\n",
       "  <tbody>\n",
       "    <tr>\n",
       "      <th>0</th>\n",
       "      <td>2022-09-05 00:00:00</td>\n",
       "      <td>2100 SqFt Penthouse Suite W/ Strip Views! POOL...</td>\n",
       "      <td>Penthouse Apartment</td>\n",
       "      <td>254</td>\n",
       "      <td>2022-08-03</td>\n",
       "      <td>2022-08-03</td>\n",
       "      <td>0</td>\n",
       "    </tr>\n",
       "    <tr>\n",
       "      <th>1</th>\n",
       "      <td>2022-09-05 01:00:00</td>\n",
       "      <td>2100 SqFt Penthouse Suite W/ Strip Views! POOL...</td>\n",
       "      <td>Penthouse Apartment</td>\n",
       "      <td>254</td>\n",
       "      <td>2022-08-03</td>\n",
       "      <td>2022-08-03</td>\n",
       "      <td>0</td>\n",
       "    </tr>\n",
       "    <tr>\n",
       "      <th>2</th>\n",
       "      <td>2022-09-05 02:00:00</td>\n",
       "      <td>2100 SqFt Penthouse Suite W/ Strip Views! POOL...</td>\n",
       "      <td>Penthouse Apartment</td>\n",
       "      <td>254</td>\n",
       "      <td>2022-08-03</td>\n",
       "      <td>2022-08-03</td>\n",
       "      <td>0</td>\n",
       "    </tr>\n",
       "    <tr>\n",
       "      <th>3</th>\n",
       "      <td>2022-09-05 03:00:00</td>\n",
       "      <td>2100 SqFt Penthouse Suite W/ Strip Views! POOL...</td>\n",
       "      <td>Penthouse Apartment</td>\n",
       "      <td>254</td>\n",
       "      <td>2022-08-03</td>\n",
       "      <td>2022-08-03</td>\n",
       "      <td>0</td>\n",
       "    </tr>\n",
       "    <tr>\n",
       "      <th>4</th>\n",
       "      <td>2022-09-05 04:00:00</td>\n",
       "      <td>2100 SqFt Penthouse Suite W/ Strip Views! POOL...</td>\n",
       "      <td>Penthouse Apartment</td>\n",
       "      <td>254</td>\n",
       "      <td>2022-08-03</td>\n",
       "      <td>2022-08-03</td>\n",
       "      <td>0</td>\n",
       "    </tr>\n",
       "  </tbody>\n",
       "</table>\n",
       "</div>"
      ],
      "text/plain": [
       "          Search Time                                              Hotel  \\\n",
       "0 2022-09-05 00:00:00  2100 SqFt Penthouse Suite W/ Strip Views! POOL...   \n",
       "1 2022-09-05 01:00:00  2100 SqFt Penthouse Suite W/ Strip Views! POOL...   \n",
       "2 2022-09-05 02:00:00  2100 SqFt Penthouse Suite W/ Strip Views! POOL...   \n",
       "3 2022-09-05 03:00:00  2100 SqFt Penthouse Suite W/ Strip Views! POOL...   \n",
       "4 2022-09-05 04:00:00  2100 SqFt Penthouse Suite W/ Strip Views! POOL...   \n",
       "\n",
       "             Room Type Rate Check-in Date Search Date Date_gap  \n",
       "0  Penthouse Apartment  254    2022-08-03  2022-08-03       0   \n",
       "1  Penthouse Apartment  254    2022-08-03  2022-08-03       0   \n",
       "2  Penthouse Apartment  254    2022-08-03  2022-08-03       0   \n",
       "3  Penthouse Apartment  254    2022-08-03  2022-08-03       0   \n",
       "4  Penthouse Apartment  254    2022-08-03  2022-08-03       0   "
      ]
     },
     "execution_count": 7,
     "metadata": {},
     "output_type": "execute_result"
    }
   ],
   "source": [
    "df1 = df.set_index(['Search Time'])\n",
    "df1= df1.reset_index()\n",
    "df1.head()"
   ]
  },
  {
   "cell_type": "code",
   "execution_count": 8,
   "id": "ad04c97b",
   "metadata": {},
   "outputs": [
    {
     "name": "stdout",
     "output_type": "stream",
     "text": [
      "<class 'pandas.core.frame.DataFrame'>\n",
      "RangeIndex: 8051 entries, 0 to 8050\n",
      "Data columns (total 7 columns):\n",
      " #   Column         Non-Null Count  Dtype         \n",
      "---  ------         --------------  -----         \n",
      " 0   Search Time    8051 non-null   datetime64[ns]\n",
      " 1   Hotel          8051 non-null   object        \n",
      " 2   Room Type      8051 non-null   object        \n",
      " 3   Rate           8051 non-null   object        \n",
      " 4   Check-in Date  8051 non-null   datetime64[ns]\n",
      " 5   Search Date    8051 non-null   datetime64[ns]\n",
      " 6   Date_gap       8051 non-null   object        \n",
      "dtypes: datetime64[ns](3), object(4)\n",
      "memory usage: 440.4+ KB\n"
     ]
    }
   ],
   "source": [
    "df1.info()"
   ]
  },
  {
   "cell_type": "code",
   "execution_count": 9,
   "id": "6b421ea3",
   "metadata": {},
   "outputs": [
    {
     "data": {
      "text/html": [
       "<div>\n",
       "<style scoped>\n",
       "    .dataframe tbody tr th:only-of-type {\n",
       "        vertical-align: middle;\n",
       "    }\n",
       "\n",
       "    .dataframe tbody tr th {\n",
       "        vertical-align: top;\n",
       "    }\n",
       "\n",
       "    .dataframe thead th {\n",
       "        text-align: right;\n",
       "    }\n",
       "</style>\n",
       "<table border=\"1\" class=\"dataframe\">\n",
       "  <thead>\n",
       "    <tr style=\"text-align: right;\">\n",
       "      <th></th>\n",
       "      <th>Search Time</th>\n",
       "      <th>Rate</th>\n",
       "    </tr>\n",
       "  </thead>\n",
       "  <tbody>\n",
       "    <tr>\n",
       "      <th>0</th>\n",
       "      <td>2022-09-05 00:00:00</td>\n",
       "      <td>254</td>\n",
       "    </tr>\n",
       "    <tr>\n",
       "      <th>1</th>\n",
       "      <td>2022-09-05 01:00:00</td>\n",
       "      <td>254</td>\n",
       "    </tr>\n",
       "    <tr>\n",
       "      <th>2</th>\n",
       "      <td>2022-09-05 02:00:00</td>\n",
       "      <td>254</td>\n",
       "    </tr>\n",
       "    <tr>\n",
       "      <th>3</th>\n",
       "      <td>2022-09-05 03:00:00</td>\n",
       "      <td>254</td>\n",
       "    </tr>\n",
       "    <tr>\n",
       "      <th>4</th>\n",
       "      <td>2022-09-05 04:00:00</td>\n",
       "      <td>254</td>\n",
       "    </tr>\n",
       "  </tbody>\n",
       "</table>\n",
       "</div>"
      ],
      "text/plain": [
       "          Search Time Rate\n",
       "0 2022-09-05 00:00:00  254\n",
       "1 2022-09-05 01:00:00  254\n",
       "2 2022-09-05 02:00:00  254\n",
       "3 2022-09-05 03:00:00  254\n",
       "4 2022-09-05 04:00:00  254"
      ]
     },
     "execution_count": 9,
     "metadata": {},
     "output_type": "execute_result"
    }
   ],
   "source": [
    "df2 = df1[['Search Time','Rate']]\n",
    "#df2= df2.reset_index()\n",
    "df2.head()"
   ]
  },
  {
   "cell_type": "code",
   "execution_count": 10,
   "id": "9a8ff897",
   "metadata": {},
   "outputs": [
    {
     "name": "stderr",
     "output_type": "stream",
     "text": [
      "C:\\Users\\USHAN\\AppData\\Local\\Temp\\ipykernel_3704\\3120066244.py:1: SettingWithCopyWarning: \n",
      "A value is trying to be set on a copy of a slice from a DataFrame.\n",
      "Try using .loc[row_indexer,col_indexer] = value instead\n",
      "\n",
      "See the caveats in the documentation: https://pandas.pydata.org/pandas-docs/stable/user_guide/indexing.html#returning-a-view-versus-a-copy\n",
      "  df2['Search Time'] = pd.to_numeric(pd.to_datetime(df2['Search Time']))\n"
     ]
    }
   ],
   "source": [
    "df2['Search Time'] = pd.to_numeric(pd.to_datetime(df2['Search Time']))"
   ]
  },
  {
   "cell_type": "code",
   "execution_count": 11,
   "id": "7c64167c",
   "metadata": {},
   "outputs": [
    {
     "name": "stderr",
     "output_type": "stream",
     "text": [
      "C:\\Users\\USHAN\\AppData\\Local\\Temp\\ipykernel_3704\\3909875341.py:1: SettingWithCopyWarning: \n",
      "A value is trying to be set on a copy of a slice from a DataFrame.\n",
      "Try using .loc[row_indexer,col_indexer] = value instead\n",
      "\n",
      "See the caveats in the documentation: https://pandas.pydata.org/pandas-docs/stable/user_guide/indexing.html#returning-a-view-versus-a-copy\n",
      "  df2['Rate'] = pd.to_numeric(df2['Rate'])\n"
     ]
    }
   ],
   "source": [
    "df2['Rate'] = pd.to_numeric(df2['Rate'])"
   ]
  },
  {
   "cell_type": "code",
   "execution_count": 12,
   "id": "21c642c8",
   "metadata": {},
   "outputs": [
    {
     "name": "stdout",
     "output_type": "stream",
     "text": [
      "<class 'pandas.core.frame.DataFrame'>\n",
      "RangeIndex: 8051 entries, 0 to 8050\n",
      "Data columns (total 2 columns):\n",
      " #   Column       Non-Null Count  Dtype\n",
      "---  ------       --------------  -----\n",
      " 0   Search Time  8051 non-null   int64\n",
      " 1   Rate         8051 non-null   int64\n",
      "dtypes: int64(2)\n",
      "memory usage: 125.9 KB\n"
     ]
    }
   ],
   "source": [
    "df2.info()"
   ]
  },
  {
   "cell_type": "code",
   "execution_count": 13,
   "id": "474a9c51",
   "metadata": {},
   "outputs": [],
   "source": [
    "# from statsmodels.tsa.seasonal import seasonal_decompose\n",
    "# decompose_data = seasonal_decompose(df1, model = \"additive\")\n",
    "# decompose_data.plot()"
   ]
  },
  {
   "cell_type": "code",
   "execution_count": 14,
   "id": "2c614c63",
   "metadata": {},
   "outputs": [],
   "source": [
    "from sklearn.preprocessing import MinMaxScaler\n",
    "scaler = MinMaxScaler()\n",
    "df2_scaled = scaler.fit_transform(df2)"
   ]
  },
  {
   "cell_type": "code",
   "execution_count": 15,
   "id": "7ddab688",
   "metadata": {},
   "outputs": [],
   "source": [
    "from sklearn.model_selection import train_test_split\n",
    "train , test = train_test_split(df2_scaled, test_size= 0.10, shuffle=False)"
   ]
  },
  {
   "cell_type": "markdown",
   "id": "345018cd",
   "metadata": {},
   "source": [
    "### This is MultiVarient data , \"n_features\" > 1"
   ]
  },
  {
   "cell_type": "code",
   "execution_count": 16,
   "id": "8e98cdb8",
   "metadata": {},
   "outputs": [],
   "source": [
    "from keras_preprocessing.sequence import TimeseriesGenerator\n",
    "\n",
    "n_input = 6\n",
    "\n",
    "# This is MultiVarient data , \"n_features\" > 1\n",
    "n_features = 1\n",
    "\n",
    "generatorTrain = TimeseriesGenerator(train, train, length=n_input, batch_size=1)\n",
    "generatorTest = TimeseriesGenerator(test, test, length=n_input, batch_size=1)"
   ]
  },
  {
   "cell_type": "code",
   "execution_count": 17,
   "id": "e2354329",
   "metadata": {},
   "outputs": [
    {
     "name": "stdout",
     "output_type": "stream",
     "text": [
      "[[[0.         0.30148048]\n",
      "  [0.04347826 0.30148048]\n",
      "  [0.08695652 0.30148048]\n",
      "  [0.13043478 0.30148048]\n",
      "  [0.17391304 0.30148048]\n",
      "  [0.2173913  0.30148048]]] [[0.26086957 0.30148048]]\n"
     ]
    }
   ],
   "source": [
    "batch_0 = generatorTrain[0]\n",
    "x, y = batch_0\n",
    "\n",
    "print(x, y)"
   ]
  },
  {
   "cell_type": "code",
   "execution_count": null,
   "id": "fcf58eaa",
   "metadata": {},
   "outputs": [],
   "source": []
  },
  {
   "cell_type": "code",
   "execution_count": 8,
   "id": "2db56e3b",
   "metadata": {},
   "outputs": [],
   "source": [
    "#df('Rate')[['Hotel','Room Type','Date_gap']].plot(subplots=True)"
   ]
  },
  {
   "cell_type": "code",
   "execution_count": null,
   "id": "bfcf0323",
   "metadata": {},
   "outputs": [],
   "source": []
  },
  {
   "cell_type": "code",
   "execution_count": null,
   "id": "579b86d4",
   "metadata": {},
   "outputs": [],
   "source": []
  },
  {
   "cell_type": "code",
   "execution_count": null,
   "id": "051d4dc1",
   "metadata": {},
   "outputs": [],
   "source": []
  }
 ],
 "metadata": {
  "kernelspec": {
   "display_name": "Python 3 (ipykernel)",
   "language": "python",
   "name": "python3"
  },
  "language_info": {
   "codemirror_mode": {
    "name": "ipython",
    "version": 3
   },
   "file_extension": ".py",
   "mimetype": "text/x-python",
   "name": "python",
   "nbconvert_exporter": "python",
   "pygments_lexer": "ipython3",
   "version": "3.8.13"
  },
  "varInspector": {
   "cols": {
    "lenName": 16,
    "lenType": 16,
    "lenVar": 40
   },
   "kernels_config": {
    "python": {
     "delete_cmd_postfix": "",
     "delete_cmd_prefix": "del ",
     "library": "var_list.py",
     "varRefreshCmd": "print(var_dic_list())"
    },
    "r": {
     "delete_cmd_postfix": ") ",
     "delete_cmd_prefix": "rm(",
     "library": "var_list.r",
     "varRefreshCmd": "cat(var_dic_list()) "
    }
   },
   "types_to_exclude": [
    "module",
    "function",
    "builtin_function_or_method",
    "instance",
    "_Feature"
   ],
   "window_display": false
  }
 },
 "nbformat": 4,
 "nbformat_minor": 5
}
