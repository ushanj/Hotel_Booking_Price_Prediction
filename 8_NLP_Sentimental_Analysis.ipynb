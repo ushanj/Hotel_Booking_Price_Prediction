{
 "cells": [
  {
   "cell_type": "code",
   "execution_count": 1,
   "id": "d63f2497",
   "metadata": {},
   "outputs": [],
   "source": [
    "import numpy as np # linear algebra\n",
    "import pandas as pd # data processing, CSV file I/O (e.g. pd.read_csv)\n",
    "from sklearn.model_selection import train_test_split # function for splitting data to train and test sets\n",
    "\n",
    "import nltk\n",
    "from nltk.corpus import stopwords\n",
    "from nltk.classify import SklearnClassifier\n",
    "\n",
    "from wordcloud import WordCloud,STOPWORDS\n",
    "import matplotlib.pyplot as plt\n",
    "%matplotlib inline\n",
    "\n",
    "# Input data files are available in the \"../input/\" directory.\n",
    "# For example, running this (by clicking run or pressing Shift+Enter) will list the files in the input directory\n",
    "\n",
    "from subprocess import check_output"
   ]
  },
  {
   "cell_type": "code",
   "execution_count": 2,
   "id": "89a2f6bb",
   "metadata": {},
   "outputs": [],
   "source": [
    "df = pd.read_csv(\"Travel_scrape.csv\")"
   ]
  },
  {
   "cell_type": "code",
   "execution_count": 3,
   "id": "a51710b0",
   "metadata": {},
   "outputs": [
    {
     "data": {
      "text/html": [
       "<div>\n",
       "<style scoped>\n",
       "    .dataframe tbody tr th:only-of-type {\n",
       "        vertical-align: middle;\n",
       "    }\n",
       "\n",
       "    .dataframe tbody tr th {\n",
       "        vertical-align: top;\n",
       "    }\n",
       "\n",
       "    .dataframe thead th {\n",
       "        text-align: right;\n",
       "    }\n",
       "</style>\n",
       "<table border=\"1\" class=\"dataframe\">\n",
       "  <thead>\n",
       "    <tr style=\"text-align: right;\">\n",
       "      <th></th>\n",
       "      <th>Hotel</th>\n",
       "      <th>Room Type</th>\n",
       "      <th>Check-in Date</th>\n",
       "      <th>Search Date</th>\n",
       "      <th>Search Time</th>\n",
       "      <th>Rate</th>\n",
       "    </tr>\n",
       "  </thead>\n",
       "  <tbody>\n",
       "    <tr>\n",
       "      <th>0</th>\n",
       "      <td>2100 SqFt Penthouse Suite W/ Strip Views! POOL...</td>\n",
       "      <td>Penthouse Apartment</td>\n",
       "      <td>8/3/2022</td>\n",
       "      <td>8/3/2022</td>\n",
       "      <td>0:00:00</td>\n",
       "      <td>US$254</td>\n",
       "    </tr>\n",
       "    <tr>\n",
       "      <th>1</th>\n",
       "      <td>2100 SqFt Penthouse Suite W/ Strip Views! POOL...</td>\n",
       "      <td>Penthouse Apartment</td>\n",
       "      <td>8/3/2022</td>\n",
       "      <td>8/3/2022</td>\n",
       "      <td>1:00:00</td>\n",
       "      <td>US$254</td>\n",
       "    </tr>\n",
       "    <tr>\n",
       "      <th>2</th>\n",
       "      <td>2100 SqFt Penthouse Suite W/ Strip Views! POOL...</td>\n",
       "      <td>Penthouse Apartment</td>\n",
       "      <td>8/3/2022</td>\n",
       "      <td>8/3/2022</td>\n",
       "      <td>2:00:00</td>\n",
       "      <td>US$254</td>\n",
       "    </tr>\n",
       "    <tr>\n",
       "      <th>3</th>\n",
       "      <td>2100 SqFt Penthouse Suite W/ Strip Views! POOL...</td>\n",
       "      <td>Penthouse Apartment</td>\n",
       "      <td>8/3/2022</td>\n",
       "      <td>8/3/2022</td>\n",
       "      <td>3:00:00</td>\n",
       "      <td>US$254</td>\n",
       "    </tr>\n",
       "    <tr>\n",
       "      <th>4</th>\n",
       "      <td>2100 SqFt Penthouse Suite W/ Strip Views! POOL...</td>\n",
       "      <td>Penthouse Apartment</td>\n",
       "      <td>8/3/2022</td>\n",
       "      <td>8/3/2022</td>\n",
       "      <td>4:00:00</td>\n",
       "      <td>US$254</td>\n",
       "    </tr>\n",
       "  </tbody>\n",
       "</table>\n",
       "</div>"
      ],
      "text/plain": [
       "                                               Hotel            Room Type  \\\n",
       "0  2100 SqFt Penthouse Suite W/ Strip Views! POOL...  Penthouse Apartment   \n",
       "1  2100 SqFt Penthouse Suite W/ Strip Views! POOL...  Penthouse Apartment   \n",
       "2  2100 SqFt Penthouse Suite W/ Strip Views! POOL...  Penthouse Apartment   \n",
       "3  2100 SqFt Penthouse Suite W/ Strip Views! POOL...  Penthouse Apartment   \n",
       "4  2100 SqFt Penthouse Suite W/ Strip Views! POOL...  Penthouse Apartment   \n",
       "\n",
       "  Check-in Date Search Date Search Time    Rate  \n",
       "0      8/3/2022    8/3/2022     0:00:00  US$254  \n",
       "1      8/3/2022    8/3/2022     1:00:00  US$254  \n",
       "2      8/3/2022    8/3/2022     2:00:00  US$254  \n",
       "3      8/3/2022    8/3/2022     3:00:00  US$254  \n",
       "4      8/3/2022    8/3/2022     4:00:00  US$254  "
      ]
     },
     "execution_count": 3,
     "metadata": {},
     "output_type": "execute_result"
    }
   ],
   "source": [
    "df.head()"
   ]
  },
  {
   "cell_type": "code",
   "execution_count": 4,
   "id": "c1431e7b",
   "metadata": {},
   "outputs": [
    {
     "data": {
      "text/plain": [
       "8046                            Executive Suite\n",
       "8047                            Executive Suite\n",
       "8048    Deluxe Executive King Non-Smoking Suite\n",
       "8049                            Executive Suite\n",
       "8050                      Executive Double Room\n",
       "Name: Room Type, dtype: object"
      ]
     },
     "execution_count": 4,
     "metadata": {},
     "output_type": "execute_result"
    }
   ],
   "source": [
    "data = df['Room Type']\n",
    "data.tail()"
   ]
  },
  {
   "cell_type": "code",
   "execution_count": 5,
   "id": "06cb91aa",
   "metadata": {},
   "outputs": [
    {
     "data": {
      "text/plain": [
       "0"
      ]
     },
     "execution_count": 5,
     "metadata": {},
     "output_type": "execute_result"
    }
   ],
   "source": [
    "data.isnull().sum()"
   ]
  },
  {
   "cell_type": "code",
   "execution_count": 6,
   "id": "352cbbe8",
   "metadata": {},
   "outputs": [],
   "source": [
    "def wordcloud_draw(data, color = 'black'):\n",
    "    words = ' '.join(data)\n",
    "    cleaned_word = \" \".join([word for word in words.split()\n",
    "                            if 'http' not in word\n",
    "                                and not word.startswith('@')\n",
    "                                and not word.startswith('#')\n",
    "                                and word != 'RT'\n",
    "                            ])\n",
    "    wordcloud = WordCloud(stopwords=STOPWORDS,\n",
    "                      background_color=color,\n",
    "                      width=2500,\n",
    "                      height=2000\n",
    "                     ).generate(cleaned_word)\n",
    "    plt.figure(1,figsize=(13, 13))\n",
    "    plt.imshow(wordcloud)\n",
    "    plt.axis('off')\n",
    "    plt.show()\n",
    "    "
   ]
  },
  {
   "cell_type": "code",
   "execution_count": 7,
   "id": "429c5f16",
   "metadata": {},
   "outputs": [
    {
     "data": {
      "image/png": "[encoded data removed]",
      "text/plain": [
       "<Figure size 936x936 with 1 Axes>"
      ]
     },
     "metadata": {
      "needs_background": "light"
     },
     "output_type": "display_data"
    }
   ],
   "source": [
    "wordcloud_draw(data)"
   ]
  },
  {
   "cell_type": "code",
   "execution_count": 8,
   "id": "2b9502c1",
   "metadata": {},
   "outputs": [],
   "source": [
    "# stopwords_set = set(stopwords.words(\"english\"))"
   ]
  },
  {
   "cell_type": "code",
   "execution_count": null,
   "id": "96fbbc1f",
   "metadata": {},
   "outputs": [],
   "source": []
  },
  {
   "cell_type": "code",
   "execution_count": null,
   "id": "f08cd325",
   "metadata": {},
   "outputs": [],
   "source": []
  },
  {
   "cell_type": "code",
   "execution_count": null,
   "id": "6c613956",
   "metadata": {},
   "outputs": [],
   "source": []
  },
  {
   "cell_type": "code",
   "execution_count": null,
   "id": "d46bf322",
   "metadata": {},
   "outputs": [],
   "source": []
  },
  {
   "cell_type": "code",
   "execution_count": 9,
   "id": "04059678",
   "metadata": {},
   "outputs": [],
   "source": [
    "######################################\n",
    "######################################\n",
    "######################################\n",
    "######################################"
   ]
  },
  {
   "cell_type": "code",
   "execution_count": 10,
   "id": "697cc146",
   "metadata": {},
   "outputs": [],
   "source": [
    "import pandas as pd\n",
    "import numpy as np\n",
    "import matplotlib.pyplot as plt\n",
    "import seaborn as sns\n",
    "\n",
    "plt.style.use('ggplot')\n",
    "\n",
    "import nltk"
   ]
  },
  {
   "cell_type": "code",
   "execution_count": 11,
   "id": "c5a653fa",
   "metadata": {},
   "outputs": [
    {
     "data": {
      "text/html": [
       "<div>\n",
       "<style scoped>\n",
       "    .dataframe tbody tr th:only-of-type {\n",
       "        vertical-align: middle;\n",
       "    }\n",
       "\n",
       "    .dataframe tbody tr th {\n",
       "        vertical-align: top;\n",
       "    }\n",
       "\n",
       "    .dataframe thead th {\n",
       "        text-align: right;\n",
       "    }\n",
       "</style>\n",
       "<table border=\"1\" class=\"dataframe\">\n",
       "  <thead>\n",
       "    <tr style=\"text-align: right;\">\n",
       "      <th></th>\n",
       "      <th>Hotel</th>\n",
       "      <th>Room Type</th>\n",
       "      <th>Check-in Date</th>\n",
       "      <th>Search Date</th>\n",
       "      <th>Search Time</th>\n",
       "      <th>Rate</th>\n",
       "    </tr>\n",
       "  </thead>\n",
       "  <tbody>\n",
       "    <tr>\n",
       "      <th>0</th>\n",
       "      <td>2100 SqFt Penthouse Suite W/ Strip Views! POOL...</td>\n",
       "      <td>Penthouse Apartment</td>\n",
       "      <td>8/3/2022</td>\n",
       "      <td>8/3/2022</td>\n",
       "      <td>0:00:00</td>\n",
       "      <td>US$254</td>\n",
       "    </tr>\n",
       "    <tr>\n",
       "      <th>1</th>\n",
       "      <td>2100 SqFt Penthouse Suite W/ Strip Views! POOL...</td>\n",
       "      <td>Penthouse Apartment</td>\n",
       "      <td>8/3/2022</td>\n",
       "      <td>8/3/2022</td>\n",
       "      <td>1:00:00</td>\n",
       "      <td>US$254</td>\n",
       "    </tr>\n",
       "    <tr>\n",
       "      <th>2</th>\n",
       "      <td>2100 SqFt Penthouse Suite W/ Strip Views! POOL...</td>\n",
       "      <td>Penthouse Apartment</td>\n",
       "      <td>8/3/2022</td>\n",
       "      <td>8/3/2022</td>\n",
       "      <td>2:00:00</td>\n",
       "      <td>US$254</td>\n",
       "    </tr>\n",
       "    <tr>\n",
       "      <th>3</th>\n",
       "      <td>2100 SqFt Penthouse Suite W/ Strip Views! POOL...</td>\n",
       "      <td>Penthouse Apartment</td>\n",
       "      <td>8/3/2022</td>\n",
       "      <td>8/3/2022</td>\n",
       "      <td>3:00:00</td>\n",
       "      <td>US$254</td>\n",
       "    </tr>\n",
       "    <tr>\n",
       "      <th>4</th>\n",
       "      <td>2100 SqFt Penthouse Suite W/ Strip Views! POOL...</td>\n",
       "      <td>Penthouse Apartment</td>\n",
       "      <td>8/3/2022</td>\n",
       "      <td>8/3/2022</td>\n",
       "      <td>4:00:00</td>\n",
       "      <td>US$254</td>\n",
       "    </tr>\n",
       "  </tbody>\n",
       "</table>\n",
       "</div>"
      ],
      "text/plain": [
       "                                               Hotel            Room Type  \\\n",
       "0  2100 SqFt Penthouse Suite W/ Strip Views! POOL...  Penthouse Apartment   \n",
       "1  2100 SqFt Penthouse Suite W/ Strip Views! POOL...  Penthouse Apartment   \n",
       "2  2100 SqFt Penthouse Suite W/ Strip Views! POOL...  Penthouse Apartment   \n",
       "3  2100 SqFt Penthouse Suite W/ Strip Views! POOL...  Penthouse Apartment   \n",
       "4  2100 SqFt Penthouse Suite W/ Strip Views! POOL...  Penthouse Apartment   \n",
       "\n",
       "  Check-in Date Search Date Search Time    Rate  \n",
       "0      8/3/2022    8/3/2022     0:00:00  US$254  \n",
       "1      8/3/2022    8/3/2022     1:00:00  US$254  \n",
       "2      8/3/2022    8/3/2022     2:00:00  US$254  \n",
       "3      8/3/2022    8/3/2022     3:00:00  US$254  \n",
       "4      8/3/2022    8/3/2022     4:00:00  US$254  "
      ]
     },
     "execution_count": 11,
     "metadata": {},
     "output_type": "execute_result"
    }
   ],
   "source": [
    "df.head()"
   ]
  },
  {
   "cell_type": "code",
   "execution_count": 12,
   "id": "234e52f3",
   "metadata": {},
   "outputs": [
    {
     "data": {
      "text/html": [
       "<div>\n",
       "<style scoped>\n",
       "    .dataframe tbody tr th:only-of-type {\n",
       "        vertical-align: middle;\n",
       "    }\n",
       "\n",
       "    .dataframe tbody tr th {\n",
       "        vertical-align: top;\n",
       "    }\n",
       "\n",
       "    .dataframe thead th {\n",
       "        text-align: right;\n",
       "    }\n",
       "</style>\n",
       "<table border=\"1\" class=\"dataframe\">\n",
       "  <thead>\n",
       "    <tr style=\"text-align: right;\">\n",
       "      <th></th>\n",
       "      <th>Hotel</th>\n",
       "      <th>Room Type</th>\n",
       "      <th>Check-in Date</th>\n",
       "      <th>Search Date</th>\n",
       "      <th>Search Time</th>\n",
       "      <th>Rate</th>\n",
       "      <th>Id</th>\n",
       "    </tr>\n",
       "  </thead>\n",
       "  <tbody>\n",
       "    <tr>\n",
       "      <th>0</th>\n",
       "      <td>2100 SqFt Penthouse Suite W/ Strip Views! POOL...</td>\n",
       "      <td>Penthouse Apartment</td>\n",
       "      <td>8/3/2022</td>\n",
       "      <td>8/3/2022</td>\n",
       "      <td>0:00:00</td>\n",
       "      <td>US$254</td>\n",
       "      <td>1</td>\n",
       "    </tr>\n",
       "    <tr>\n",
       "      <th>1</th>\n",
       "      <td>2100 SqFt Penthouse Suite W/ Strip Views! POOL...</td>\n",
       "      <td>Penthouse Apartment</td>\n",
       "      <td>8/3/2022</td>\n",
       "      <td>8/3/2022</td>\n",
       "      <td>1:00:00</td>\n",
       "      <td>US$254</td>\n",
       "      <td>2</td>\n",
       "    </tr>\n",
       "    <tr>\n",
       "      <th>2</th>\n",
       "      <td>2100 SqFt Penthouse Suite W/ Strip Views! POOL...</td>\n",
       "      <td>Penthouse Apartment</td>\n",
       "      <td>8/3/2022</td>\n",
       "      <td>8/3/2022</td>\n",
       "      <td>2:00:00</td>\n",
       "      <td>US$254</td>\n",
       "      <td>3</td>\n",
       "    </tr>\n",
       "    <tr>\n",
       "      <th>3</th>\n",
       "      <td>2100 SqFt Penthouse Suite W/ Strip Views! POOL...</td>\n",
       "      <td>Penthouse Apartment</td>\n",
       "      <td>8/3/2022</td>\n",
       "      <td>8/3/2022</td>\n",
       "      <td>3:00:00</td>\n",
       "      <td>US$254</td>\n",
       "      <td>4</td>\n",
       "    </tr>\n",
       "    <tr>\n",
       "      <th>4</th>\n",
       "      <td>2100 SqFt Penthouse Suite W/ Strip Views! POOL...</td>\n",
       "      <td>Penthouse Apartment</td>\n",
       "      <td>8/3/2022</td>\n",
       "      <td>8/3/2022</td>\n",
       "      <td>4:00:00</td>\n",
       "      <td>US$254</td>\n",
       "      <td>5</td>\n",
       "    </tr>\n",
       "  </tbody>\n",
       "</table>\n",
       "</div>"
      ],
      "text/plain": [
       "                                               Hotel            Room Type  \\\n",
       "0  2100 SqFt Penthouse Suite W/ Strip Views! POOL...  Penthouse Apartment   \n",
       "1  2100 SqFt Penthouse Suite W/ Strip Views! POOL...  Penthouse Apartment   \n",
       "2  2100 SqFt Penthouse Suite W/ Strip Views! POOL...  Penthouse Apartment   \n",
       "3  2100 SqFt Penthouse Suite W/ Strip Views! POOL...  Penthouse Apartment   \n",
       "4  2100 SqFt Penthouse Suite W/ Strip Views! POOL...  Penthouse Apartment   \n",
       "\n",
       "  Check-in Date Search Date Search Time    Rate  Id  \n",
       "0      8/3/2022    8/3/2022     0:00:00  US$254   1  \n",
       "1      8/3/2022    8/3/2022     1:00:00  US$254   2  \n",
       "2      8/3/2022    8/3/2022     2:00:00  US$254   3  \n",
       "3      8/3/2022    8/3/2022     3:00:00  US$254   4  \n",
       "4      8/3/2022    8/3/2022     4:00:00  US$254   5  "
      ]
     },
     "execution_count": 12,
     "metadata": {},
     "output_type": "execute_result"
    }
   ],
   "source": [
    "df['Id'] = df.index+1\n",
    "df.head()"
   ]
  },
  {
   "cell_type": "code",
   "execution_count": 13,
   "id": "aa70e6f3",
   "metadata": {},
   "outputs": [
    {
     "data": {
      "text/html": [
       "<div>\n",
       "<style scoped>\n",
       "    .dataframe tbody tr th:only-of-type {\n",
       "        vertical-align: middle;\n",
       "    }\n",
       "\n",
       "    .dataframe tbody tr th {\n",
       "        vertical-align: top;\n",
       "    }\n",
       "\n",
       "    .dataframe thead th {\n",
       "        text-align: right;\n",
       "    }\n",
       "</style>\n",
       "<table border=\"1\" class=\"dataframe\">\n",
       "  <thead>\n",
       "    <tr style=\"text-align: right;\">\n",
       "      <th></th>\n",
       "      <th>Hotel</th>\n",
       "      <th>Room Type</th>\n",
       "      <th>Check-in Date</th>\n",
       "      <th>Search Date</th>\n",
       "      <th>Search Time</th>\n",
       "      <th>Rate</th>\n",
       "    </tr>\n",
       "    <tr>\n",
       "      <th>Id</th>\n",
       "      <th></th>\n",
       "      <th></th>\n",
       "      <th></th>\n",
       "      <th></th>\n",
       "      <th></th>\n",
       "      <th></th>\n",
       "    </tr>\n",
       "  </thead>\n",
       "  <tbody>\n",
       "    <tr>\n",
       "      <th>1</th>\n",
       "      <td>2100 SqFt Penthouse Suite W/ Strip Views! POOL...</td>\n",
       "      <td>Penthouse Apartment</td>\n",
       "      <td>8/3/2022</td>\n",
       "      <td>8/3/2022</td>\n",
       "      <td>0:00:00</td>\n",
       "      <td>US$254</td>\n",
       "    </tr>\n",
       "    <tr>\n",
       "      <th>2</th>\n",
       "      <td>2100 SqFt Penthouse Suite W/ Strip Views! POOL...</td>\n",
       "      <td>Penthouse Apartment</td>\n",
       "      <td>8/3/2022</td>\n",
       "      <td>8/3/2022</td>\n",
       "      <td>1:00:00</td>\n",
       "      <td>US$254</td>\n",
       "    </tr>\n",
       "    <tr>\n",
       "      <th>3</th>\n",
       "      <td>2100 SqFt Penthouse Suite W/ Strip Views! POOL...</td>\n",
       "      <td>Penthouse Apartment</td>\n",
       "      <td>8/3/2022</td>\n",
       "      <td>8/3/2022</td>\n",
       "      <td>2:00:00</td>\n",
       "      <td>US$254</td>\n",
       "    </tr>\n",
       "    <tr>\n",
       "      <th>4</th>\n",
       "      <td>2100 SqFt Penthouse Suite W/ Strip Views! POOL...</td>\n",
       "      <td>Penthouse Apartment</td>\n",
       "      <td>8/3/2022</td>\n",
       "      <td>8/3/2022</td>\n",
       "      <td>3:00:00</td>\n",
       "      <td>US$254</td>\n",
       "    </tr>\n",
       "    <tr>\n",
       "      <th>5</th>\n",
       "      <td>2100 SqFt Penthouse Suite W/ Strip Views! POOL...</td>\n",
       "      <td>Penthouse Apartment</td>\n",
       "      <td>8/3/2022</td>\n",
       "      <td>8/3/2022</td>\n",
       "      <td>4:00:00</td>\n",
       "      <td>US$254</td>\n",
       "    </tr>\n",
       "    <tr>\n",
       "      <th>...</th>\n",
       "      <td>...</td>\n",
       "      <td>...</td>\n",
       "      <td>...</td>\n",
       "      <td>...</td>\n",
       "      <td>...</td>\n",
       "      <td>...</td>\n",
       "    </tr>\n",
       "    <tr>\n",
       "      <th>8047</th>\n",
       "      <td>Tuscany Suites &amp; Casino</td>\n",
       "      <td>Executive Suite</td>\n",
       "      <td>8/20/2022</td>\n",
       "      <td>8/7/2022</td>\n",
       "      <td>21:00:00</td>\n",
       "      <td>US$121</td>\n",
       "    </tr>\n",
       "    <tr>\n",
       "      <th>8048</th>\n",
       "      <td>Tuscany Suites &amp; Casino</td>\n",
       "      <td>Executive Suite</td>\n",
       "      <td>8/20/2022</td>\n",
       "      <td>8/7/2022</td>\n",
       "      <td>22:00:00</td>\n",
       "      <td>US$139</td>\n",
       "    </tr>\n",
       "    <tr>\n",
       "      <th>8049</th>\n",
       "      <td>Tuscany Suites &amp; Casino</td>\n",
       "      <td>Deluxe Executive King Non-Smoking Suite</td>\n",
       "      <td>8/20/2022</td>\n",
       "      <td>8/7/2022</td>\n",
       "      <td>23:00:00</td>\n",
       "      <td>US$168</td>\n",
       "    </tr>\n",
       "    <tr>\n",
       "      <th>8050</th>\n",
       "      <td>Tuscany Suites &amp; Casino</td>\n",
       "      <td>Executive Suite</td>\n",
       "      <td>8/20/2022</td>\n",
       "      <td>8/8/2022</td>\n",
       "      <td>0:00:00</td>\n",
       "      <td>US$143</td>\n",
       "    </tr>\n",
       "    <tr>\n",
       "      <th>8051</th>\n",
       "      <td>Tuscany Suites &amp; Casino</td>\n",
       "      <td>Executive Double Room</td>\n",
       "      <td>8/20/2022</td>\n",
       "      <td>8/8/2022</td>\n",
       "      <td>0:00:00</td>\n",
       "      <td>US$147</td>\n",
       "    </tr>\n",
       "  </tbody>\n",
       "</table>\n",
       "<p>8051 rows × 6 columns</p>\n",
       "</div>"
      ],
      "text/plain": [
       "                                                  Hotel  \\\n",
       "Id                                                        \n",
       "1     2100 SqFt Penthouse Suite W/ Strip Views! POOL...   \n",
       "2     2100 SqFt Penthouse Suite W/ Strip Views! POOL...   \n",
       "3     2100 SqFt Penthouse Suite W/ Strip Views! POOL...   \n",
       "4     2100 SqFt Penthouse Suite W/ Strip Views! POOL...   \n",
       "5     2100 SqFt Penthouse Suite W/ Strip Views! POOL...   \n",
       "...                                                 ...   \n",
       "8047                            Tuscany Suites & Casino   \n",
       "8048                            Tuscany Suites & Casino   \n",
       "8049                            Tuscany Suites & Casino   \n",
       "8050                            Tuscany Suites & Casino   \n",
       "8051                            Tuscany Suites & Casino   \n",
       "\n",
       "                                    Room Type Check-in Date Search Date  \\\n",
       "Id                                                                        \n",
       "1                         Penthouse Apartment      8/3/2022    8/3/2022   \n",
       "2                         Penthouse Apartment      8/3/2022    8/3/2022   \n",
       "3                         Penthouse Apartment      8/3/2022    8/3/2022   \n",
       "4                         Penthouse Apartment      8/3/2022    8/3/2022   \n",
       "5                         Penthouse Apartment      8/3/2022    8/3/2022   \n",
       "...                                       ...           ...         ...   \n",
       "8047                          Executive Suite     8/20/2022    8/7/2022   \n",
       "8048                          Executive Suite     8/20/2022    8/7/2022   \n",
       "8049  Deluxe Executive King Non-Smoking Suite     8/20/2022    8/7/2022   \n",
       "8050                          Executive Suite     8/20/2022    8/8/2022   \n",
       "8051                    Executive Double Room     8/20/2022    8/8/2022   \n",
       "\n",
       "     Search Time    Rate  \n",
       "Id                        \n",
       "1        0:00:00  US$254  \n",
       "2        1:00:00  US$254  \n",
       "3        2:00:00  US$254  \n",
       "4        3:00:00  US$254  \n",
       "5        4:00:00  US$254  \n",
       "...          ...     ...  \n",
       "8047    21:00:00  US$121  \n",
       "8048    22:00:00  US$139  \n",
       "8049    23:00:00  US$168  \n",
       "8050     0:00:00  US$143  \n",
       "8051     0:00:00  US$147  \n",
       "\n",
       "[8051 rows x 6 columns]"
      ]
     },
     "execution_count": 13,
     "metadata": {},
     "output_type": "execute_result"
    }
   ],
   "source": [
    "df.set_index('Id')"
   ]
  },
  {
   "cell_type": "code",
   "execution_count": 14,
   "id": "9c7322e4",
   "metadata": {},
   "outputs": [
    {
     "data": {
      "text/plain": [
       "'Penthouse Apartment'"
      ]
     },
     "execution_count": 14,
     "metadata": {},
     "output_type": "execute_result"
    }
   ],
   "source": [
    "df['Room Type'].values[0]"
   ]
  },
  {
   "cell_type": "code",
   "execution_count": 15,
   "id": "d95f3c85",
   "metadata": {},
   "outputs": [
    {
     "data": {
      "text/plain": [
       "(8051, 7)"
      ]
     },
     "execution_count": 15,
     "metadata": {},
     "output_type": "execute_result"
    }
   ],
   "source": [
    "df.shape"
   ]
  },
  {
   "cell_type": "markdown",
   "id": "932e44ed",
   "metadata": {},
   "source": [
    "## Basic NLTK"
   ]
  },
  {
   "cell_type": "code",
   "execution_count": 16,
   "id": "20a00fe1",
   "metadata": {},
   "outputs": [
    {
     "name": "stdout",
     "output_type": "stream",
     "text": [
      "Standard King Room (No Resort Fees + Free Parking)\n"
     ]
    }
   ],
   "source": [
    "example = df['Room Type'][1000]\n",
    "print(example)"
   ]
  },
  {
   "cell_type": "code",
   "execution_count": 17,
   "id": "93f2e1c6",
   "metadata": {},
   "outputs": [
    {
     "name": "stderr",
     "output_type": "stream",
     "text": [
      "[nltk_data] Downloading package punkt to\n",
      "[nltk_data]     C:\\Users\\USHAN\\AppData\\Roaming\\nltk_data...\n",
      "[nltk_data]   Package punkt is already up-to-date!\n"
     ]
    },
    {
     "data": {
      "text/plain": [
       "True"
      ]
     },
     "execution_count": 17,
     "metadata": {},
     "output_type": "execute_result"
    }
   ],
   "source": [
    "import nltk\n",
    "nltk.download('punkt')"
   ]
  },
  {
   "cell_type": "code",
   "execution_count": 18,
   "id": "0c9b84e4",
   "metadata": {},
   "outputs": [
    {
     "data": {
      "text/plain": [
       "['Standard',\n",
       " 'King',\n",
       " 'Room',\n",
       " '(',\n",
       " 'No',\n",
       " 'Resort',\n",
       " 'Fees',\n",
       " '+',\n",
       " 'Free',\n",
       " 'Parking',\n",
       " ')']"
      ]
     },
     "execution_count": 18,
     "metadata": {},
     "output_type": "execute_result"
    }
   ],
   "source": [
    "tokens = nltk.word_tokenize(example)\n",
    "tokens"
   ]
  },
  {
   "cell_type": "code",
   "execution_count": 19,
   "id": "4e71b749",
   "metadata": {},
   "outputs": [
    {
     "name": "stderr",
     "output_type": "stream",
     "text": [
      "[nltk_data] Downloading package averaged_perceptron_tagger to\n",
      "[nltk_data]     C:\\Users\\USHAN\\AppData\\Roaming\\nltk_data...\n",
      "[nltk_data]   Package averaged_perceptron_tagger is already up-to-\n",
      "[nltk_data]       date!\n"
     ]
    },
    {
     "data": {
      "text/plain": [
       "True"
      ]
     },
     "execution_count": 19,
     "metadata": {},
     "output_type": "execute_result"
    }
   ],
   "source": [
    "nltk.download('averaged_perceptron_tagger')"
   ]
  },
  {
   "cell_type": "code",
   "execution_count": 20,
   "id": "db09319a",
   "metadata": {},
   "outputs": [
    {
     "data": {
      "text/plain": [
       "[('Standard', 'NNP'),\n",
       " ('King', 'NNP'),\n",
       " ('Room', 'NNP'),\n",
       " ('(', '('),\n",
       " ('No', 'NNP'),\n",
       " ('Resort', 'NNP'),\n",
       " ('Fees', 'NNP'),\n",
       " ('+', 'NNP'),\n",
       " ('Free', 'NNP'),\n",
       " ('Parking', 'NNP'),\n",
       " (')', ')')]"
      ]
     },
     "execution_count": 20,
     "metadata": {},
     "output_type": "execute_result"
    }
   ],
   "source": [
    "tagged = nltk.pos_tag(tokens)\n",
    "tagged"
   ]
  },
  {
   "cell_type": "code",
   "execution_count": 21,
   "id": "8cc01579",
   "metadata": {},
   "outputs": [
    {
     "name": "stderr",
     "output_type": "stream",
     "text": [
      "[nltk_data] Downloading package maxent_ne_chunker to\n",
      "[nltk_data]     C:\\Users\\USHAN\\AppData\\Roaming\\nltk_data...\n",
      "[nltk_data]   Package maxent_ne_chunker is already up-to-date!\n"
     ]
    },
    {
     "data": {
      "text/plain": [
       "True"
      ]
     },
     "execution_count": 21,
     "metadata": {},
     "output_type": "execute_result"
    }
   ],
   "source": [
    "import nltk\n",
    "nltk.download('maxent_ne_chunker')"
   ]
  },
  {
   "cell_type": "code",
   "execution_count": 22,
   "id": "d53b5da0",
   "metadata": {},
   "outputs": [
    {
     "data": {
      "image/svg+xml": [
       "<svg baseProfile=\"full\" height=\"168px\" preserveAspectRatio=\"xMidYMid meet\" style=\"font-family: times, serif; font-weight:normal; font-style: normal; font-size: 16px;\" version=\"1.1\" viewBox=\"0,0,536.0,168.0\" width=\"536px\" xmlns=\"http://www.w3.org/2000/svg\" xmlns:ev=\"http://www.w3.org/2001/xml-events\" xmlns:xlink=\"http://www.w3.org/1999/xlink\"><defs /><svg width=\"100%\" x=\"0\" y=\"0em\"><defs /><text text-anchor=\"middle\" x=\"50%\" y=\"1em\">S</text></svg><svg width=\"14.9254%\" x=\"0%\" y=\"3em\"><defs /><svg width=\"100%\" x=\"0\" y=\"0em\"><defs /><text text-anchor=\"middle\" x=\"50%\" y=\"1em\">PERSON</text></svg><svg width=\"100%\" x=\"0%\" y=\"3em\"><defs /><svg width=\"100%\" x=\"0\" y=\"0em\"><defs /><text text-anchor=\"middle\" x=\"50%\" y=\"1em\">Standard</text></svg><svg width=\"100%\" x=\"0%\" y=\"3em\"><defs /><svg width=\"100%\" x=\"0\" y=\"0em\"><defs /><text text-anchor=\"middle\" x=\"50%\" y=\"1em\">NNP</text></svg></svg><line stroke=\"black\" x1=\"50%\" x2=\"50%\" y1=\"1.2em\" y2=\"3em\" /></svg><line stroke=\"black\" x1=\"50%\" x2=\"50%\" y1=\"1.2em\" y2=\"3em\" /></svg><line stroke=\"black\" x1=\"50%\" x2=\"7.46269%\" y1=\"1.2em\" y2=\"3em\" /><svg width=\"8.95522%\" x=\"14.9254%\" y=\"3em\"><defs /><svg width=\"100%\" x=\"0\" y=\"0em\"><defs /><text text-anchor=\"middle\" x=\"50%\" y=\"1em\">King</text></svg><svg width=\"100%\" x=\"0%\" y=\"3em\"><defs /><svg width=\"100%\" x=\"0\" y=\"0em\"><defs /><text text-anchor=\"middle\" x=\"50%\" y=\"1em\">NNP</text></svg></svg><line stroke=\"black\" x1=\"50%\" x2=\"50%\" y1=\"1.2em\" y2=\"3em\" /></svg><line stroke=\"black\" x1=\"50%\" x2=\"19.403%\" y1=\"1.2em\" y2=\"3em\" /><svg width=\"8.95522%\" x=\"23.8806%\" y=\"3em\"><defs /><svg width=\"100%\" x=\"0\" y=\"0em\"><defs /><text text-anchor=\"middle\" x=\"50%\" y=\"1em\">Room</text></svg><svg width=\"100%\" x=\"0%\" y=\"3em\"><defs /><svg width=\"100%\" x=\"0\" y=\"0em\"><defs /><text text-anchor=\"middle\" x=\"50%\" y=\"1em\">NNP</text></svg></svg><line stroke=\"black\" x1=\"50%\" x2=\"50%\" y1=\"1.2em\" y2=\"3em\" /></svg><line stroke=\"black\" x1=\"50%\" x2=\"28.3582%\" y1=\"1.2em\" y2=\"3em\" /><svg width=\"4.47761%\" x=\"32.8358%\" y=\"3em\"><defs /><svg width=\"100%\" x=\"0\" y=\"0em\"><defs /><text text-anchor=\"middle\" x=\"50%\" y=\"1em\">(</text></svg><svg width=\"100%\" x=\"0%\" y=\"3em\"><defs /><svg width=\"100%\" x=\"0\" y=\"0em\"><defs /><text text-anchor=\"middle\" x=\"50%\" y=\"1em\">(</text></svg></svg><line stroke=\"black\" x1=\"50%\" x2=\"50%\" y1=\"1.2em\" y2=\"3em\" /></svg><line stroke=\"black\" x1=\"50%\" x2=\"35.0746%\" y1=\"1.2em\" y2=\"3em\" /><svg width=\"28.3582%\" x=\"37.3134%\" y=\"3em\"><defs /><svg width=\"100%\" x=\"0\" y=\"0em\"><defs /><text text-anchor=\"middle\" x=\"50%\" y=\"1em\">ORGANIZATION</text></svg><svg width=\"26.3158%\" x=\"0%\" y=\"3em\"><defs /><svg width=\"100%\" x=\"0\" y=\"0em\"><defs /><text text-anchor=\"middle\" x=\"50%\" y=\"1em\">No</text></svg><svg width=\"100%\" x=\"0%\" y=\"3em\"><defs /><svg width=\"100%\" x=\"0\" y=\"0em\"><defs /><text text-anchor=\"middle\" x=\"50%\" y=\"1em\">NNP</text></svg></svg><line stroke=\"black\" x1=\"50%\" x2=\"50%\" y1=\"1.2em\" y2=\"3em\" /></svg><line stroke=\"black\" x1=\"50%\" x2=\"13.1579%\" y1=\"1.2em\" y2=\"3em\" /><svg width=\"42.1053%\" x=\"26.3158%\" y=\"3em\"><defs /><svg width=\"100%\" x=\"0\" y=\"0em\"><defs /><text text-anchor=\"middle\" x=\"50%\" y=\"1em\">Resort</text></svg><svg width=\"100%\" x=\"0%\" y=\"3em\"><defs /><svg width=\"100%\" x=\"0\" y=\"0em\"><defs /><text text-anchor=\"middle\" x=\"50%\" y=\"1em\">NNP</text></svg></svg><line stroke=\"black\" x1=\"50%\" x2=\"50%\" y1=\"1.2em\" y2=\"3em\" /></svg><line stroke=\"black\" x1=\"50%\" x2=\"47.3684%\" y1=\"1.2em\" y2=\"3em\" /><svg width=\"31.5789%\" x=\"68.4211%\" y=\"3em\"><defs /><svg width=\"100%\" x=\"0\" y=\"0em\"><defs /><text text-anchor=\"middle\" x=\"50%\" y=\"1em\">Fees</text></svg><svg width=\"100%\" x=\"0%\" y=\"3em\"><defs /><svg width=\"100%\" x=\"0\" y=\"0em\"><defs /><text text-anchor=\"middle\" x=\"50%\" y=\"1em\">NNP</text></svg></svg><line stroke=\"black\" x1=\"50%\" x2=\"50%\" y1=\"1.2em\" y2=\"3em\" /></svg><line stroke=\"black\" x1=\"50%\" x2=\"84.2105%\" y1=\"1.2em\" y2=\"3em\" /></svg><line stroke=\"black\" x1=\"50%\" x2=\"51.4925%\" y1=\"1.2em\" y2=\"3em\" /><svg width=\"7.46269%\" x=\"65.6716%\" y=\"3em\"><defs /><svg width=\"100%\" x=\"0\" y=\"0em\"><defs /><text text-anchor=\"middle\" x=\"50%\" y=\"1em\">+</text></svg><svg width=\"100%\" x=\"0%\" y=\"3em\"><defs /><svg width=\"100%\" x=\"0\" y=\"0em\"><defs /><text text-anchor=\"middle\" x=\"50%\" y=\"1em\">NNP</text></svg></svg><line stroke=\"black\" x1=\"50%\" x2=\"50%\" y1=\"1.2em\" y2=\"3em\" /></svg><line stroke=\"black\" x1=\"50%\" x2=\"69.403%\" y1=\"1.2em\" y2=\"3em\" /><svg width=\"22.3881%\" x=\"73.1343%\" y=\"3em\"><defs /><svg width=\"100%\" x=\"0\" y=\"0em\"><defs /><text text-anchor=\"middle\" x=\"50%\" y=\"1em\">PERSON</text></svg><svg width=\"40%\" x=\"0%\" y=\"3em\"><defs /><svg width=\"100%\" x=\"0\" y=\"0em\"><defs /><text text-anchor=\"middle\" x=\"50%\" y=\"1em\">Free</text></svg><svg width=\"100%\" x=\"0%\" y=\"3em\"><defs /><svg width=\"100%\" x=\"0\" y=\"0em\"><defs /><text text-anchor=\"middle\" x=\"50%\" y=\"1em\">NNP</text></svg></svg><line stroke=\"black\" x1=\"50%\" x2=\"50%\" y1=\"1.2em\" y2=\"3em\" /></svg><line stroke=\"black\" x1=\"50%\" x2=\"20%\" y1=\"1.2em\" y2=\"3em\" /><svg width=\"60%\" x=\"40%\" y=\"3em\"><defs /><svg width=\"100%\" x=\"0\" y=\"0em\"><defs /><text text-anchor=\"middle\" x=\"50%\" y=\"1em\">Parking</text></svg><svg width=\"100%\" x=\"0%\" y=\"3em\"><defs /><svg width=\"100%\" x=\"0\" y=\"0em\"><defs /><text text-anchor=\"middle\" x=\"50%\" y=\"1em\">NNP</text></svg></svg><line stroke=\"black\" x1=\"50%\" x2=\"50%\" y1=\"1.2em\" y2=\"3em\" /></svg><line stroke=\"black\" x1=\"50%\" x2=\"70%\" y1=\"1.2em\" y2=\"3em\" /></svg><line stroke=\"black\" x1=\"50%\" x2=\"84.3284%\" y1=\"1.2em\" y2=\"3em\" /><svg width=\"4.47761%\" x=\"95.5224%\" y=\"3em\"><defs /><svg width=\"100%\" x=\"0\" y=\"0em\"><defs /><text text-anchor=\"middle\" x=\"50%\" y=\"1em\">)</text></svg><svg width=\"100%\" x=\"0%\" y=\"3em\"><defs /><svg width=\"100%\" x=\"0\" y=\"0em\"><defs /><text text-anchor=\"middle\" x=\"50%\" y=\"1em\">)</text></svg></svg><line stroke=\"black\" x1=\"50%\" x2=\"50%\" y1=\"1.2em\" y2=\"3em\" /></svg><line stroke=\"black\" x1=\"50%\" x2=\"97.7612%\" y1=\"1.2em\" y2=\"3em\" /></svg>"
      ],
      "text/plain": [
       "Tree('S', [Tree('PERSON', [('Standard', 'NNP')]), ('King', 'NNP'), ('Room', 'NNP'), ('(', '('), Tree('ORGANIZATION', [('No', 'NNP'), ('Resort', 'NNP'), ('Fees', 'NNP')]), ('+', 'NNP'), Tree('PERSON', [('Free', 'NNP'), ('Parking', 'NNP')]), (')', ')')])"
      ]
     },
     "execution_count": 22,
     "metadata": {},
     "output_type": "execute_result"
    }
   ],
   "source": [
    "nltk.chunk.ne_chunk(tagged)"
   ]
  },
  {
   "cell_type": "code",
   "execution_count": 23,
   "id": "14191a52",
   "metadata": {},
   "outputs": [
    {
     "name": "stderr",
     "output_type": "stream",
     "text": [
      "[nltk_data] Downloading package words to\n",
      "[nltk_data]     C:\\Users\\USHAN\\AppData\\Roaming\\nltk_data...\n",
      "[nltk_data]   Package words is already up-to-date!\n"
     ]
    },
    {
     "data": {
      "text/plain": [
       "True"
      ]
     },
     "execution_count": 23,
     "metadata": {},
     "output_type": "execute_result"
    }
   ],
   "source": [
    "nltk.download('words')"
   ]
  },
  {
   "cell_type": "code",
   "execution_count": 24,
   "id": "eb1dc6b6",
   "metadata": {
    "scrolled": false
   },
   "outputs": [
    {
     "name": "stdout",
     "output_type": "stream",
     "text": [
      "(S\n",
      "  (PERSON Standard/NNP)\n",
      "  King/NNP\n",
      "  Room/NNP\n",
      "  (/(\n",
      "  (ORGANIZATION No/NNP Resort/NNP Fees/NNP)\n",
      "  +/NNP\n",
      "  (PERSON Free/NNP Parking/NNP)\n",
      "  )/))\n"
     ]
    }
   ],
   "source": [
    "entities = nltk.chunk.ne_chunk(tagged)\n",
    "entities.pprint()"
   ]
  },
  {
   "cell_type": "markdown",
   "id": "483608e4",
   "metadata": {},
   "source": [
    "## Step 1. VADER Seniment Scoring"
   ]
  },
  {
   "cell_type": "code",
   "execution_count": 25,
   "id": "7b325cce",
   "metadata": {},
   "outputs": [
    {
     "name": "stderr",
     "output_type": "stream",
     "text": [
      "[nltk_data] Downloading package vader_lexicon to\n",
      "[nltk_data]     C:\\Users\\USHAN\\AppData\\Roaming\\nltk_data...\n",
      "[nltk_data]   Package vader_lexicon is already up-to-date!\n"
     ]
    },
    {
     "data": {
      "text/plain": [
       "True"
      ]
     },
     "execution_count": 25,
     "metadata": {},
     "output_type": "execute_result"
    }
   ],
   "source": [
    "nltk.download('vader_lexicon')"
   ]
  },
  {
   "cell_type": "code",
   "execution_count": 26,
   "id": "1c35ea0a",
   "metadata": {},
   "outputs": [],
   "source": [
    "from nltk.sentiment import SentimentIntensityAnalyzer\n",
    "from tqdm.notebook import tqdm\n",
    "\n",
    "sia = SentimentIntensityAnalyzer()"
   ]
  },
  {
   "cell_type": "code",
   "execution_count": 27,
   "id": "fffbf0b2",
   "metadata": {},
   "outputs": [
    {
     "data": {
      "text/plain": [
       "{'neg': 0.0, 'neu': 0.318, 'pos': 0.682, 'compound': 0.6468}"
      ]
     },
     "execution_count": 27,
     "metadata": {},
     "output_type": "execute_result"
    }
   ],
   "source": [
    "sia.polarity_scores('I am so happy!')"
   ]
  },
  {
   "cell_type": "code",
   "execution_count": 28,
   "id": "3f5c28ae",
   "metadata": {},
   "outputs": [
    {
     "data": {
      "text/plain": [
       "{'neg': 0.0, 'neu': 1.0, 'pos': 0.0, 'compound': 0.0}"
      ]
     },
     "execution_count": 28,
     "metadata": {},
     "output_type": "execute_result"
    }
   ],
   "source": [
    "sia.polarity_scores('Penthouse Apartment')"
   ]
  },
  {
   "cell_type": "code",
   "execution_count": 29,
   "id": "d8f26c6d",
   "metadata": {},
   "outputs": [
    {
     "data": {
      "text/plain": [
       "'Standard King Room (No Resort Fees + Free Parking)'"
      ]
     },
     "execution_count": 29,
     "metadata": {},
     "output_type": "execute_result"
    }
   ],
   "source": [
    "example"
   ]
  },
  {
   "cell_type": "code",
   "execution_count": 30,
   "id": "1eb4e8a0",
   "metadata": {},
   "outputs": [
    {
     "data": {
      "text/plain": [
       "{'neg': 0.0, 'neu': 0.68, 'pos': 0.32, 'compound': 0.5106}"
      ]
     },
     "execution_count": 30,
     "metadata": {},
     "output_type": "execute_result"
    }
   ],
   "source": [
    "sia.polarity_scores(example)"
   ]
  },
  {
   "cell_type": "code",
   "execution_count": 31,
   "id": "2d40554b",
   "metadata": {},
   "outputs": [
    {
     "data": {
      "application/vnd.jupyter.widget-view+json": {
       "model_id": "3dfce825044d44cea98985c3b7fce45b",
       "version_major": 2,
       "version_minor": 0
      },
      "text/plain": [
       "  0%|          | 0/8051 [00:00<?, ?it/s]"
      ]
     },
     "metadata": {},
     "output_type": "display_data"
    }
   ],
   "source": [
    "# Run the polarity score on the entire dataset\n",
    "res = {}\n",
    "for i, row in tqdm(df.iterrows(), total=len(df)):\n",
    "    text = row['Room Type']\n",
    "    myid = row['Id']\n",
    "    res[myid] = sia.polarity_scores(text)"
   ]
  },
  {
   "cell_type": "code",
   "execution_count": 32,
   "id": "8bcf2c4a",
   "metadata": {},
   "outputs": [],
   "source": [
    "vaders = pd.DataFrame(res).T\n",
    "vaders = vaders.reset_index().rename(columns={'index': 'Id'})\n",
    "vaders = vaders.merge(df, how='left')"
   ]
  },
  {
   "cell_type": "code",
   "execution_count": 33,
   "id": "e412a0a9",
   "metadata": {},
   "outputs": [
    {
     "data": {
      "text/html": [
       "<div>\n",
       "<style scoped>\n",
       "    .dataframe tbody tr th:only-of-type {\n",
       "        vertical-align: middle;\n",
       "    }\n",
       "\n",
       "    .dataframe tbody tr th {\n",
       "        vertical-align: top;\n",
       "    }\n",
       "\n",
       "    .dataframe thead th {\n",
       "        text-align: right;\n",
       "    }\n",
       "</style>\n",
       "<table border=\"1\" class=\"dataframe\">\n",
       "  <thead>\n",
       "    <tr style=\"text-align: right;\">\n",
       "      <th></th>\n",
       "      <th>Id</th>\n",
       "      <th>neg</th>\n",
       "      <th>neu</th>\n",
       "      <th>pos</th>\n",
       "      <th>compound</th>\n",
       "      <th>Hotel</th>\n",
       "      <th>Room Type</th>\n",
       "      <th>Check-in Date</th>\n",
       "      <th>Search Date</th>\n",
       "      <th>Search Time</th>\n",
       "      <th>Rate</th>\n",
       "    </tr>\n",
       "  </thead>\n",
       "  <tbody>\n",
       "    <tr>\n",
       "      <th>0</th>\n",
       "      <td>1</td>\n",
       "      <td>0.0</td>\n",
       "      <td>1.0</td>\n",
       "      <td>0.0</td>\n",
       "      <td>0.0</td>\n",
       "      <td>2100 SqFt Penthouse Suite W/ Strip Views! POOL...</td>\n",
       "      <td>Penthouse Apartment</td>\n",
       "      <td>8/3/2022</td>\n",
       "      <td>8/3/2022</td>\n",
       "      <td>0:00:00</td>\n",
       "      <td>US$254</td>\n",
       "    </tr>\n",
       "    <tr>\n",
       "      <th>1</th>\n",
       "      <td>2</td>\n",
       "      <td>0.0</td>\n",
       "      <td>1.0</td>\n",
       "      <td>0.0</td>\n",
       "      <td>0.0</td>\n",
       "      <td>2100 SqFt Penthouse Suite W/ Strip Views! POOL...</td>\n",
       "      <td>Penthouse Apartment</td>\n",
       "      <td>8/3/2022</td>\n",
       "      <td>8/3/2022</td>\n",
       "      <td>1:00:00</td>\n",
       "      <td>US$254</td>\n",
       "    </tr>\n",
       "    <tr>\n",
       "      <th>2</th>\n",
       "      <td>3</td>\n",
       "      <td>0.0</td>\n",
       "      <td>1.0</td>\n",
       "      <td>0.0</td>\n",
       "      <td>0.0</td>\n",
       "      <td>2100 SqFt Penthouse Suite W/ Strip Views! POOL...</td>\n",
       "      <td>Penthouse Apartment</td>\n",
       "      <td>8/3/2022</td>\n",
       "      <td>8/3/2022</td>\n",
       "      <td>2:00:00</td>\n",
       "      <td>US$254</td>\n",
       "    </tr>\n",
       "    <tr>\n",
       "      <th>3</th>\n",
       "      <td>4</td>\n",
       "      <td>0.0</td>\n",
       "      <td>1.0</td>\n",
       "      <td>0.0</td>\n",
       "      <td>0.0</td>\n",
       "      <td>2100 SqFt Penthouse Suite W/ Strip Views! POOL...</td>\n",
       "      <td>Penthouse Apartment</td>\n",
       "      <td>8/3/2022</td>\n",
       "      <td>8/3/2022</td>\n",
       "      <td>3:00:00</td>\n",
       "      <td>US$254</td>\n",
       "    </tr>\n",
       "    <tr>\n",
       "      <th>4</th>\n",
       "      <td>5</td>\n",
       "      <td>0.0</td>\n",
       "      <td>1.0</td>\n",
       "      <td>0.0</td>\n",
       "      <td>0.0</td>\n",
       "      <td>2100 SqFt Penthouse Suite W/ Strip Views! POOL...</td>\n",
       "      <td>Penthouse Apartment</td>\n",
       "      <td>8/3/2022</td>\n",
       "      <td>8/3/2022</td>\n",
       "      <td>4:00:00</td>\n",
       "      <td>US$254</td>\n",
       "    </tr>\n",
       "  </tbody>\n",
       "</table>\n",
       "</div>"
      ],
      "text/plain": [
       "   Id  neg  neu  pos  compound  \\\n",
       "0   1  0.0  1.0  0.0       0.0   \n",
       "1   2  0.0  1.0  0.0       0.0   \n",
       "2   3  0.0  1.0  0.0       0.0   \n",
       "3   4  0.0  1.0  0.0       0.0   \n",
       "4   5  0.0  1.0  0.0       0.0   \n",
       "\n",
       "                                               Hotel            Room Type  \\\n",
       "0  2100 SqFt Penthouse Suite W/ Strip Views! POOL...  Penthouse Apartment   \n",
       "1  2100 SqFt Penthouse Suite W/ Strip Views! POOL...  Penthouse Apartment   \n",
       "2  2100 SqFt Penthouse Suite W/ Strip Views! POOL...  Penthouse Apartment   \n",
       "3  2100 SqFt Penthouse Suite W/ Strip Views! POOL...  Penthouse Apartment   \n",
       "4  2100 SqFt Penthouse Suite W/ Strip Views! POOL...  Penthouse Apartment   \n",
       "\n",
       "  Check-in Date Search Date Search Time    Rate  \n",
       "0      8/3/2022    8/3/2022     0:00:00  US$254  \n",
       "1      8/3/2022    8/3/2022     1:00:00  US$254  \n",
       "2      8/3/2022    8/3/2022     2:00:00  US$254  \n",
       "3      8/3/2022    8/3/2022     3:00:00  US$254  \n",
       "4      8/3/2022    8/3/2022     4:00:00  US$254  "
      ]
     },
     "execution_count": 33,
     "metadata": {},
     "output_type": "execute_result"
    }
   ],
   "source": [
    "# Now we have sentiment score and metadata\n",
    "vaders.head()"
   ]
  },
  {
   "cell_type": "code",
   "execution_count": 34,
   "id": "e54aecad",
   "metadata": {},
   "outputs": [
    {
     "data": {
      "text/plain": [
       "array([0.    , 0.5106])"
      ]
     },
     "execution_count": 34,
     "metadata": {},
     "output_type": "execute_result"
    }
   ],
   "source": [
    "vaders['compound'].unique()"
   ]
  },
  {
   "cell_type": "markdown",
   "id": "43ad4f7e",
   "metadata": {},
   "source": [
    "## Step 3. Roberta Pretrained Model\n",
    "* Use a model trained of a large corpus of data.\n",
    "* Transformer model accounts for the words but also the context related to other words."
   ]
  },
  {
   "cell_type": "code",
   "execution_count": 35,
   "id": "357079fa",
   "metadata": {},
   "outputs": [
    {
     "name": "stderr",
     "output_type": "stream",
     "text": [
      "C:\\Users\\USHAN\\anaconda3\\envs\\ml\\lib\\site-packages\\requests\\__init__.py:109: RequestsDependencyWarning: urllib3 (1.26.9) or chardet (5.0.0)/charset_normalizer (2.0.4) doesn't match a supported version!\n",
      "  warnings.warn(\n"
     ]
    }
   ],
   "source": [
    "from transformers import AutoTokenizer\n",
    "from transformers import AutoModelForSequenceClassification\n",
    "from scipy.special import softmax"
   ]
  },
  {
   "cell_type": "code",
   "execution_count": 36,
   "id": "f1a98362",
   "metadata": {},
   "outputs": [],
   "source": [
    "MODEL = f\"cardiffnlp/twitter-roberta-base-sentiment\"\n",
    "tokenizer = AutoTokenizer.from_pretrained(MODEL)\n",
    "model = AutoModelForSequenceClassification.from_pretrained(MODEL)"
   ]
  },
  {
   "cell_type": "code",
   "execution_count": 37,
   "id": "92d19860",
   "metadata": {},
   "outputs": [
    {
     "name": "stdout",
     "output_type": "stream",
     "text": [
      "Standard King Room (No Resort Fees + Free Parking)\n"
     ]
    },
    {
     "data": {
      "text/plain": [
       "{'neg': 0.0, 'neu': 0.68, 'pos': 0.32, 'compound': 0.5106}"
      ]
     },
     "execution_count": 37,
     "metadata": {},
     "output_type": "execute_result"
    }
   ],
   "source": [
    "# VADER results on example\n",
    "print(example)\n",
    "sia.polarity_scores(example)"
   ]
  },
  {
   "cell_type": "code",
   "execution_count": 38,
   "id": "fe6f9480",
   "metadata": {},
   "outputs": [
    {
     "name": "stdout",
     "output_type": "stream",
     "text": [
      "{'roberta_neg': 0.00699576, 'roberta_neu': 0.70267284, 'roberta_pos': 0.2903314}\n"
     ]
    }
   ],
   "source": [
    "# Run for Roberta Model\n",
    "encoded_text = tokenizer(example, return_tensors='pt')\n",
    "output = model(**encoded_text)\n",
    "scores = output[0][0].detach().numpy()\n",
    "scores = softmax(scores)\n",
    "scores_dict = {\n",
    "    'roberta_neg' : scores[0],\n",
    "    'roberta_neu' : scores[1],\n",
    "    'roberta_pos' : scores[2]\n",
    "}\n",
    "print(scores_dict)"
   ]
  },
  {
   "cell_type": "code",
   "execution_count": 39,
   "id": "0556bbc5",
   "metadata": {},
   "outputs": [],
   "source": [
    "def polarity_scores_roberta(example):\n",
    "    encoded_text = tokenizer(example, return_tensors='pt')\n",
    "    output = model(**encoded_text)\n",
    "    scores = output[0][0].detach().numpy()\n",
    "    scores = softmax(scores)\n",
    "    scores_dict = {\n",
    "        'roberta_neg' : scores[0],\n",
    "        'roberta_neu' : scores[1],\n",
    "        'roberta_pos' : scores[2]\n",
    "    }\n",
    "    return scores_dict"
   ]
  },
  {
   "cell_type": "code",
   "execution_count": 40,
   "id": "92ec8488",
   "metadata": {},
   "outputs": [
    {
     "data": {
      "application/vnd.jupyter.widget-view+json": {
       "model_id": "852bc1af432d45f19de97d0dd11f2786",
       "version_major": 2,
       "version_minor": 0
      },
      "text/plain": [
       "  0%|          | 0/8051 [00:00<?, ?it/s]"
      ]
     },
     "metadata": {},
     "output_type": "display_data"
    }
   ],
   "source": [
    "res = {}\n",
    "for i, row in tqdm(df.iterrows(), total=len(df)):\n",
    "    try:\n",
    "        text = row['Room Type']\n",
    "        myid = row['Id']\n",
    "        vader_result = sia.polarity_scores(text)\n",
    "        vader_result_rename = {}\n",
    "        for key, value in vader_result.items():\n",
    "            vader_result_rename[f\"vader_{key}\"] = value\n",
    "        roberta_result = polarity_scores_roberta(text)\n",
    "        both = {**vader_result_rename, **roberta_result}\n",
    "        res[myid] = both\n",
    "    except RuntimeError:\n",
    "        print(f'Broke for id {myid}')"
   ]
  },
  {
   "cell_type": "code",
   "execution_count": 41,
   "id": "9264b097",
   "metadata": {},
   "outputs": [],
   "source": [
    "results_df = pd.DataFrame(res).T\n",
    "results_df = results_df.reset_index().rename(columns={'index': 'Id'})\n",
    "results_df = results_df.merge(df, how='left')"
   ]
  },
  {
   "cell_type": "code",
   "execution_count": 42,
   "id": "21fe13bd",
   "metadata": {},
   "outputs": [
    {
     "data": {
      "text/plain": [
       "Index(['Id', 'vader_neg', 'vader_neu', 'vader_pos', 'vader_compound',\n",
       "       'roberta_neg', 'roberta_neu', 'roberta_pos', 'Hotel', 'Room Type',\n",
       "       'Check-in Date', 'Search Date', 'Search Time', 'Rate'],\n",
       "      dtype='object')"
      ]
     },
     "execution_count": 42,
     "metadata": {},
     "output_type": "execute_result"
    }
   ],
   "source": [
    "results_df.columns"
   ]
  },
  {
   "cell_type": "markdown",
   "id": "f58554ff",
   "metadata": {},
   "source": [
    "## Step 3. Combine and compare"
   ]
  },
  {
   "cell_type": "code",
   "execution_count": 43,
   "id": "ffb36e53",
   "metadata": {},
   "outputs": [],
   "source": [
    "# sns.pairplot(data=results_df,\n",
    "#              vars=['vader_neg', 'vader_neu', 'vader_pos',\n",
    "#                   'roberta_neg', 'roberta_neu', 'roberta_pos'],\n",
    "#             hue='Score',\n",
    "#             palette='tab10')\n",
    "# plt.show()"
   ]
  },
  {
   "cell_type": "markdown",
   "id": "5ced82df",
   "metadata": {},
   "source": [
    "## The Transformers Pipeline\n",
    "*  easy way to run sentiment predictions"
   ]
  },
  {
   "cell_type": "code",
   "execution_count": 44,
   "id": "0d4110ab",
   "metadata": {},
   "outputs": [
    {
     "name": "stderr",
     "output_type": "stream",
     "text": [
      "No model was supplied, defaulted to distilbert-base-uncased-finetuned-sst-2-english and revision af0f99b (https://huggingface.co/distilbert-base-uncased-finetuned-sst-2-english).\n",
      "Using a pipeline without specifying a model name and revision in production is not recommended.\n"
     ]
    }
   ],
   "source": [
    "from transformers import pipeline\n",
    "\n",
    "sent_pipeline = pipeline(\"sentiment-analysis\")"
   ]
  },
  {
   "cell_type": "code",
   "execution_count": 45,
   "id": "b6828d41",
   "metadata": {},
   "outputs": [
    {
     "data": {
      "text/plain": [
       "[{'label': 'POSITIVE', 'score': 0.9997853636741638}]"
      ]
     },
     "execution_count": 45,
     "metadata": {},
     "output_type": "execute_result"
    }
   ],
   "source": [
    "sent_pipeline('I love sentiment analysis!')"
   ]
  },
  {
   "cell_type": "code",
   "execution_count": 46,
   "id": "ccfa1ee7",
   "metadata": {},
   "outputs": [
    {
     "data": {
      "text/plain": [
       "[{'label': 'NEGATIVE', 'score': 0.9992745518684387}]"
      ]
     },
     "execution_count": 46,
     "metadata": {},
     "output_type": "execute_result"
    }
   ],
   "source": [
    "sent_pipeline('Low budget room')"
   ]
  },
  {
   "cell_type": "code",
   "execution_count": 47,
   "id": "4e903163",
   "metadata": {},
   "outputs": [
    {
     "data": {
      "text/plain": [
       "'Standard King Room (No Resort Fees + Free Parking)'"
      ]
     },
     "execution_count": 47,
     "metadata": {},
     "output_type": "execute_result"
    }
   ],
   "source": [
    "example"
   ]
  },
  {
   "cell_type": "code",
   "execution_count": 48,
   "id": "b4a84820",
   "metadata": {},
   "outputs": [
    {
     "data": {
      "text/plain": [
       "[{'label': 'NEGATIVE', 'score': 0.9799050092697144}]"
      ]
     },
     "execution_count": 48,
     "metadata": {},
     "output_type": "execute_result"
    }
   ],
   "source": [
    "sent_pipeline(example)"
   ]
  },
  {
   "cell_type": "code",
   "execution_count": 49,
   "id": "23a9a4ca",
   "metadata": {},
   "outputs": [],
   "source": [
    "\n",
    "\n",
    "# df['score'] = sent_pipeline(str(df['Room Type']))"
   ]
  },
  {
   "cell_type": "code",
   "execution_count": 50,
   "id": "9a75fd4f",
   "metadata": {},
   "outputs": [],
   "source": [
    "# df.head()"
   ]
  },
  {
   "cell_type": "code",
   "execution_count": 51,
   "id": "46ae2e31",
   "metadata": {},
   "outputs": [
    {
     "data": {
      "text/plain": [
       "0       [{'label': 'POSITIVE', 'score': 0.997909486293...\n",
       "1       [{'label': 'POSITIVE', 'score': 0.997909486293...\n",
       "2       [{'label': 'POSITIVE', 'score': 0.997909486293...\n",
       "3       [{'label': 'POSITIVE', 'score': 0.997909486293...\n",
       "4       [{'label': 'POSITIVE', 'score': 0.997909486293...\n",
       "                              ...                        \n",
       "8046    [{'label': 'POSITIVE', 'score': 0.996389031410...\n",
       "8047    [{'label': 'POSITIVE', 'score': 0.996389031410...\n",
       "8048    [{'label': 'POSITIVE', 'score': 0.998050332069...\n",
       "8049    [{'label': 'POSITIVE', 'score': 0.996389031410...\n",
       "8050    [{'label': 'POSITIVE', 'score': 0.995319783687...\n",
       "Name: Room Type, Length: 8051, dtype: object"
      ]
     },
     "execution_count": 51,
     "metadata": {},
     "output_type": "execute_result"
    }
   ],
   "source": [
    "df['Room Type'].apply(sent_pipeline)"
   ]
  },
  {
   "cell_type": "code",
   "execution_count": 52,
   "id": "a79252af",
   "metadata": {},
   "outputs": [],
   "source": [
    "df['score'] = df['Room Type'].apply(sent_pipeline)"
   ]
  },
  {
   "cell_type": "code",
   "execution_count": 53,
   "id": "538923d7",
   "metadata": {},
   "outputs": [
    {
     "data": {
      "text/html": [
       "<div>\n",
       "<style scoped>\n",
       "    .dataframe tbody tr th:only-of-type {\n",
       "        vertical-align: middle;\n",
       "    }\n",
       "\n",
       "    .dataframe tbody tr th {\n",
       "        vertical-align: top;\n",
       "    }\n",
       "\n",
       "    .dataframe thead th {\n",
       "        text-align: right;\n",
       "    }\n",
       "</style>\n",
       "<table border=\"1\" class=\"dataframe\">\n",
       "  <thead>\n",
       "    <tr style=\"text-align: right;\">\n",
       "      <th></th>\n",
       "      <th>Hotel</th>\n",
       "      <th>Room Type</th>\n",
       "      <th>Check-in Date</th>\n",
       "      <th>Search Date</th>\n",
       "      <th>Search Time</th>\n",
       "      <th>Rate</th>\n",
       "      <th>Id</th>\n",
       "      <th>score</th>\n",
       "    </tr>\n",
       "  </thead>\n",
       "  <tbody>\n",
       "    <tr>\n",
       "      <th>0</th>\n",
       "      <td>2100 SqFt Penthouse Suite W/ Strip Views! POOL...</td>\n",
       "      <td>Penthouse Apartment</td>\n",
       "      <td>8/3/2022</td>\n",
       "      <td>8/3/2022</td>\n",
       "      <td>0:00:00</td>\n",
       "      <td>US$254</td>\n",
       "      <td>1</td>\n",
       "      <td>[{'label': 'POSITIVE', 'score': 0.997909486293...</td>\n",
       "    </tr>\n",
       "    <tr>\n",
       "      <th>1</th>\n",
       "      <td>2100 SqFt Penthouse Suite W/ Strip Views! POOL...</td>\n",
       "      <td>Penthouse Apartment</td>\n",
       "      <td>8/3/2022</td>\n",
       "      <td>8/3/2022</td>\n",
       "      <td>1:00:00</td>\n",
       "      <td>US$254</td>\n",
       "      <td>2</td>\n",
       "      <td>[{'label': 'POSITIVE', 'score': 0.997909486293...</td>\n",
       "    </tr>\n",
       "    <tr>\n",
       "      <th>2</th>\n",
       "      <td>2100 SqFt Penthouse Suite W/ Strip Views! POOL...</td>\n",
       "      <td>Penthouse Apartment</td>\n",
       "      <td>8/3/2022</td>\n",
       "      <td>8/3/2022</td>\n",
       "      <td>2:00:00</td>\n",
       "      <td>US$254</td>\n",
       "      <td>3</td>\n",
       "      <td>[{'label': 'POSITIVE', 'score': 0.997909486293...</td>\n",
       "    </tr>\n",
       "    <tr>\n",
       "      <th>3</th>\n",
       "      <td>2100 SqFt Penthouse Suite W/ Strip Views! POOL...</td>\n",
       "      <td>Penthouse Apartment</td>\n",
       "      <td>8/3/2022</td>\n",
       "      <td>8/3/2022</td>\n",
       "      <td>3:00:00</td>\n",
       "      <td>US$254</td>\n",
       "      <td>4</td>\n",
       "      <td>[{'label': 'POSITIVE', 'score': 0.997909486293...</td>\n",
       "    </tr>\n",
       "    <tr>\n",
       "      <th>4</th>\n",
       "      <td>2100 SqFt Penthouse Suite W/ Strip Views! POOL...</td>\n",
       "      <td>Penthouse Apartment</td>\n",
       "      <td>8/3/2022</td>\n",
       "      <td>8/3/2022</td>\n",
       "      <td>4:00:00</td>\n",
       "      <td>US$254</td>\n",
       "      <td>5</td>\n",
       "      <td>[{'label': 'POSITIVE', 'score': 0.997909486293...</td>\n",
       "    </tr>\n",
       "    <tr>\n",
       "      <th>...</th>\n",
       "      <td>...</td>\n",
       "      <td>...</td>\n",
       "      <td>...</td>\n",
       "      <td>...</td>\n",
       "      <td>...</td>\n",
       "      <td>...</td>\n",
       "      <td>...</td>\n",
       "      <td>...</td>\n",
       "    </tr>\n",
       "    <tr>\n",
       "      <th>1995</th>\n",
       "      <td>Ellis Island Hotel Casino &amp; Brewery</td>\n",
       "      <td>Deluxe King Room - Non-Smoking</td>\n",
       "      <td>8/7/2022</td>\n",
       "      <td>8/7/2022</td>\n",
       "      <td>3:00:00</td>\n",
       "      <td>US$33</td>\n",
       "      <td>1996</td>\n",
       "      <td>[{'label': 'POSITIVE', 'score': 0.995586514472...</td>\n",
       "    </tr>\n",
       "    <tr>\n",
       "      <th>1996</th>\n",
       "      <td>Ellis Island Hotel Casino &amp; Brewery</td>\n",
       "      <td>Deluxe King Room - Non-Smoking</td>\n",
       "      <td>8/7/2022</td>\n",
       "      <td>8/3/2022</td>\n",
       "      <td>4:00:00</td>\n",
       "      <td>US$39</td>\n",
       "      <td>1997</td>\n",
       "      <td>[{'label': 'POSITIVE', 'score': 0.995586514472...</td>\n",
       "    </tr>\n",
       "    <tr>\n",
       "      <th>1997</th>\n",
       "      <td>Ellis Island Hotel Casino &amp; Brewery</td>\n",
       "      <td>Deluxe King Room - Non-Smoking</td>\n",
       "      <td>8/7/2022</td>\n",
       "      <td>8/4/2022</td>\n",
       "      <td>4:00:00</td>\n",
       "      <td>US$37</td>\n",
       "      <td>1998</td>\n",
       "      <td>[{'label': 'POSITIVE', 'score': 0.995586514472...</td>\n",
       "    </tr>\n",
       "    <tr>\n",
       "      <th>1998</th>\n",
       "      <td>Ellis Island Hotel Casino &amp; Brewery</td>\n",
       "      <td>Deluxe King Room - Non-Smoking</td>\n",
       "      <td>8/7/2022</td>\n",
       "      <td>8/5/2022</td>\n",
       "      <td>4:00:00</td>\n",
       "      <td>US$33</td>\n",
       "      <td>1999</td>\n",
       "      <td>[{'label': 'POSITIVE', 'score': 0.995586514472...</td>\n",
       "    </tr>\n",
       "    <tr>\n",
       "      <th>1999</th>\n",
       "      <td>Ellis Island Hotel Casino &amp; Brewery</td>\n",
       "      <td>Deluxe King Room - Non-Smoking</td>\n",
       "      <td>8/7/2022</td>\n",
       "      <td>8/7/2022</td>\n",
       "      <td>4:00:00</td>\n",
       "      <td>US$33</td>\n",
       "      <td>2000</td>\n",
       "      <td>[{'label': 'POSITIVE', 'score': 0.995586514472...</td>\n",
       "    </tr>\n",
       "  </tbody>\n",
       "</table>\n",
       "<p>2000 rows × 8 columns</p>\n",
       "</div>"
      ],
      "text/plain": [
       "                                                  Hotel  \\\n",
       "0     2100 SqFt Penthouse Suite W/ Strip Views! POOL...   \n",
       "1     2100 SqFt Penthouse Suite W/ Strip Views! POOL...   \n",
       "2     2100 SqFt Penthouse Suite W/ Strip Views! POOL...   \n",
       "3     2100 SqFt Penthouse Suite W/ Strip Views! POOL...   \n",
       "4     2100 SqFt Penthouse Suite W/ Strip Views! POOL...   \n",
       "...                                                 ...   \n",
       "1995                Ellis Island Hotel Casino & Brewery   \n",
       "1996                Ellis Island Hotel Casino & Brewery   \n",
       "1997                Ellis Island Hotel Casino & Brewery   \n",
       "1998                Ellis Island Hotel Casino & Brewery   \n",
       "1999                Ellis Island Hotel Casino & Brewery   \n",
       "\n",
       "                           Room Type Check-in Date Search Date Search Time  \\\n",
       "0                Penthouse Apartment      8/3/2022    8/3/2022     0:00:00   \n",
       "1                Penthouse Apartment      8/3/2022    8/3/2022     1:00:00   \n",
       "2                Penthouse Apartment      8/3/2022    8/3/2022     2:00:00   \n",
       "3                Penthouse Apartment      8/3/2022    8/3/2022     3:00:00   \n",
       "4                Penthouse Apartment      8/3/2022    8/3/2022     4:00:00   \n",
       "...                              ...           ...         ...         ...   \n",
       "1995  Deluxe King Room - Non-Smoking      8/7/2022    8/7/2022     3:00:00   \n",
       "1996  Deluxe King Room - Non-Smoking      8/7/2022    8/3/2022     4:00:00   \n",
       "1997  Deluxe King Room - Non-Smoking      8/7/2022    8/4/2022     4:00:00   \n",
       "1998  Deluxe King Room - Non-Smoking      8/7/2022    8/5/2022     4:00:00   \n",
       "1999  Deluxe King Room - Non-Smoking      8/7/2022    8/7/2022     4:00:00   \n",
       "\n",
       "        Rate    Id                                              score  \n",
       "0     US$254     1  [{'label': 'POSITIVE', 'score': 0.997909486293...  \n",
       "1     US$254     2  [{'label': 'POSITIVE', 'score': 0.997909486293...  \n",
       "2     US$254     3  [{'label': 'POSITIVE', 'score': 0.997909486293...  \n",
       "3     US$254     4  [{'label': 'POSITIVE', 'score': 0.997909486293...  \n",
       "4     US$254     5  [{'label': 'POSITIVE', 'score': 0.997909486293...  \n",
       "...      ...   ...                                                ...  \n",
       "1995   US$33  1996  [{'label': 'POSITIVE', 'score': 0.995586514472...  \n",
       "1996   US$39  1997  [{'label': 'POSITIVE', 'score': 0.995586514472...  \n",
       "1997   US$37  1998  [{'label': 'POSITIVE', 'score': 0.995586514472...  \n",
       "1998   US$33  1999  [{'label': 'POSITIVE', 'score': 0.995586514472...  \n",
       "1999   US$33  2000  [{'label': 'POSITIVE', 'score': 0.995586514472...  \n",
       "\n",
       "[2000 rows x 8 columns]"
      ]
     },
     "execution_count": 53,
     "metadata": {},
     "output_type": "execute_result"
    }
   ],
   "source": [
    "df.head(2000)"
   ]
  },
  {
   "cell_type": "code",
   "execution_count": 77,
   "id": "38657fd1",
   "metadata": {},
   "outputs": [
    {
     "name": "stdout",
     "output_type": "stream",
     "text": [
      "0.9799050092697144\n"
     ]
    }
   ],
   "source": [
    "x = (df['score'][1000])\n",
    "print(x[0]['score'])\n",
    "#print(x['score'])"
   ]
  },
  {
   "cell_type": "code",
   "execution_count": 64,
   "id": "14a772f4",
   "metadata": {},
   "outputs": [],
   "source": [
    "# x1 = x.apply(lambda x: x[3:])\n",
    "# print(x1)"
   ]
  },
  {
   "cell_type": "code",
   "execution_count": 86,
   "id": "104af407",
   "metadata": {},
   "outputs": [
    {
     "data": {
      "text/html": [
       "<div>\n",
       "<style scoped>\n",
       "    .dataframe tbody tr th:only-of-type {\n",
       "        vertical-align: middle;\n",
       "    }\n",
       "\n",
       "    .dataframe tbody tr th {\n",
       "        vertical-align: top;\n",
       "    }\n",
       "\n",
       "    .dataframe thead th {\n",
       "        text-align: right;\n",
       "    }\n",
       "</style>\n",
       "<table border=\"1\" class=\"dataframe\">\n",
       "  <thead>\n",
       "    <tr style=\"text-align: right;\">\n",
       "      <th></th>\n",
       "      <th>Hotel</th>\n",
       "      <th>Room Type</th>\n",
       "      <th>Check-in Date</th>\n",
       "      <th>Search Date</th>\n",
       "      <th>Search Time</th>\n",
       "      <th>Rate</th>\n",
       "      <th>Id</th>\n",
       "      <th>score</th>\n",
       "    </tr>\n",
       "  </thead>\n",
       "  <tbody>\n",
       "    <tr>\n",
       "      <th>0</th>\n",
       "      <td>2100 SqFt Penthouse Suite W/ Strip Views! POOL...</td>\n",
       "      <td>Penthouse Apartment</td>\n",
       "      <td>8/3/2022</td>\n",
       "      <td>8/3/2022</td>\n",
       "      <td>0:00:00</td>\n",
       "      <td>US$254</td>\n",
       "      <td>1</td>\n",
       "      <td>[{'label': 'POSITIVE', 'score': 0.997909486293...</td>\n",
       "    </tr>\n",
       "    <tr>\n",
       "      <th>1</th>\n",
       "      <td>2100 SqFt Penthouse Suite W/ Strip Views! POOL...</td>\n",
       "      <td>Penthouse Apartment</td>\n",
       "      <td>8/3/2022</td>\n",
       "      <td>8/3/2022</td>\n",
       "      <td>1:00:00</td>\n",
       "      <td>US$254</td>\n",
       "      <td>2</td>\n",
       "      <td>[{'label': 'POSITIVE', 'score': 0.997909486293...</td>\n",
       "    </tr>\n",
       "    <tr>\n",
       "      <th>2</th>\n",
       "      <td>2100 SqFt Penthouse Suite W/ Strip Views! POOL...</td>\n",
       "      <td>Penthouse Apartment</td>\n",
       "      <td>8/3/2022</td>\n",
       "      <td>8/3/2022</td>\n",
       "      <td>2:00:00</td>\n",
       "      <td>US$254</td>\n",
       "      <td>3</td>\n",
       "      <td>[{'label': 'POSITIVE', 'score': 0.997909486293...</td>\n",
       "    </tr>\n",
       "    <tr>\n",
       "      <th>3</th>\n",
       "      <td>2100 SqFt Penthouse Suite W/ Strip Views! POOL...</td>\n",
       "      <td>Penthouse Apartment</td>\n",
       "      <td>8/3/2022</td>\n",
       "      <td>8/3/2022</td>\n",
       "      <td>3:00:00</td>\n",
       "      <td>US$254</td>\n",
       "      <td>4</td>\n",
       "      <td>[{'label': 'POSITIVE', 'score': 0.997909486293...</td>\n",
       "    </tr>\n",
       "    <tr>\n",
       "      <th>4</th>\n",
       "      <td>2100 SqFt Penthouse Suite W/ Strip Views! POOL...</td>\n",
       "      <td>Penthouse Apartment</td>\n",
       "      <td>8/3/2022</td>\n",
       "      <td>8/3/2022</td>\n",
       "      <td>4:00:00</td>\n",
       "      <td>US$254</td>\n",
       "      <td>5</td>\n",
       "      <td>[{'label': 'POSITIVE', 'score': 0.997909486293...</td>\n",
       "    </tr>\n",
       "  </tbody>\n",
       "</table>\n",
       "</div>"
      ],
      "text/plain": [
       "                                               Hotel            Room Type  \\\n",
       "0  2100 SqFt Penthouse Suite W/ Strip Views! POOL...  Penthouse Apartment   \n",
       "1  2100 SqFt Penthouse Suite W/ Strip Views! POOL...  Penthouse Apartment   \n",
       "2  2100 SqFt Penthouse Suite W/ Strip Views! POOL...  Penthouse Apartment   \n",
       "3  2100 SqFt Penthouse Suite W/ Strip Views! POOL...  Penthouse Apartment   \n",
       "4  2100 SqFt Penthouse Suite W/ Strip Views! POOL...  Penthouse Apartment   \n",
       "\n",
       "  Check-in Date Search Date Search Time    Rate  Id  \\\n",
       "0      8/3/2022    8/3/2022     0:00:00  US$254   1   \n",
       "1      8/3/2022    8/3/2022     1:00:00  US$254   2   \n",
       "2      8/3/2022    8/3/2022     2:00:00  US$254   3   \n",
       "3      8/3/2022    8/3/2022     3:00:00  US$254   4   \n",
       "4      8/3/2022    8/3/2022     4:00:00  US$254   5   \n",
       "\n",
       "                                               score  \n",
       "0  [{'label': 'POSITIVE', 'score': 0.997909486293...  \n",
       "1  [{'label': 'POSITIVE', 'score': 0.997909486293...  \n",
       "2  [{'label': 'POSITIVE', 'score': 0.997909486293...  \n",
       "3  [{'label': 'POSITIVE', 'score': 0.997909486293...  \n",
       "4  [{'label': 'POSITIVE', 'score': 0.997909486293...  "
      ]
     },
     "execution_count": 86,
     "metadata": {},
     "output_type": "execute_result"
    }
   ],
   "source": [
    "sample = df.copy()\n",
    "sample.head()"
   ]
  },
  {
   "cell_type": "code",
   "execution_count": 87,
   "id": "9e3ad225",
   "metadata": {},
   "outputs": [],
   "source": [
    "#sample['score'] = sample['score'][.apply(lambda x: x[2:])]\n",
    "\n",
    "sample['score'] = [l[0]['score'] for l in df['score']]"
   ]
  },
  {
   "cell_type": "code",
   "execution_count": 90,
   "id": "45c3683e",
   "metadata": {},
   "outputs": [
    {
     "data": {
      "text/html": [
       "<div>\n",
       "<style scoped>\n",
       "    .dataframe tbody tr th:only-of-type {\n",
       "        vertical-align: middle;\n",
       "    }\n",
       "\n",
       "    .dataframe tbody tr th {\n",
       "        vertical-align: top;\n",
       "    }\n",
       "\n",
       "    .dataframe thead th {\n",
       "        text-align: right;\n",
       "    }\n",
       "</style>\n",
       "<table border=\"1\" class=\"dataframe\">\n",
       "  <thead>\n",
       "    <tr style=\"text-align: right;\">\n",
       "      <th></th>\n",
       "      <th>Hotel</th>\n",
       "      <th>Room Type</th>\n",
       "      <th>Check-in Date</th>\n",
       "      <th>Search Date</th>\n",
       "      <th>Search Time</th>\n",
       "      <th>Rate</th>\n",
       "      <th>Id</th>\n",
       "      <th>score</th>\n",
       "    </tr>\n",
       "  </thead>\n",
       "  <tbody>\n",
       "    <tr>\n",
       "      <th>0</th>\n",
       "      <td>2100 SqFt Penthouse Suite W/ Strip Views! POOL...</td>\n",
       "      <td>Penthouse Apartment</td>\n",
       "      <td>8/3/2022</td>\n",
       "      <td>8/3/2022</td>\n",
       "      <td>0:00:00</td>\n",
       "      <td>US$254</td>\n",
       "      <td>1</td>\n",
       "      <td>0.997909</td>\n",
       "    </tr>\n",
       "    <tr>\n",
       "      <th>1</th>\n",
       "      <td>2100 SqFt Penthouse Suite W/ Strip Views! POOL...</td>\n",
       "      <td>Penthouse Apartment</td>\n",
       "      <td>8/3/2022</td>\n",
       "      <td>8/3/2022</td>\n",
       "      <td>1:00:00</td>\n",
       "      <td>US$254</td>\n",
       "      <td>2</td>\n",
       "      <td>0.997909</td>\n",
       "    </tr>\n",
       "    <tr>\n",
       "      <th>2</th>\n",
       "      <td>2100 SqFt Penthouse Suite W/ Strip Views! POOL...</td>\n",
       "      <td>Penthouse Apartment</td>\n",
       "      <td>8/3/2022</td>\n",
       "      <td>8/3/2022</td>\n",
       "      <td>2:00:00</td>\n",
       "      <td>US$254</td>\n",
       "      <td>3</td>\n",
       "      <td>0.997909</td>\n",
       "    </tr>\n",
       "    <tr>\n",
       "      <th>3</th>\n",
       "      <td>2100 SqFt Penthouse Suite W/ Strip Views! POOL...</td>\n",
       "      <td>Penthouse Apartment</td>\n",
       "      <td>8/3/2022</td>\n",
       "      <td>8/3/2022</td>\n",
       "      <td>3:00:00</td>\n",
       "      <td>US$254</td>\n",
       "      <td>4</td>\n",
       "      <td>0.997909</td>\n",
       "    </tr>\n",
       "    <tr>\n",
       "      <th>4</th>\n",
       "      <td>2100 SqFt Penthouse Suite W/ Strip Views! POOL...</td>\n",
       "      <td>Penthouse Apartment</td>\n",
       "      <td>8/3/2022</td>\n",
       "      <td>8/3/2022</td>\n",
       "      <td>4:00:00</td>\n",
       "      <td>US$254</td>\n",
       "      <td>5</td>\n",
       "      <td>0.997909</td>\n",
       "    </tr>\n",
       "  </tbody>\n",
       "</table>\n",
       "</div>"
      ],
      "text/plain": [
       "                                               Hotel            Room Type  \\\n",
       "0  2100 SqFt Penthouse Suite W/ Strip Views! POOL...  Penthouse Apartment   \n",
       "1  2100 SqFt Penthouse Suite W/ Strip Views! POOL...  Penthouse Apartment   \n",
       "2  2100 SqFt Penthouse Suite W/ Strip Views! POOL...  Penthouse Apartment   \n",
       "3  2100 SqFt Penthouse Suite W/ Strip Views! POOL...  Penthouse Apartment   \n",
       "4  2100 SqFt Penthouse Suite W/ Strip Views! POOL...  Penthouse Apartment   \n",
       "\n",
       "  Check-in Date Search Date Search Time    Rate  Id     score  \n",
       "0      8/3/2022    8/3/2022     0:00:00  US$254   1  0.997909  \n",
       "1      8/3/2022    8/3/2022     1:00:00  US$254   2  0.997909  \n",
       "2      8/3/2022    8/3/2022     2:00:00  US$254   3  0.997909  \n",
       "3      8/3/2022    8/3/2022     3:00:00  US$254   4  0.997909  \n",
       "4      8/3/2022    8/3/2022     4:00:00  US$254   5  0.997909  "
      ]
     },
     "execution_count": 90,
     "metadata": {},
     "output_type": "execute_result"
    }
   ],
   "source": [
    "sample.head()"
   ]
  },
  {
   "cell_type": "code",
   "execution_count": 91,
   "id": "50a4b177",
   "metadata": {},
   "outputs": [],
   "source": [
    "sample.to_csv('Travel_scrape_1.csv')"
   ]
  },
  {
   "cell_type": "code",
   "execution_count": 55,
   "id": "b2be21df",
   "metadata": {},
   "outputs": [
    {
     "data": {
      "text/plain": [
       "33"
      ]
     },
     "execution_count": 55,
     "metadata": {},
     "output_type": "execute_result"
    }
   ],
   "source": [
    "len(df['Room Type'].unique())"
   ]
  },
  {
   "cell_type": "code",
   "execution_count": 56,
   "id": "2b0e8726",
   "metadata": {},
   "outputs": [
    {
     "data": {
      "text/plain": [
       "array(['Penthouse Apartment',\n",
       "       'Standard King Room (No Resort Fees + Free Parking)',\n",
       "       'Standard room with Two Double Beds (No Resort Fees + Free Parking)',\n",
       "       'Junior Suite (No Resort Fees + Free Parking)',\n",
       "       'Deluxe King Room - Non-Smoking',\n",
       "       'Deluxe Queen Room with Two Queen Beds - Non-Smoking',\n",
       "       'King Room - Disability Access/Non-Smoking',\n",
       "       '2 Queen Beds Non-Smoking', '1 King Bed Non-Smoking',\n",
       "       'Luxury Queen Room with Two Queen Beds  - Non-Smoking',\n",
       "       'Luxury King Strip View Non Smoking', 'Deluxe King Suite',\n",
       "       'Solitaire Suite - ADA - Disability Access, Roll-In Shower',\n",
       "       'Traditional 2 Double Beds, Guest room, 2 Double',\n",
       "       'Accessible 1 King, Guest room, 1 King',\n",
       "       'Deluxe 2 Double Beds, Guest room, 2 Double, City view',\n",
       "       'Traditional, Guest room, 1 King, 3rd - 5th floor',\n",
       "       'Deluxe Double - View, Guest room, 2 Double, City view',\n",
       "       'Premium 2 Double Beds, Guest room, 2 Double',\n",
       "       'Deluxe Executive King Non-Smoking Suite',\n",
       "       'Deluxe Executive Double Non-Smoking Suite', 'Executive Suite',\n",
       "       'Deluxe Studio', 'Executive Double Room', 'Run of House',\n",
       "       'Deluxe Executive King Suite', 'Deluxe Executive Double Suite',\n",
       "       'Executive Smoking Suite', 'Executive Studio Suite',\n",
       "       'Poolview Executive Double Non-smoking Suite',\n",
       "       'Accessible Executive Non-Smoking Suite', 'Executive King',\n",
       "       'Executive Studio'], dtype=object)"
      ]
     },
     "execution_count": 56,
     "metadata": {},
     "output_type": "execute_result"
    }
   ],
   "source": [
    "df['Room Type'].unique()"
   ]
  }
 ],
 "metadata": {
  "kernelspec": {
   "display_name": "Python 3 (ipykernel)",
   "language": "python",
   "name": "python3"
  },
  "language_info": {
   "codemirror_mode": {
    "name": "ipython",
    "version": 3
   },
   "file_extension": ".py",
   "mimetype": "text/x-python",
   "name": "python",
   "nbconvert_exporter": "python",
   "pygments_lexer": "ipython3",
   "version": "3.8.13"
  },
  "varInspector": {
   "cols": {
    "lenName": 16,
    "lenType": 16,
    "lenVar": 40
   },
   "kernels_config": {
    "python": {
     "delete_cmd_postfix": "",
     "delete_cmd_prefix": "del ",
     "library": "var_list.py",
     "varRefreshCmd": "print(var_dic_list())"
    },
    "r": {
     "delete_cmd_postfix": ") ",
     "delete_cmd_prefix": "rm(",
     "library": "var_list.r",
     "varRefreshCmd": "cat(var_dic_list()) "
    }
   },
   "types_to_exclude": [
    "module",
    "function",
    "builtin_function_or_method",
    "instance",
    "_Feature"
   ],
   "window_display": false
  }
 },
 "nbformat": 4,
 "nbformat_minor": 5
}
