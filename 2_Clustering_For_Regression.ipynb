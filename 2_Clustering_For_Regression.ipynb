{
 "cells": [
  {
   "cell_type": "code",
   "execution_count": 1,
   "id": "7faa6dcb",
   "metadata": {},
   "outputs": [],
   "source": [
    "from sklearn.cluster import KMeans\n",
    "import pandas as pd\n",
    "import numpy as np\n",
    "from sklearn.preprocessing import MinMaxScaler\n",
    "import matplotlib.pyplot as plt # for data visualization\n",
    "from matplotlib import pyplot as plt\n",
    "import seaborn as sns # for statistical data visualization\n",
    "%matplotlib inline\n",
    "\n"
   ]
  },
  {
   "cell_type": "code",
   "execution_count": 2,
   "id": "32495438",
   "metadata": {},
   "outputs": [],
   "source": [
    "# Ignore warnings\n",
    "import warnings\n",
    "warnings.filterwarnings('ignore')"
   ]
  },
  {
   "cell_type": "code",
   "execution_count": 3,
   "id": "2d4279cd",
   "metadata": {},
   "outputs": [],
   "source": [
    "from sklearn.cluster import KMeans"
   ]
  },
  {
   "cell_type": "code",
   "execution_count": 4,
   "id": "52623536",
   "metadata": {},
   "outputs": [],
   "source": [
    "df = pd.read_csv(\"Travel_scrape.csv\")\n",
    "df.head()\n",
    "df = df.astype(str)"
   ]
  },
  {
   "cell_type": "code",
   "execution_count": 5,
   "id": "f4d55020",
   "metadata": {},
   "outputs": [
    {
     "data": {
      "text/plain": [
       "Hotel            0\n",
       "Room Type        0\n",
       "Rate             0\n",
       "Check-in Date    0\n",
       "Search Date      0\n",
       "Search Time      0\n",
       "Unnamed: 6       0\n",
       "dtype: int64"
      ]
     },
     "execution_count": 5,
     "metadata": {},
     "output_type": "execute_result"
    }
   ],
   "source": [
    "df.isnull().sum()"
   ]
  },
  {
   "cell_type": "code",
   "execution_count": 6,
   "id": "67478712",
   "metadata": {},
   "outputs": [
    {
     "name": "stdout",
     "output_type": "stream",
     "text": [
      "<class 'pandas.core.frame.DataFrame'>\n",
      "RangeIndex: 8051 entries, 0 to 8050\n",
      "Data columns (total 7 columns):\n",
      " #   Column         Non-Null Count  Dtype \n",
      "---  ------         --------------  ----- \n",
      " 0   Hotel          8051 non-null   object\n",
      " 1   Room Type      8051 non-null   object\n",
      " 2   Rate           8051 non-null   object\n",
      " 3   Check-in Date  8051 non-null   object\n",
      " 4   Search Date    8051 non-null   object\n",
      " 5   Search Time    8051 non-null   object\n",
      " 6   Unnamed: 6     8051 non-null   object\n",
      "dtypes: object(7)\n",
      "memory usage: 440.4+ KB\n"
     ]
    }
   ],
   "source": [
    "df.info()"
   ]
  },
  {
   "cell_type": "code",
   "execution_count": 7,
   "id": "e0be42d6",
   "metadata": {},
   "outputs": [
    {
     "data": {
      "text/html": [
       "<div>\n",
       "<style scoped>\n",
       "    .dataframe tbody tr th:only-of-type {\n",
       "        vertical-align: middle;\n",
       "    }\n",
       "\n",
       "    .dataframe tbody tr th {\n",
       "        vertical-align: top;\n",
       "    }\n",
       "\n",
       "    .dataframe thead th {\n",
       "        text-align: right;\n",
       "    }\n",
       "</style>\n",
       "<table border=\"1\" class=\"dataframe\">\n",
       "  <thead>\n",
       "    <tr style=\"text-align: right;\">\n",
       "      <th></th>\n",
       "      <th>Hotel</th>\n",
       "      <th>Room Type</th>\n",
       "      <th>Rate</th>\n",
       "      <th>Check-in Date</th>\n",
       "      <th>Search Date</th>\n",
       "      <th>Search Time</th>\n",
       "    </tr>\n",
       "  </thead>\n",
       "  <tbody>\n",
       "    <tr>\n",
       "      <th>0</th>\n",
       "      <td>2100 SqFt Penthouse Suite W/ Strip Views! POOL...</td>\n",
       "      <td>Penthouse Apartment</td>\n",
       "      <td>254</td>\n",
       "      <td>2022-08-03</td>\n",
       "      <td>2022-08-03</td>\n",
       "      <td>0:00:00</td>\n",
       "    </tr>\n",
       "    <tr>\n",
       "      <th>1</th>\n",
       "      <td>2100 SqFt Penthouse Suite W/ Strip Views! POOL...</td>\n",
       "      <td>Penthouse Apartment</td>\n",
       "      <td>254</td>\n",
       "      <td>2022-08-03</td>\n",
       "      <td>2022-08-03</td>\n",
       "      <td>1:00:00</td>\n",
       "    </tr>\n",
       "    <tr>\n",
       "      <th>2</th>\n",
       "      <td>2100 SqFt Penthouse Suite W/ Strip Views! POOL...</td>\n",
       "      <td>Penthouse Apartment</td>\n",
       "      <td>254</td>\n",
       "      <td>2022-08-03</td>\n",
       "      <td>2022-08-03</td>\n",
       "      <td>2:00:00</td>\n",
       "    </tr>\n",
       "    <tr>\n",
       "      <th>3</th>\n",
       "      <td>2100 SqFt Penthouse Suite W/ Strip Views! POOL...</td>\n",
       "      <td>Penthouse Apartment</td>\n",
       "      <td>254</td>\n",
       "      <td>2022-08-03</td>\n",
       "      <td>2022-08-03</td>\n",
       "      <td>3:00:00</td>\n",
       "    </tr>\n",
       "    <tr>\n",
       "      <th>4</th>\n",
       "      <td>2100 SqFt Penthouse Suite W/ Strip Views! POOL...</td>\n",
       "      <td>Penthouse Apartment</td>\n",
       "      <td>254</td>\n",
       "      <td>2022-08-03</td>\n",
       "      <td>2022-08-03</td>\n",
       "      <td>4:00:00</td>\n",
       "    </tr>\n",
       "  </tbody>\n",
       "</table>\n",
       "</div>"
      ],
      "text/plain": [
       "                                               Hotel            Room Type  \\\n",
       "0  2100 SqFt Penthouse Suite W/ Strip Views! POOL...  Penthouse Apartment   \n",
       "1  2100 SqFt Penthouse Suite W/ Strip Views! POOL...  Penthouse Apartment   \n",
       "2  2100 SqFt Penthouse Suite W/ Strip Views! POOL...  Penthouse Apartment   \n",
       "3  2100 SqFt Penthouse Suite W/ Strip Views! POOL...  Penthouse Apartment   \n",
       "4  2100 SqFt Penthouse Suite W/ Strip Views! POOL...  Penthouse Apartment   \n",
       "\n",
       "  Rate Check-in Date Search Date Search Time  \n",
       "0  254    2022-08-03  2022-08-03     0:00:00  \n",
       "1  254    2022-08-03  2022-08-03     1:00:00  \n",
       "2  254    2022-08-03  2022-08-03     2:00:00  \n",
       "3  254    2022-08-03  2022-08-03     3:00:00  \n",
       "4  254    2022-08-03  2022-08-03     4:00:00  "
      ]
     },
     "execution_count": 7,
     "metadata": {},
     "output_type": "execute_result"
    }
   ],
   "source": [
    "df.drop('Unnamed: 6', axis='columns', inplace=True)\n",
    "df = df.astype(str)\n",
    "df['Rate'] = df['Rate'].apply(lambda x: x[3:])\n",
    "df.head()"
   ]
  },
  {
   "cell_type": "code",
   "execution_count": 8,
   "id": "64f7ff05",
   "metadata": {},
   "outputs": [],
   "source": [
    "# df['Check-in Date'] = pd.to_datetime(df['Check-in Date'])\n",
    "# df['Search Date'] = pd.to_datetime(df['Search Date'])"
   ]
  },
  {
   "cell_type": "code",
   "execution_count": 9,
   "id": "f52c5d5b",
   "metadata": {},
   "outputs": [],
   "source": [
    "# df['Date_gap'] = df['Check-in Date'] - df['Search Date']\n",
    "# df[\"Date_gap\"]= df[\"Date_gap\"].replace( r\"days\",\"\", regex=True)\n",
    "# df[\"Date_gap\"]= df[\"Date_gap\"].replace( r\"days\",\"\", regex=True)"
   ]
  },
  {
   "cell_type": "code",
   "execution_count": 10,
   "id": "d4b91ca8",
   "metadata": {},
   "outputs": [],
   "source": [
    "#df[\"Date_gap\"]=df[\"Date_gap\"].apply(str)\n",
    "#df[\"Date_gap\"]= df[\"Date_gap\"].replace( r\"days\",\"\", regex=True)"
   ]
  },
  {
   "cell_type": "code",
   "execution_count": 11,
   "id": "de85f2d7",
   "metadata": {},
   "outputs": [],
   "source": [
    "#df['Date_gap'] = df['Date_gap'].apply(lambda x: x[:4])"
   ]
  },
  {
   "cell_type": "code",
   "execution_count": 12,
   "id": "558b207c",
   "metadata": {},
   "outputs": [
    {
     "data": {
      "text/html": [
       "<div>\n",
       "<style scoped>\n",
       "    .dataframe tbody tr th:only-of-type {\n",
       "        vertical-align: middle;\n",
       "    }\n",
       "\n",
       "    .dataframe tbody tr th {\n",
       "        vertical-align: top;\n",
       "    }\n",
       "\n",
       "    .dataframe thead th {\n",
       "        text-align: right;\n",
       "    }\n",
       "</style>\n",
       "<table border=\"1\" class=\"dataframe\">\n",
       "  <thead>\n",
       "    <tr style=\"text-align: right;\">\n",
       "      <th></th>\n",
       "      <th>Hotel</th>\n",
       "      <th>Room Type</th>\n",
       "      <th>Rate</th>\n",
       "      <th>Check-in Date</th>\n",
       "      <th>Search Date</th>\n",
       "      <th>Search Time</th>\n",
       "    </tr>\n",
       "  </thead>\n",
       "  <tbody>\n",
       "    <tr>\n",
       "      <th>8046</th>\n",
       "      <td>Tuscany Suites &amp; Casino</td>\n",
       "      <td>Executive Suite</td>\n",
       "      <td>121</td>\n",
       "      <td>2022-08-20</td>\n",
       "      <td>2022-08-07</td>\n",
       "      <td>21:00:00</td>\n",
       "    </tr>\n",
       "    <tr>\n",
       "      <th>8047</th>\n",
       "      <td>Tuscany Suites &amp; Casino</td>\n",
       "      <td>Executive Suite</td>\n",
       "      <td>139</td>\n",
       "      <td>2022-08-20</td>\n",
       "      <td>2022-08-07</td>\n",
       "      <td>22:00:00</td>\n",
       "    </tr>\n",
       "    <tr>\n",
       "      <th>8048</th>\n",
       "      <td>Tuscany Suites &amp; Casino</td>\n",
       "      <td>Deluxe Executive King Non-Smoking Suite</td>\n",
       "      <td>168</td>\n",
       "      <td>2022-08-20</td>\n",
       "      <td>2022-08-07</td>\n",
       "      <td>23:00:00</td>\n",
       "    </tr>\n",
       "    <tr>\n",
       "      <th>8049</th>\n",
       "      <td>Tuscany Suites &amp; Casino</td>\n",
       "      <td>Executive Suite</td>\n",
       "      <td>143</td>\n",
       "      <td>2022-08-20</td>\n",
       "      <td>2022-08-08</td>\n",
       "      <td>0:00:00</td>\n",
       "    </tr>\n",
       "    <tr>\n",
       "      <th>8050</th>\n",
       "      <td>Tuscany Suites &amp; Casino</td>\n",
       "      <td>Executive Double Room</td>\n",
       "      <td>147</td>\n",
       "      <td>2022-08-20</td>\n",
       "      <td>2022-08-08</td>\n",
       "      <td>0:00:00</td>\n",
       "    </tr>\n",
       "  </tbody>\n",
       "</table>\n",
       "</div>"
      ],
      "text/plain": [
       "                        Hotel                                Room Type Rate  \\\n",
       "8046  Tuscany Suites & Casino                          Executive Suite  121   \n",
       "8047  Tuscany Suites & Casino                          Executive Suite  139   \n",
       "8048  Tuscany Suites & Casino  Deluxe Executive King Non-Smoking Suite  168   \n",
       "8049  Tuscany Suites & Casino                          Executive Suite  143   \n",
       "8050  Tuscany Suites & Casino                    Executive Double Room  147   \n",
       "\n",
       "     Check-in Date Search Date Search Time  \n",
       "8046    2022-08-20  2022-08-07    21:00:00  \n",
       "8047    2022-08-20  2022-08-07    22:00:00  \n",
       "8048    2022-08-20  2022-08-07    23:00:00  \n",
       "8049    2022-08-20  2022-08-08     0:00:00  \n",
       "8050    2022-08-20  2022-08-08     0:00:00  "
      ]
     },
     "execution_count": 12,
     "metadata": {},
     "output_type": "execute_result"
    }
   ],
   "source": [
    "df.tail()"
   ]
  },
  {
   "cell_type": "code",
   "execution_count": 13,
   "id": "bab150be",
   "metadata": {},
   "outputs": [
    {
     "name": "stdout",
     "output_type": "stream",
     "text": [
      "<class 'pandas.core.frame.DataFrame'>\n",
      "RangeIndex: 8051 entries, 0 to 8050\n",
      "Data columns (total 6 columns):\n",
      " #   Column         Non-Null Count  Dtype \n",
      "---  ------         --------------  ----- \n",
      " 0   Hotel          8051 non-null   object\n",
      " 1   Room Type      8051 non-null   object\n",
      " 2   Rate           8051 non-null   object\n",
      " 3   Check-in Date  8051 non-null   object\n",
      " 4   Search Date    8051 non-null   object\n",
      " 5   Search Time    8051 non-null   object\n",
      "dtypes: object(6)\n",
      "memory usage: 377.5+ KB\n"
     ]
    }
   ],
   "source": [
    "df.info()"
   ]
  },
  {
   "cell_type": "code",
   "execution_count": 14,
   "id": "c38c3796",
   "metadata": {},
   "outputs": [
    {
     "data": {
      "text/plain": [
       "Hotel            0\n",
       "Room Type        0\n",
       "Rate             0\n",
       "Check-in Date    0\n",
       "Search Date      0\n",
       "Search Time      0\n",
       "dtype: int64"
      ]
     },
     "execution_count": 14,
     "metadata": {},
     "output_type": "execute_result"
    }
   ],
   "source": [
    "# Check missing values\n",
    "df.isnull().sum()"
   ]
  },
  {
   "cell_type": "code",
   "execution_count": 15,
   "id": "bdc53f70",
   "metadata": {},
   "outputs": [
    {
     "data": {
      "text/plain": [
       "7"
      ]
     },
     "execution_count": 15,
     "metadata": {},
     "output_type": "execute_result"
    }
   ],
   "source": [
    "len(df['Hotel'].unique())"
   ]
  },
  {
   "cell_type": "code",
   "execution_count": 16,
   "id": "4ce7d1c9",
   "metadata": {},
   "outputs": [
    {
     "data": {
      "text/plain": [
       "33"
      ]
     },
     "execution_count": 16,
     "metadata": {},
     "output_type": "execute_result"
    }
   ],
   "source": [
    "len(df['Room Type'].unique())"
   ]
  },
  {
   "cell_type": "code",
   "execution_count": 17,
   "id": "ab2e366f",
   "metadata": {},
   "outputs": [],
   "source": [
    "X = df\n",
    "y = df['Room Type']\n",
    "# Convert Categorical values to Numericals\n",
    "\n",
    "df.drop(['Check-in Date', 'Search Date'], axis=1, inplace=True)"
   ]
  },
  {
   "cell_type": "code",
   "execution_count": 18,
   "id": "28063a70",
   "metadata": {},
   "outputs": [],
   "source": [
    "from sklearn.preprocessing import LabelEncoder\n",
    "\n",
    "le = LabelEncoder()\n",
    "\n",
    "X['Hotel'] = le.fit_transform(X['Hotel'])\n",
    "X['Room Type'] = le.fit_transform(X['Room Type'])\n",
    "X['Search Time'] = le.fit_transform(X['Search Time'])"
   ]
  },
  {
   "cell_type": "code",
   "execution_count": 19,
   "id": "ff7a7396",
   "metadata": {},
   "outputs": [
    {
     "data": {
      "text/html": [
       "<div>\n",
       "<style scoped>\n",
       "    .dataframe tbody tr th:only-of-type {\n",
       "        vertical-align: middle;\n",
       "    }\n",
       "\n",
       "    .dataframe tbody tr th {\n",
       "        vertical-align: top;\n",
       "    }\n",
       "\n",
       "    .dataframe thead th {\n",
       "        text-align: right;\n",
       "    }\n",
       "</style>\n",
       "<table border=\"1\" class=\"dataframe\">\n",
       "  <thead>\n",
       "    <tr style=\"text-align: right;\">\n",
       "      <th></th>\n",
       "      <th>Hotel</th>\n",
       "      <th>Room Type</th>\n",
       "      <th>Rate</th>\n",
       "      <th>Search Time</th>\n",
       "    </tr>\n",
       "  </thead>\n",
       "  <tbody>\n",
       "    <tr>\n",
       "      <th>8046</th>\n",
       "      <td>6</td>\n",
       "      <td>19</td>\n",
       "      <td>121</td>\n",
       "      <td>13</td>\n",
       "    </tr>\n",
       "    <tr>\n",
       "      <th>8047</th>\n",
       "      <td>6</td>\n",
       "      <td>19</td>\n",
       "      <td>139</td>\n",
       "      <td>14</td>\n",
       "    </tr>\n",
       "    <tr>\n",
       "      <th>8048</th>\n",
       "      <td>6</td>\n",
       "      <td>8</td>\n",
       "      <td>168</td>\n",
       "      <td>15</td>\n",
       "    </tr>\n",
       "    <tr>\n",
       "      <th>8049</th>\n",
       "      <td>6</td>\n",
       "      <td>19</td>\n",
       "      <td>143</td>\n",
       "      <td>0</td>\n",
       "    </tr>\n",
       "    <tr>\n",
       "      <th>8050</th>\n",
       "      <td>6</td>\n",
       "      <td>14</td>\n",
       "      <td>147</td>\n",
       "      <td>0</td>\n",
       "    </tr>\n",
       "  </tbody>\n",
       "</table>\n",
       "</div>"
      ],
      "text/plain": [
       "      Hotel  Room Type Rate  Search Time\n",
       "8046      6         19  121           13\n",
       "8047      6         19  139           14\n",
       "8048      6          8  168           15\n",
       "8049      6         19  143            0\n",
       "8050      6         14  147            0"
      ]
     },
     "execution_count": 19,
     "metadata": {},
     "output_type": "execute_result"
    }
   ],
   "source": [
    "X.tail()"
   ]
  },
  {
   "cell_type": "markdown",
   "id": "3c6ad18b",
   "metadata": {},
   "source": [
    "###  Feature Scaling"
   ]
  },
  {
   "cell_type": "code",
   "execution_count": 20,
   "id": "7062f38f",
   "metadata": {},
   "outputs": [],
   "source": [
    "cols = X.columns"
   ]
  },
  {
   "cell_type": "code",
   "execution_count": 21,
   "id": "3f7a5db6",
   "metadata": {},
   "outputs": [],
   "source": [
    "from sklearn.preprocessing import MinMaxScaler\n",
    "ms = MinMaxScaler()\n",
    "\n",
    "X = ms.fit_transform(X)"
   ]
  },
  {
   "cell_type": "code",
   "execution_count": 22,
   "id": "ecccfee3",
   "metadata": {},
   "outputs": [],
   "source": [
    "X = pd.DataFrame(X, columns=[cols])"
   ]
  },
  {
   "cell_type": "code",
   "execution_count": 23,
   "id": "c919f094",
   "metadata": {},
   "outputs": [
    {
     "data": {
      "text/html": [
       "<div>\n",
       "<style scoped>\n",
       "    .dataframe tbody tr th:only-of-type {\n",
       "        vertical-align: middle;\n",
       "    }\n",
       "\n",
       "    .dataframe tbody tr th {\n",
       "        vertical-align: top;\n",
       "    }\n",
       "\n",
       "    .dataframe thead tr th {\n",
       "        text-align: left;\n",
       "    }\n",
       "</style>\n",
       "<table border=\"1\" class=\"dataframe\">\n",
       "  <thead>\n",
       "    <tr>\n",
       "      <th></th>\n",
       "      <th>Hotel</th>\n",
       "      <th>Room Type</th>\n",
       "      <th>Rate</th>\n",
       "      <th>Search Time</th>\n",
       "    </tr>\n",
       "  </thead>\n",
       "  <tbody>\n",
       "    <tr>\n",
       "      <th>0</th>\n",
       "      <td>0.0</td>\n",
       "      <td>0.75</td>\n",
       "      <td>0.30148</td>\n",
       "      <td>0.000000</td>\n",
       "    </tr>\n",
       "    <tr>\n",
       "      <th>1</th>\n",
       "      <td>0.0</td>\n",
       "      <td>0.75</td>\n",
       "      <td>0.30148</td>\n",
       "      <td>0.478261</td>\n",
       "    </tr>\n",
       "    <tr>\n",
       "      <th>2</th>\n",
       "      <td>0.0</td>\n",
       "      <td>0.75</td>\n",
       "      <td>0.30148</td>\n",
       "      <td>0.695652</td>\n",
       "    </tr>\n",
       "    <tr>\n",
       "      <th>3</th>\n",
       "      <td>0.0</td>\n",
       "      <td>0.75</td>\n",
       "      <td>0.30148</td>\n",
       "      <td>0.739130</td>\n",
       "    </tr>\n",
       "    <tr>\n",
       "      <th>4</th>\n",
       "      <td>0.0</td>\n",
       "      <td>0.75</td>\n",
       "      <td>0.30148</td>\n",
       "      <td>0.782609</td>\n",
       "    </tr>\n",
       "  </tbody>\n",
       "</table>\n",
       "</div>"
      ],
      "text/plain": [
       "  Hotel Room Type     Rate Search Time\n",
       "0   0.0      0.75  0.30148    0.000000\n",
       "1   0.0      0.75  0.30148    0.478261\n",
       "2   0.0      0.75  0.30148    0.695652\n",
       "3   0.0      0.75  0.30148    0.739130\n",
       "4   0.0      0.75  0.30148    0.782609"
      ]
     },
     "execution_count": 23,
     "metadata": {},
     "output_type": "execute_result"
    }
   ],
   "source": [
    "X.head()"
   ]
  },
  {
   "cell_type": "markdown",
   "id": "1a1774d2",
   "metadata": {},
   "source": [
    "## K-Means model with N clusters"
   ]
  },
  {
   "cell_type": "code",
   "execution_count": 24,
   "id": "469a0dfe",
   "metadata": {},
   "outputs": [
    {
     "data": {
      "text/html": [
       "<style>#sk-container-id-1 {color: black;background-color: white;}#sk-container-id-1 pre{padding: 0;}#sk-container-id-1 div.sk-toggleable {background-color: white;}#sk-container-id-1 label.sk-toggleable__label {cursor: pointer;display: block;width: 100%;margin-bottom: 0;padding: 0.3em;box-sizing: border-box;text-align: center;}#sk-container-id-1 label.sk-toggleable__label-arrow:before {content: \"▸\";float: left;margin-right: 0.25em;color: #696969;}#sk-container-id-1 label.sk-toggleable__label-arrow:hover:before {color: black;}#sk-container-id-1 div.sk-estimator:hover label.sk-toggleable__label-arrow:before {color: black;}#sk-container-id-1 div.sk-toggleable__content {max-height: 0;max-width: 0;overflow: hidden;text-align: left;background-color: #f0f8ff;}#sk-container-id-1 div.sk-toggleable__content pre {margin: 0.2em;color: black;border-radius: 0.25em;background-color: #f0f8ff;}#sk-container-id-1 input.sk-toggleable__control:checked~div.sk-toggleable__content {max-height: 200px;max-width: 100%;overflow: auto;}#sk-container-id-1 input.sk-toggleable__control:checked~label.sk-toggleable__label-arrow:before {content: \"▾\";}#sk-container-id-1 div.sk-estimator input.sk-toggleable__control:checked~label.sk-toggleable__label {background-color: #d4ebff;}#sk-container-id-1 div.sk-label input.sk-toggleable__control:checked~label.sk-toggleable__label {background-color: #d4ebff;}#sk-container-id-1 input.sk-hidden--visually {border: 0;clip: rect(1px 1px 1px 1px);clip: rect(1px, 1px, 1px, 1px);height: 1px;margin: -1px;overflow: hidden;padding: 0;position: absolute;width: 1px;}#sk-container-id-1 div.sk-estimator {font-family: monospace;background-color: #f0f8ff;border: 1px dotted black;border-radius: 0.25em;box-sizing: border-box;margin-bottom: 0.5em;}#sk-container-id-1 div.sk-estimator:hover {background-color: #d4ebff;}#sk-container-id-1 div.sk-parallel-item::after {content: \"\";width: 100%;border-bottom: 1px solid gray;flex-grow: 1;}#sk-container-id-1 div.sk-label:hover label.sk-toggleable__label {background-color: #d4ebff;}#sk-container-id-1 div.sk-serial::before {content: \"\";position: absolute;border-left: 1px solid gray;box-sizing: border-box;top: 0;bottom: 0;left: 50%;z-index: 0;}#sk-container-id-1 div.sk-serial {display: flex;flex-direction: column;align-items: center;background-color: white;padding-right: 0.2em;padding-left: 0.2em;position: relative;}#sk-container-id-1 div.sk-item {position: relative;z-index: 1;}#sk-container-id-1 div.sk-parallel {display: flex;align-items: stretch;justify-content: center;background-color: white;position: relative;}#sk-container-id-1 div.sk-item::before, #sk-container-id-1 div.sk-parallel-item::before {content: \"\";position: absolute;border-left: 1px solid gray;box-sizing: border-box;top: 0;bottom: 0;left: 50%;z-index: -1;}#sk-container-id-1 div.sk-parallel-item {display: flex;flex-direction: column;z-index: 1;position: relative;background-color: white;}#sk-container-id-1 div.sk-parallel-item:first-child::after {align-self: flex-end;width: 50%;}#sk-container-id-1 div.sk-parallel-item:last-child::after {align-self: flex-start;width: 50%;}#sk-container-id-1 div.sk-parallel-item:only-child::after {width: 0;}#sk-container-id-1 div.sk-dashed-wrapped {border: 1px dashed gray;margin: 0 0.4em 0.5em 0.4em;box-sizing: border-box;padding-bottom: 0.4em;background-color: white;}#sk-container-id-1 div.sk-label label {font-family: monospace;font-weight: bold;display: inline-block;line-height: 1.2em;}#sk-container-id-1 div.sk-label-container {text-align: center;}#sk-container-id-1 div.sk-container {/* jupyter's `normalize.less` sets `[hidden] { display: none; }` but bootstrap.min.css set `[hidden] { display: none !important; }` so we also need the `!important` here to be able to override the default hidden behavior on the sphinx rendered scikit-learn.org. See: https://github.com/scikit-learn/scikit-learn/issues/21755 */display: inline-block !important;position: relative;}#sk-container-id-1 div.sk-text-repr-fallback {display: none;}</style><div id=\"sk-container-id-1\" class=\"sk-top-container\"><div class=\"sk-text-repr-fallback\"><pre>KMeans(n_clusters=3, random_state=0)</pre><b>In a Jupyter environment, please rerun this cell to show the HTML representation or trust the notebook. <br />On GitHub, the HTML representation is unable to render, please try loading this page with nbviewer.org.</b></div><div class=\"sk-container\" hidden><div class=\"sk-item\"><div class=\"sk-estimator sk-toggleable\"><input class=\"sk-toggleable__control sk-hidden--visually\" id=\"sk-estimator-id-1\" type=\"checkbox\" checked><label for=\"sk-estimator-id-1\" class=\"sk-toggleable__label sk-toggleable__label-arrow\">KMeans</label><div class=\"sk-toggleable__content\"><pre>KMeans(n_clusters=3, random_state=0)</pre></div></div></div></div></div>"
      ],
      "text/plain": [
       "KMeans(n_clusters=3, random_state=0)"
      ]
     },
     "execution_count": 24,
     "metadata": {},
     "output_type": "execute_result"
    }
   ],
   "source": [
    "from sklearn.cluster import KMeans\n",
    "\n",
    "kmeans = KMeans(n_clusters=3, random_state=0) \n",
    "\n",
    "kmeans.fit(X)"
   ]
  },
  {
   "cell_type": "markdown",
   "id": "ca28cde1",
   "metadata": {},
   "source": [
    "## K-Means model parameters study"
   ]
  },
  {
   "cell_type": "code",
   "execution_count": 25,
   "id": "654a99ca",
   "metadata": {},
   "outputs": [
    {
     "data": {
      "text/plain": [
       "array([[0.12278296, 0.84954402, 0.27057436, 0.48584512],\n",
       "       [0.6579194 , 0.41003788, 0.15695423, 0.22956141],\n",
       "       [0.65824248, 0.40421622, 0.15590862, 0.7615231 ]])"
      ]
     },
     "execution_count": 25,
     "metadata": {},
     "output_type": "execute_result"
    }
   ],
   "source": [
    "kmeans.cluster_centers_"
   ]
  },
  {
   "cell_type": "code",
   "execution_count": 26,
   "id": "56016d2e",
   "metadata": {},
   "outputs": [
    {
     "data": {
      "text/plain": [
       "1281.211266274921"
      ]
     },
     "execution_count": 26,
     "metadata": {},
     "output_type": "execute_result"
    }
   ],
   "source": [
    "kmeans.inertia_"
   ]
  },
  {
   "cell_type": "code",
   "execution_count": 27,
   "id": "93643897",
   "metadata": {},
   "outputs": [
    {
     "name": "stdout",
     "output_type": "stream",
     "text": [
      "Result: 0 out of 8051 samples were correctly labeled.\n"
     ]
    }
   ],
   "source": [
    "labels = kmeans.labels_\n",
    "\n",
    "# check how many of the samples were correctly labeled\n",
    "correct_labels = sum(y == labels)\n",
    "\n",
    "print(\"Result: %d out of %d samples were correctly labeled.\" % (correct_labels, y.size))"
   ]
  },
  {
   "cell_type": "code",
   "execution_count": 28,
   "id": "65a27a85",
   "metadata": {},
   "outputs": [
    {
     "name": "stdout",
     "output_type": "stream",
     "text": [
      "Accuracy score: 0.00\n"
     ]
    }
   ],
   "source": [
    "print('Accuracy score: {0:0.2f}'. format(correct_labels/float(y.size)))"
   ]
  },
  {
   "cell_type": "code",
   "execution_count": null,
   "id": "bc967a82",
   "metadata": {},
   "outputs": [],
   "source": []
  },
  {
   "cell_type": "code",
   "execution_count": 29,
   "id": "ce54bec3",
   "metadata": {},
   "outputs": [],
   "source": [
    "# Elbow Plot"
   ]
  },
  {
   "cell_type": "code",
   "execution_count": 36,
   "id": "34f11bdb",
   "metadata": {},
   "outputs": [
    {
     "data": {
      "image/png": "[encoded data removed]",
      "text/plain": [
       "<Figure size 432x288 with 1 Axes>"
      ]
     },
     "metadata": {
      "needs_background": "light"
     },
     "output_type": "display_data"
    }
   ],
   "source": [
    "from sklearn.cluster import KMeans\n",
    "cs = []\n",
    "for i in range(1, 11):\n",
    "    kmeans = KMeans(n_clusters = i, init = 'k-means++', max_iter = 300, n_init = 10, random_state = 0)\n",
    "    kmeans.fit(X)\n",
    "    cs.append(kmeans.inertia_)\n",
    "plt.plot(range(1, 11), cs)\n",
    "plt.title('The Elbow Method')\n",
    "plt.xlabel('Number of clusters')\n",
    "plt.ylabel('CS')\n",
    "plt.show()"
   ]
  },
  {
   "cell_type": "code",
   "execution_count": null,
   "id": "4df3a4ee",
   "metadata": {},
   "outputs": [],
   "source": []
  },
  {
   "cell_type": "code",
   "execution_count": null,
   "id": "b80f2a78",
   "metadata": {},
   "outputs": [],
   "source": []
  }
 ],
 "metadata": {
  "kernelspec": {
   "display_name": "Python 3 (ipykernel)",
   "language": "python",
   "name": "python3"
  },
  "language_info": {
   "codemirror_mode": {
    "name": "ipython",
    "version": 3
   },
   "file_extension": ".py",
   "mimetype": "text/x-python",
   "name": "python",
   "nbconvert_exporter": "python",
   "pygments_lexer": "ipython3",
   "version": "3.8.13"
  },
  "varInspector": {
   "cols": {
    "lenName": 16,
    "lenType": 16,
    "lenVar": 40
   },
   "kernels_config": {
    "python": {
     "delete_cmd_postfix": "",
     "delete_cmd_prefix": "del ",
     "library": "var_list.py",
     "varRefreshCmd": "print(var_dic_list())"
    },
    "r": {
     "delete_cmd_postfix": ") ",
     "delete_cmd_prefix": "rm(",
     "library": "var_list.r",
     "varRefreshCmd": "cat(var_dic_list()) "
    }
   },
   "types_to_exclude": [
    "module",
    "function",
    "builtin_function_or_method",
    "instance",
    "_Feature"
   ],
   "window_display": false
  }
 },
 "nbformat": 4,
 "nbformat_minor": 5
}
